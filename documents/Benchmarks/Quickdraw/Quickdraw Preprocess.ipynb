{
 "cells": [
  {
   "cell_type": "code",
   "execution_count": 1,
   "id": "cosmetic-personality",
   "metadata": {},
   "outputs": [],
   "source": [
    "import tensorflow as tf\n",
    "import keras\n",
    "from keras.layers import Input, Dense, Flatten, LSTM, Conv1D\n",
    "from keras.models import Model\n",
    "from keras.optimizers import Adam\n",
    "from sklearn.model_selection import train_test_split\n",
    "import os\n",
    "import h5py\n",
    "import pandas as pd\n",
    "import numpy as np\n",
    "import pathlib\n",
    "import functools\n",
    "import glob"
   ]
  },
  {
   "cell_type": "code",
   "execution_count": 2,
   "id": "medieval-enclosure",
   "metadata": {},
   "outputs": [],
   "source": [
    "ant = np.load('sketchrnn_ant.full.npz', allow_pickle = True, encoding='latin1')\n",
    "bee = np.load('sketchrnn_bee.full.npz', allow_pickle = True, encoding='latin1')\n",
    "butterfly = np.load('sketchrnn_butterfly.full.npz', allow_pickle = True, encoding='latin1')\n",
    "mosquito = np.load('sketchrnn_mosquito.full.npz', allow_pickle = True, encoding='latin1')\n",
    "snail = np.load('sketchrnn_snail.full.npz', allow_pickle = True, encoding='latin1')"
   ]
  },
  {
   "cell_type": "code",
   "execution_count": 3,
   "id": "native-feature",
   "metadata": {},
   "outputs": [],
   "source": [
    "anttrain = ant['train']"
   ]
  },
  {
   "cell_type": "code",
   "execution_count": 4,
   "id": "logical-mention",
   "metadata": {},
   "outputs": [],
   "source": [
    "beetrain = np.concatenate((bee['test'], bee['test']))"
   ]
  },
  {
   "cell_type": "code",
   "execution_count": 5,
   "id": "turkish-immune",
   "metadata": {},
   "outputs": [],
   "source": [
    "buttrain= np.concatenate((butterfly['test'], butterfly['test']))"
   ]
  },
  {
   "cell_type": "code",
   "execution_count": 6,
   "id": "specific-plaintiff",
   "metadata": {},
   "outputs": [],
   "source": [
    "mosqtrain = np.concatenate((mosquito['test'], mosquito['valid']))"
   ]
  },
  {
   "cell_type": "code",
   "execution_count": 7,
   "id": "neither-oklahoma",
   "metadata": {},
   "outputs": [],
   "source": [
    "snailtrain = np.concatenate((snail['train'], snail['valid']))"
   ]
  },
  {
   "cell_type": "code",
   "execution_count": 8,
   "id": "centered-footage",
   "metadata": {},
   "outputs": [],
   "source": [
    "X_train = np.concatenate((anttrain, beetrain, buttrain, mosqtrain, snailtrain))"
   ]
  },
  {
   "cell_type": "code",
   "execution_count": 9,
   "id": "thermal-primary",
   "metadata": {},
   "outputs": [
    {
     "data": {
      "text/plain": [
       "(242263,)"
      ]
     },
     "execution_count": 9,
     "metadata": {},
     "output_type": "execute_result"
    }
   ],
   "source": [
    "X_train.shape"
   ]
  },
  {
   "cell_type": "code",
   "execution_count": 10,
   "id": "legitimate-drove",
   "metadata": {},
   "outputs": [],
   "source": [
    "np.save('X_train', X_train)"
   ]
  },
  {
   "cell_type": "code",
   "execution_count": 11,
   "id": "brief-mason",
   "metadata": {},
   "outputs": [],
   "source": [
    "antlab = np.zeros(anttrain.shape)"
   ]
  },
  {
   "cell_type": "code",
   "execution_count": 12,
   "id": "emerging-capture",
   "metadata": {},
   "outputs": [],
   "source": [
    "beelab = np.zeros(beetrain.shape) + 1"
   ]
  },
  {
   "cell_type": "code",
   "execution_count": 13,
   "id": "protective-stream",
   "metadata": {},
   "outputs": [],
   "source": [
    "buttlab = np.zeros(buttrain.shape) + 2"
   ]
  },
  {
   "cell_type": "code",
   "execution_count": 14,
   "id": "english-architecture",
   "metadata": {},
   "outputs": [],
   "source": [
    "mosqlab = np.zeros(mosqtrain.shape) + 3"
   ]
  },
  {
   "cell_type": "code",
   "execution_count": 15,
   "id": "impaired-flexibility",
   "metadata": {},
   "outputs": [],
   "source": [
    "snaillab = np.zeros(snailtrain.shape) + 4"
   ]
  },
  {
   "cell_type": "code",
   "execution_count": 16,
   "id": "statutory-duplicate",
   "metadata": {},
   "outputs": [],
   "source": [
    "y_train = np.concatenate((antlab, beelab, buttlab, mosqlab, snaillab))"
   ]
  },
  {
   "cell_type": "code",
   "execution_count": 17,
   "id": "chronic-durham",
   "metadata": {},
   "outputs": [
    {
     "data": {
      "text/plain": [
       "(242263,)"
      ]
     },
     "execution_count": 17,
     "metadata": {},
     "output_type": "execute_result"
    }
   ],
   "source": [
    "y_train.shape"
   ]
  },
  {
   "cell_type": "code",
   "execution_count": 18,
   "id": "metropolitan-annex",
   "metadata": {},
   "outputs": [],
   "source": [
    "np.save('y_train', y_train)"
   ]
  },
  {
   "cell_type": "code",
   "execution_count": 19,
   "id": "important-channels",
   "metadata": {},
   "outputs": [
    {
     "data": {
      "text/plain": [
       "(46, 3)"
      ]
     },
     "execution_count": 19,
     "metadata": {},
     "output_type": "execute_result"
    }
   ],
   "source": [
    "X_train[2].shape"
   ]
  },
  {
   "cell_type": "code",
   "execution_count": 20,
   "id": "amateur-reducing",
   "metadata": {},
   "outputs": [],
   "source": [
    "anttest = ant['test']\n",
    "beetest = bee['test']\n",
    "butttest = butterfly['test']\n",
    "mosqtest = mosquito['test']\n",
    "snailtest = snail['test']"
   ]
  },
  {
   "cell_type": "code",
   "execution_count": 21,
   "id": "magnetic-solution",
   "metadata": {},
   "outputs": [],
   "source": [
    "X_test = np.concatenate((anttest, beetest, butttest, mosqtest, snailtest))"
   ]
  },
  {
   "cell_type": "code",
   "execution_count": 22,
   "id": "certain-hunter",
   "metadata": {},
   "outputs": [],
   "source": [
    "np.save('X_test', X_test)"
   ]
  },
  {
   "cell_type": "code",
   "execution_count": 23,
   "id": "average-diesel",
   "metadata": {},
   "outputs": [],
   "source": [
    "antlab = np.zeros(anttest.shape)\n",
    "beelab = np.zeros(beetest.shape) + 1\n",
    "buttlab = np.zeros(butttest.shape) + 2\n",
    "mosqlab = np.zeros(mosqtest.shape) + 3\n",
    "snaillab = np.zeros(snailtest.shape) + 4"
   ]
  },
  {
   "cell_type": "code",
   "execution_count": 24,
   "id": "spoken-weather",
   "metadata": {},
   "outputs": [],
   "source": [
    "y_test = np.concatenate((antlab, beelab, buttlab, mosqlab, snaillab))"
   ]
  },
  {
   "cell_type": "code",
   "execution_count": 25,
   "id": "accredited-expense",
   "metadata": {},
   "outputs": [
    {
     "data": {
      "text/plain": [
       "(12500,)"
      ]
     },
     "execution_count": 25,
     "metadata": {},
     "output_type": "execute_result"
    }
   ],
   "source": [
    "y_test.shape"
   ]
  },
  {
   "cell_type": "code",
   "execution_count": 26,
   "id": "finnish-mortality",
   "metadata": {},
   "outputs": [
    {
     "data": {
      "text/plain": [
       "(12500,)"
      ]
     },
     "execution_count": 26,
     "metadata": {},
     "output_type": "execute_result"
    }
   ],
   "source": [
    "X_test.shape"
   ]
  },
  {
   "cell_type": "code",
   "execution_count": 27,
   "id": "ambient-transportation",
   "metadata": {},
   "outputs": [],
   "source": [
    "np.save('y_test', y_test)"
   ]
  },
  {
   "cell_type": "code",
   "execution_count": 28,
   "id": "designing-romania",
   "metadata": {},
   "outputs": [],
   "source": [
    "np.save('X_test', X_test)"
   ]
  },
  {
   "cell_type": "code",
   "execution_count": 29,
   "id": "approved-treaty",
   "metadata": {},
   "outputs": [
    {
     "data": {
      "text/plain": [
       "(242263,)"
      ]
     },
     "execution_count": 29,
     "metadata": {},
     "output_type": "execute_result"
    }
   ],
   "source": [
    "X_train.shape"
   ]
  },
  {
   "cell_type": "code",
   "execution_count": null,
   "id": "cbcbbd00",
   "metadata": {},
   "outputs": [],
   "source": []
  }
 ],
 "metadata": {
  "kernelspec": {
   "display_name": "Python 3 (ipykernel)",
   "language": "python",
   "name": "python3"
  },
  "language_info": {
   "codemirror_mode": {
    "name": "ipython",
    "version": 3
   },
   "file_extension": ".py",
   "mimetype": "text/x-python",
   "name": "python",
   "nbconvert_exporter": "python",
   "pygments_lexer": "ipython3",
   "version": "3.8.13"
  }
 },
 "nbformat": 4,
 "nbformat_minor": 5
}
