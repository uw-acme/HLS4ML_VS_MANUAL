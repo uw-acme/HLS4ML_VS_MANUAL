{
 "cells": [
  {
   "cell_type": "code",
   "execution_count": 1,
   "metadata": {
    "id": "fvjROtsCvh1U"
   },
   "outputs": [],
   "source": [
    "import json\n",
    "import pandas as pd\n",
    "import h5py\n",
    "import numpy as np\n",
    "import tensorflow as tf\n",
    "import keras\n",
    "from keras.layers import Input, Dense, Dropout, LSTM, Flatten, GRU,TimeDistributed, Conv1D, BatchNormalization\n",
    "from keras.models import Model, Sequential\n",
    "from keras.optimizers import Adam, SGD\n",
    "from sklearn.model_selection import train_test_split\n",
    "import os\n",
    "import h5py\n",
    "import matplotlib.pyplot as plt\n",
    "from keras import regularizers\n",
    "from tensorflow.keras.regularizers import l1\n",
    "import ast\n",
    "from tqdm import tqdm\n",
    "from sklearn.model_selection import RandomizedSearchCV\n",
    "from scipy.stats import uniform, truncnorm, randint\n",
    "from sklearn.metrics import make_scorer\n",
    "from sklearn.metrics import accuracy_score, precision_score, recall_score\n",
    "from sklearn.model_selection import RepeatedStratifiedKFold\n",
    "from scipy.stats import loguniform\n",
    "from pandas import read_csv\n",
    "from keras.wrappers.scikit_learn import KerasClassifier\n",
    "from sklearn.metrics import roc_auc_score\n",
    "from qkeras import *\n",
    "import qkeras\n",
    "from tensorflow.keras.models import load_model\n",
    "from qkeras.utils import model_quantize\n",
    "from qkeras.utils import model_save_quantized_weights\n",
    "\n",
    "import matplotlib.pyplot as plt"
   ]
  },
  {
   "cell_type": "code",
   "execution_count": 5,
   "metadata": {
    "colab": {
     "base_uri": "https://localhost:8080/"
    },
    "id": "s95iq_U-3-XR",
    "outputId": "81ea0533-cf3f-45b4-9d0a-9f24eea7e2a4"
   },
   "outputs": [
    {
     "ename": "ModuleNotFoundError",
     "evalue": "No module named 'google.colab'",
     "output_type": "error",
     "traceback": [
      "\u001b[1;31m---------------------------------------------------------------------------\u001b[0m",
      "\u001b[1;31mModuleNotFoundError\u001b[0m                       Traceback (most recent call last)",
      "Cell \u001b[1;32mIn [5], line 1\u001b[0m\n\u001b[1;32m----> 1\u001b[0m \u001b[38;5;28;01mfrom\u001b[39;00m \u001b[38;5;21;01mgoogle\u001b[39;00m\u001b[38;5;21;01m.\u001b[39;00m\u001b[38;5;21;01mcolab\u001b[39;00m \u001b[38;5;28;01mimport\u001b[39;00m drive\n\u001b[0;32m      2\u001b[0m drive\u001b[38;5;241m.\u001b[39mmount(\u001b[38;5;124m'\u001b[39m\u001b[38;5;124m/drive\u001b[39m\u001b[38;5;124m'\u001b[39m)\n",
      "\u001b[1;31mModuleNotFoundError\u001b[0m: No module named 'google.colab'"
     ]
    }
   ],
   "source": [
    "# from google.colab import drive\n",
    "# drive.mount('/drive')"
   ]
  },
  {
   "cell_type": "code",
   "execution_count": 3,
   "metadata": {
    "id": "QxEFy6wAv1xh"
   },
   "outputs": [],
   "source": [
    "# X_train = np.load('/drive/Shareddrives/Jet Classification/Data/Quickdraw/X_train.npy', allow_pickle=True)\n",
    "# X_test = np.load('/drive/Shareddrives/Jet Classification/Data/Quickdraw/X_test.npy', allow_pickle=True)\n",
    "# y_train = np.load('/drive/Shareddrives/Jet Classification/Data/Quickdraw/y_train.npy', allow_pickle=True)\n",
    "# y_test = np.load('/drive/Shareddrives/Jet Classification/Data/Quickdraw/y_test.npy', allow_pickle=True)"
   ]
  },
  {
   "cell_type": "markdown",
   "metadata": {},
   "source": [
    "## Load Training and Testing data"
   ]
  },
  {
   "cell_type": "code",
   "execution_count": 37,
   "metadata": {},
   "outputs": [
    {
     "name": "stdout",
     "output_type": "stream",
     "text": [
      "(242263,)\n"
     ]
    },
    {
     "name": "stderr",
     "output_type": "stream",
     "text": [
      "100%|████████████████████████████████████████████████████████████████████████| 242263/242263 [00:43<00:00, 5594.08it/s]\n"
     ]
    },
    {
     "data": {
      "text/plain": [
       "array([[1., 0., 0., 0., 0.],\n",
       "       [1., 0., 0., 0., 0.],\n",
       "       [1., 0., 0., 0., 0.],\n",
       "       ...,\n",
       "       [0., 0., 0., 0., 1.],\n",
       "       [0., 0., 0., 0., 1.],\n",
       "       [0., 0., 0., 0., 1.]])"
      ]
     },
     "execution_count": 37,
     "metadata": {},
     "output_type": "execute_result"
    }
   ],
   "source": [
    "X_train = np.load('./X_train.npy', allow_pickle=True)\n",
    "X_test = np.load('./X_test.npy', allow_pickle=True)\n",
    "y_train = np.load('./y_train.npy', allow_pickle=True)\n",
    "y_test = np.load('./y_test.npy', allow_pickle=True)\n",
    "\n",
    "print(X_train.shape)\n",
    "\n",
    "X_trainzero = np.zeros((242263,100,3))\n",
    "\n",
    "for x in tqdm(range(len(X_train))):\n",
    "#     print(len(X_train[x]))\n",
    "  for y in range(100):\n",
    "    for z in range(3):\n",
    "      if y >= len(X_train[x]):\n",
    "        break\n",
    "      else:\n",
    "        X_trainzero[x][y][z] = X_train[x][y][z]\n",
    "        \n",
    "y_labhot = np.zeros((len(y_train),5))\n",
    "\n",
    "y_labhot.shape\n",
    "\n",
    "num = 0\n",
    "for x in y_train:\n",
    "  if x == 0:\n",
    "    y_labhot[num][0] = 1\n",
    "  elif x == 1: \n",
    "    y_labhot[num][1] = 1\n",
    "  elif x == 2: \n",
    "    y_labhot[num][2] = 1\n",
    "  elif x == 3: \n",
    "    y_labhot[num][3] = 1\n",
    "  elif x == 4: \n",
    "    y_labhot[num][4] = 1\n",
    "  num = num + 1\n",
    "\n",
    "y_labhot"
   ]
  },
  {
   "cell_type": "code",
   "execution_count": 38,
   "metadata": {
    "id": "_9oJEbjI0tCm"
   },
   "outputs": [
    {
     "name": "stdout",
     "output_type": "stream",
     "text": [
      "x-shape:  (242263, 100, 3)\n"
     ]
    }
   ],
   "source": [
    "print(\"x-shape: \", X_trainzero.shape)"
   ]
  },
  {
   "cell_type": "code",
   "execution_count": 3,
   "metadata": {
    "id": "AhDHv0qzDU7L"
   },
   "outputs": [],
   "source": [
    "def makeRoc(features_val, labels_val, labels, model, outputDir='', outputSuffix=''):\n",
    "    from sklearn.metrics import roc_curve, auc\n",
    "    labels_pred = model.predict(features_val)\n",
    "    df = pd.DataFrame()\n",
    "    fpr = {}\n",
    "    tpr = {}\n",
    "    auc1 = {}\n",
    "    plt.figure(figsize=(10,8))       \n",
    "    for i, label in enumerate(labels):\n",
    "\n",
    "        df[label] = labels_val[:,i]\n",
    "        df[label + '_pred'] = labels_pred[:,i]\n",
    "        fpr[label], tpr[label], threshold = roc_curve(df[label],df[label+'_pred'])\n",
    "        auc1[label] = auc(fpr[label], tpr[label])\n",
    "        plt.plot(fpr[label],tpr[label],label='%s tagger, AUC = %.1f%%'%(label.replace('j_',''),auc1[label]*100.))\n",
    "        \n",
    "    plt.plot([0, 1], [0, 1], lw=1, color='black', linestyle='--')\n",
    "    #plt.semilogy()\n",
    "    plt.xlabel(\"Background Efficiency\")\n",
    "    plt.ylabel(\"Signal Efficiency\")\n",
    "    plt.xlim([-0.05, 1.05])\n",
    "    plt.ylim(0.001,1.05)\n",
    "    plt.grid(True)\n",
    "    plt.legend(loc='lower right')\n",
    "    plt.figtext(0.25, 0.90,'LSTM ROC Curve',fontweight='bold', wrap=True, horizontalalignment='right', fontsize=14)\n",
    "    #plt.figtext(0.35, 0.90,'preliminary', style='italic', wrap=True, horizontalalignment='center', fontsize=14) \n",
    "    #plt.savefig('%sROC_%s.pdf'%(outputDir, outputSuffix))\n",
    "    return labels_pred"
   ]
  },
  {
   "cell_type": "code",
   "execution_count": 4,
   "metadata": {
    "id": "ryVYDa6S4XHt"
   },
   "outputs": [],
   "source": [
    "def learningCurve(history):\n",
    "    plt.figure(figsize=(10,8))\n",
    "    plt.plot(history.history['loss'], linewidth=1)\n",
    "    plt.plot(history.history['val_loss'], linewidth=1)\n",
    "    plt.title('Model Loss over Epochs')\n",
    "    plt.ylabel('Loss')\n",
    "    plt.xlabel('Epoch')\n",
    "    plt.legend(['training sample loss','validation sample loss'])\n",
    "    #plt.savefig('Learning_curve.pdf')\n",
    "    plt.show()\n",
    "    plt.close()"
   ]
  },
  {
   "cell_type": "code",
   "execution_count": 5,
   "metadata": {
    "id": "hVdAVCOt8JKi"
   },
   "outputs": [
    {
     "name": "stderr",
     "output_type": "stream",
     "text": [
      "100%|██████████████████████████████████████████████████████████████████████████| 12500/12500 [00:02<00:00, 5092.53it/s]\n"
     ]
    }
   ],
   "source": [
    "X_testzero = np.zeros((len(X_test),100,3))\n",
    "\n",
    "X_testzero[0][0][0]\n",
    "\n",
    "for x in tqdm(range(len(X_test))):\n",
    "  for y in range(100):\n",
    "    for z in range(3):\n",
    "      if y >= len(X_test[x]):\n",
    "        break\n",
    "      else:\n",
    "        X_testzero[x][y][z] = X_test[x][y][z]\n",
    "        \n",
    "y_tlabhot = np.zeros((len(y_test),5))\n",
    "\n",
    "num = 0\n",
    "for x in y_test:\n",
    "  if x == 0:\n",
    "    y_tlabhot[num][0] = 1\n",
    "  elif x == 1: \n",
    "    y_tlabhot[num][1] = 1\n",
    "  elif x == 2: \n",
    "    y_tlabhot[num][2] = 1\n",
    "  elif x == 3: \n",
    "    y_tlabhot[num][3] = 1\n",
    "  elif x == 4: \n",
    "    y_tlabhot[num][4] = 1\n",
    "  num = num + 1"
   ]
  },
  {
   "cell_type": "code",
   "execution_count": 18,
   "metadata": {
    "id": "gKu4i3pg9ql9"
   },
   "outputs": [],
   "source": [
    "shuffler = np.random.permutation(len(X_trainzero))\n",
    "array1_shuffled = X_trainzero[shuffler]\n",
    "array2_shuffled = y_labhot[shuffler]"
   ]
  },
  {
   "cell_type": "markdown",
   "metadata": {},
   "source": [
    "## Short sequency test"
   ]
  },
  {
   "cell_type": "code",
   "execution_count": 23,
   "metadata": {},
   "outputs": [
    {
     "name": "stdout",
     "output_type": "stream",
     "text": [
      "(242263,)\n"
     ]
    },
    {
     "name": "stderr",
     "output_type": "stream",
     "text": [
      "100%|███████████████████████████████████████████████████████████████████████| 242263/242263 [00:21<00:00, 11203.59it/s]\n"
     ]
    },
    {
     "data": {
      "text/plain": [
       "array([[1., 0., 0., 0., 0.],\n",
       "       [1., 0., 0., 0., 0.],\n",
       "       [1., 0., 0., 0., 0.],\n",
       "       ...,\n",
       "       [0., 0., 0., 0., 1.],\n",
       "       [0., 0., 0., 0., 1.],\n",
       "       [0., 0., 0., 0., 1.]])"
      ]
     },
     "execution_count": 23,
     "metadata": {},
     "output_type": "execute_result"
    }
   ],
   "source": [
    "# X_train = np.load('./X_train.npy', allow_pickle=True)\n",
    "# X_test = np.load('./X_test.npy', allow_pickle=True)\n",
    "# y_train = np.load('./y_train.npy', allow_pickle=True)\n",
    "# y_test = np.load('./y_test.npy', allow_pickle=True)\n",
    "\n",
    "# print(X_train.shape)\n",
    "\n",
    "# X_trainzero = np.zeros((242263,20,3))\n",
    "\n",
    "# for x in tqdm(range(len(X_train))):\n",
    "# #     print(len(X_train[x]))\n",
    "#   for y in range(100):\n",
    "#     for z in range(3):\n",
    "#       if y >= len(X_train[x]) or y >= 20:\n",
    "#         break\n",
    "#       else:\n",
    "#         X_trainzero[x][y][z] = X_train[x][y][z]\n",
    "        \n",
    "# y_labhot = np.zeros((len(y_train),5))\n",
    "\n",
    "# y_labhot.shape\n",
    "\n",
    "# num = 0\n",
    "# for x in y_train:\n",
    "#   if x == 0:\n",
    "#     y_labhot[num][0] = 1\n",
    "#   elif x == 1: \n",
    "#     y_labhot[num][1] = 1\n",
    "#   elif x == 2: \n",
    "#     y_labhot[num][2] = 1\n",
    "#   elif x == 3: \n",
    "#     y_labhot[num][3] = 1\n",
    "#   elif x == 4: \n",
    "#     y_labhot[num][4] = 1\n",
    "#   num = num + 1\n",
    "\n",
    "# y_labhot"
   ]
  },
  {
   "cell_type": "code",
   "execution_count": 25,
   "metadata": {},
   "outputs": [
    {
     "data": {
      "text/plain": [
       "(242263, 20, 3)"
      ]
     },
     "execution_count": 25,
     "metadata": {},
     "output_type": "execute_result"
    }
   ],
   "source": [
    "# X_trainzero.shape"
   ]
  },
  {
   "cell_type": "code",
   "execution_count": 26,
   "metadata": {},
   "outputs": [
    {
     "name": "stderr",
     "output_type": "stream",
     "text": [
      "100%|█████████████████████████████████████████████████████████████████████████| 12500/12500 [00:01<00:00, 11033.54it/s]\n"
     ]
    }
   ],
   "source": [
    "# X_testzero = np.zeros((len(X_test),20,3))\n",
    "\n",
    "# X_testzero[0][0][0]\n",
    "\n",
    "# for x in tqdm(range(len(X_test))):\n",
    "#   for y in range(100):\n",
    "#     for z in range(3):\n",
    "#       if y >= len(X_test[x]) or y >= 20:\n",
    "#         break\n",
    "#       else:\n",
    "#         X_testzero[x][y][z] = X_test[x][y][z]\n",
    "        \n",
    "# y_tlabhot = np.zeros((len(y_test),5))\n",
    "\n",
    "# num = 0\n",
    "# for x in y_test:\n",
    "#   if x == 0:\n",
    "#     y_tlabhot[num][0] = 1\n",
    "#   elif x == 1: \n",
    "#     y_tlabhot[num][1] = 1\n",
    "#   elif x == 2: \n",
    "#     y_tlabhot[num][2] = 1\n",
    "#   elif x == 3: \n",
    "#     y_tlabhot[num][3] = 1\n",
    "#   elif x == 4: \n",
    "#     y_tlabhot[num][4] = 1\n",
    "#   num = num + 1"
   ]
  },
  {
   "cell_type": "code",
   "execution_count": 27,
   "metadata": {},
   "outputs": [],
   "source": [
    "# shuffler = np.random.permutation(len(X_trainzero))\n",
    "# array1_shuffled = X_trainzero[shuffler]\n",
    "# array2_shuffled = y_labhot[shuffler]"
   ]
  },
  {
   "cell_type": "code",
   "execution_count": 33,
   "metadata": {},
   "outputs": [
    {
     "name": "stdout",
     "output_type": "stream",
     "text": [
      "Model: \"model_6\"\n",
      "_________________________________________________________________\n",
      " Layer (type)                Output Shape              Param #   \n",
      "=================================================================\n",
      " input_8 (InputLayer)        [(None, 20, 3)]           0         \n",
      "                                                                 \n",
      " conv1d_21 (Conv1D)          (None, 15, 128)           2432      \n",
      "                                                                 \n",
      " relu_0 (Activation)         (None, 15, 128)           0         \n",
      "                                                                 \n",
      " conv1d_22 (Conv1D)          (None, 13, 64)            24640     \n",
      "                                                                 \n",
      " relu_1 (Activation)         (None, 13, 64)            0         \n",
      "                                                                 \n",
      " conv1d_23 (Conv1D)          (None, 13, 1)             65        \n",
      "                                                                 \n",
      " relu_2 (Activation)         (None, 13, 1)             0         \n",
      "                                                                 \n",
      " lstm_10 (LSTM)              (None, 13, 128)           66560     \n",
      "                                                                 \n",
      " dropout_4 (Dropout)         (None, 13, 128)           0         \n",
      "                                                                 \n",
      " lstm_11 (LSTM)              (None, 64)                49408     \n",
      "                                                                 \n",
      " rnn_densef (Dense)          (None, 5)                 325       \n",
      "                                                                 \n",
      " output_softmax (Activation)  (None, 5)                0         \n",
      "                                                                 \n",
      "=================================================================\n",
      "Total params: 143,430\n",
      "Trainable params: 143,430\n",
      "Non-trainable params: 0\n",
      "_________________________________________________________________\n"
     ]
    }
   ],
   "source": [
    "# Inputs = Input(shape = (20,3))\n",
    "# x = Conv1D(128,(6))(Inputs)\n",
    "# x = Activation('relu', name = 'relu_0')(x)\n",
    "# x = Conv1D(64,(3))(x)\n",
    "# x = Activation('relu', name = 'relu_1')(x)\n",
    "# x = Conv1D(1, (1))(x)\n",
    "# x = Activation('relu', name = 'relu_2')(x)\n",
    "# x = LSTM(128, return_sequences=True, name='lstm_10')(x)\n",
    "# x = Dropout(rate = 0.5)(x)\n",
    "# x = LSTM(64, return_sequences=False, name='lstm_11')(x)\n",
    "# predictions = Dense(5, kernel_initializer='lecun_uniform', name='rnn_densef')(x)\n",
    "# predictions = Activation('softmax', name = 'output_softmax')(predictions)\n",
    "# model = Model(inputs=Inputs, outputs=predictions)\n",
    "\n",
    "# model.summary()"
   ]
  },
  {
   "cell_type": "code",
   "execution_count": 34,
   "metadata": {},
   "outputs": [
    {
     "name": "stdout",
     "output_type": "stream",
     "text": [
      "Epoch 1/50\n",
      "152/379 [===========>..................] - ETA: 2s - loss: 0.6556 - accuracy: 0.7795"
     ]
    },
    {
     "ename": "KeyboardInterrupt",
     "evalue": "",
     "output_type": "error",
     "traceback": [
      "\u001b[1;31m---------------------------------------------------------------------------\u001b[0m",
      "\u001b[1;31mKeyboardInterrupt\u001b[0m                         Traceback (most recent call last)",
      "Cell \u001b[1;32mIn [34], line 3\u001b[0m\n\u001b[0;32m      1\u001b[0m adam \u001b[38;5;241m=\u001b[39m Adam(lr \u001b[38;5;241m=\u001b[39m \u001b[38;5;241m0.001\u001b[39m)\n\u001b[0;32m      2\u001b[0m model\u001b[38;5;241m.\u001b[39mcompile(optimizer\u001b[38;5;241m=\u001b[39m\u001b[38;5;124m'\u001b[39m\u001b[38;5;124madam\u001b[39m\u001b[38;5;124m'\u001b[39m, loss\u001b[38;5;241m=\u001b[39m\u001b[38;5;124m'\u001b[39m\u001b[38;5;124mcategorical_crossentropy\u001b[39m\u001b[38;5;124m'\u001b[39m, metrics\u001b[38;5;241m=\u001b[39m[\u001b[38;5;124m'\u001b[39m\u001b[38;5;124maccuracy\u001b[39m\u001b[38;5;124m'\u001b[39m])\n\u001b[1;32m----> 3\u001b[0m history \u001b[38;5;241m=\u001b[39m \u001b[43mmodel\u001b[49m\u001b[38;5;241;43m.\u001b[39;49m\u001b[43mfit\u001b[49m\u001b[43m(\u001b[49m\u001b[43marray1_shuffled\u001b[49m\u001b[43m,\u001b[49m\u001b[43m \u001b[49m\u001b[43marray2_shuffled\u001b[49m\u001b[43m,\u001b[49m\u001b[43m \u001b[49m\u001b[43mbatch_size\u001b[49m\u001b[43m \u001b[49m\u001b[38;5;241;43m=\u001b[39;49m\u001b[43m \u001b[49m\u001b[38;5;241;43m512\u001b[39;49m\u001b[43m,\u001b[49m\u001b[43m \u001b[49m\u001b[43mepochs\u001b[49m\u001b[43m \u001b[49m\u001b[38;5;241;43m=\u001b[39;49m\u001b[43m \u001b[49m\u001b[38;5;241;43m50\u001b[39;49m\u001b[43m,\u001b[49m\u001b[43m \u001b[49m\n\u001b[0;32m      4\u001b[0m \u001b[43m                    \u001b[49m\u001b[43mvalidation_split\u001b[49m\u001b[43m \u001b[49m\u001b[38;5;241;43m=\u001b[39;49m\u001b[43m \u001b[49m\u001b[38;5;241;43m0.2\u001b[39;49m\u001b[43m,\u001b[49m\u001b[43m \u001b[49m\u001b[43mshuffle\u001b[49m\u001b[43m \u001b[49m\u001b[38;5;241;43m=\u001b[39;49m\u001b[43m \u001b[49m\u001b[38;5;28;43;01mTrue\u001b[39;49;00m\u001b[43m,\u001b[49m\u001b[43m \u001b[49m\u001b[43mcallbacks\u001b[49m\u001b[43m \u001b[49m\u001b[38;5;241;43m=\u001b[39;49m\u001b[43m \u001b[49m\u001b[38;5;28;43;01mNone\u001b[39;49;00m\u001b[43m,\u001b[49m\n\u001b[0;32m      5\u001b[0m \u001b[43m                    \u001b[49m\u001b[43muse_multiprocessing\u001b[49m\u001b[38;5;241;43m=\u001b[39;49m\u001b[38;5;28;43;01mTrue\u001b[39;49;00m\u001b[43m,\u001b[49m\u001b[43m \u001b[49m\u001b[43mworkers\u001b[49m\u001b[38;5;241;43m=\u001b[39;49m\u001b[38;5;241;43m4\u001b[39;49m\u001b[43m)\u001b[49m\n\u001b[0;32m      6\u001b[0m labels \u001b[38;5;241m=\u001b[39m [\u001b[38;5;124m'\u001b[39m\u001b[38;5;124mant\u001b[39m\u001b[38;5;124m'\u001b[39m, \u001b[38;5;124m'\u001b[39m\u001b[38;5;124mbee\u001b[39m\u001b[38;5;124m'\u001b[39m, \u001b[38;5;124m'\u001b[39m\u001b[38;5;124mbutterfly\u001b[39m\u001b[38;5;124m'\u001b[39m, \u001b[38;5;124m'\u001b[39m\u001b[38;5;124mmosquito\u001b[39m\u001b[38;5;124m'\u001b[39m, \u001b[38;5;124m'\u001b[39m\u001b[38;5;124msnail\u001b[39m\u001b[38;5;124m'\u001b[39m]\n\u001b[0;32m      7\u001b[0m y_pred \u001b[38;5;241m=\u001b[39m makeRoc(X_testzero, y_tlabhot, labels, model, outputSuffix\u001b[38;5;241m=\u001b[39m\u001b[38;5;124m'\u001b[39m\u001b[38;5;124mtwo-layer\u001b[39m\u001b[38;5;124m'\u001b[39m)\n",
      "File \u001b[1;32m~\\anaconda3\\envs\\hls4ml-tutorial\\lib\\site-packages\\keras\\utils\\traceback_utils.py:65\u001b[0m, in \u001b[0;36mfilter_traceback.<locals>.error_handler\u001b[1;34m(*args, **kwargs)\u001b[0m\n\u001b[0;32m     63\u001b[0m filtered_tb \u001b[38;5;241m=\u001b[39m \u001b[38;5;28;01mNone\u001b[39;00m\n\u001b[0;32m     64\u001b[0m \u001b[38;5;28;01mtry\u001b[39;00m:\n\u001b[1;32m---> 65\u001b[0m     \u001b[38;5;28;01mreturn\u001b[39;00m \u001b[43mfn\u001b[49m\u001b[43m(\u001b[49m\u001b[38;5;241;43m*\u001b[39;49m\u001b[43margs\u001b[49m\u001b[43m,\u001b[49m\u001b[43m \u001b[49m\u001b[38;5;241;43m*\u001b[39;49m\u001b[38;5;241;43m*\u001b[39;49m\u001b[43mkwargs\u001b[49m\u001b[43m)\u001b[49m\n\u001b[0;32m     66\u001b[0m \u001b[38;5;28;01mexcept\u001b[39;00m \u001b[38;5;167;01mException\u001b[39;00m \u001b[38;5;28;01mas\u001b[39;00m e:\n\u001b[0;32m     67\u001b[0m     filtered_tb \u001b[38;5;241m=\u001b[39m _process_traceback_frames(e\u001b[38;5;241m.\u001b[39m__traceback__)\n",
      "File \u001b[1;32m~\\anaconda3\\envs\\hls4ml-tutorial\\lib\\site-packages\\keras\\engine\\training.py:1564\u001b[0m, in \u001b[0;36mModel.fit\u001b[1;34m(self, x, y, batch_size, epochs, verbose, callbacks, validation_split, validation_data, shuffle, class_weight, sample_weight, initial_epoch, steps_per_epoch, validation_steps, validation_batch_size, validation_freq, max_queue_size, workers, use_multiprocessing)\u001b[0m\n\u001b[0;32m   1556\u001b[0m \u001b[38;5;28;01mwith\u001b[39;00m tf\u001b[38;5;241m.\u001b[39mprofiler\u001b[38;5;241m.\u001b[39mexperimental\u001b[38;5;241m.\u001b[39mTrace(\n\u001b[0;32m   1557\u001b[0m     \u001b[38;5;124m\"\u001b[39m\u001b[38;5;124mtrain\u001b[39m\u001b[38;5;124m\"\u001b[39m,\n\u001b[0;32m   1558\u001b[0m     epoch_num\u001b[38;5;241m=\u001b[39mepoch,\n\u001b[1;32m   (...)\u001b[0m\n\u001b[0;32m   1561\u001b[0m     _r\u001b[38;5;241m=\u001b[39m\u001b[38;5;241m1\u001b[39m,\n\u001b[0;32m   1562\u001b[0m ):\n\u001b[0;32m   1563\u001b[0m     callbacks\u001b[38;5;241m.\u001b[39mon_train_batch_begin(step)\n\u001b[1;32m-> 1564\u001b[0m     tmp_logs \u001b[38;5;241m=\u001b[39m \u001b[38;5;28;43mself\u001b[39;49m\u001b[38;5;241;43m.\u001b[39;49m\u001b[43mtrain_function\u001b[49m\u001b[43m(\u001b[49m\u001b[43miterator\u001b[49m\u001b[43m)\u001b[49m\n\u001b[0;32m   1565\u001b[0m     \u001b[38;5;28;01mif\u001b[39;00m data_handler\u001b[38;5;241m.\u001b[39mshould_sync:\n\u001b[0;32m   1566\u001b[0m         context\u001b[38;5;241m.\u001b[39masync_wait()\n",
      "File \u001b[1;32m~\\anaconda3\\envs\\hls4ml-tutorial\\lib\\site-packages\\tensorflow\\python\\util\\traceback_utils.py:150\u001b[0m, in \u001b[0;36mfilter_traceback.<locals>.error_handler\u001b[1;34m(*args, **kwargs)\u001b[0m\n\u001b[0;32m    148\u001b[0m filtered_tb \u001b[38;5;241m=\u001b[39m \u001b[38;5;28;01mNone\u001b[39;00m\n\u001b[0;32m    149\u001b[0m \u001b[38;5;28;01mtry\u001b[39;00m:\n\u001b[1;32m--> 150\u001b[0m   \u001b[38;5;28;01mreturn\u001b[39;00m \u001b[43mfn\u001b[49m\u001b[43m(\u001b[49m\u001b[38;5;241;43m*\u001b[39;49m\u001b[43margs\u001b[49m\u001b[43m,\u001b[49m\u001b[43m \u001b[49m\u001b[38;5;241;43m*\u001b[39;49m\u001b[38;5;241;43m*\u001b[39;49m\u001b[43mkwargs\u001b[49m\u001b[43m)\u001b[49m\n\u001b[0;32m    151\u001b[0m \u001b[38;5;28;01mexcept\u001b[39;00m \u001b[38;5;167;01mException\u001b[39;00m \u001b[38;5;28;01mas\u001b[39;00m e:\n\u001b[0;32m    152\u001b[0m   filtered_tb \u001b[38;5;241m=\u001b[39m _process_traceback_frames(e\u001b[38;5;241m.\u001b[39m__traceback__)\n",
      "File \u001b[1;32m~\\anaconda3\\envs\\hls4ml-tutorial\\lib\\site-packages\\tensorflow\\python\\eager\\def_function.py:915\u001b[0m, in \u001b[0;36mFunction.__call__\u001b[1;34m(self, *args, **kwds)\u001b[0m\n\u001b[0;32m    912\u001b[0m compiler \u001b[38;5;241m=\u001b[39m \u001b[38;5;124m\"\u001b[39m\u001b[38;5;124mxla\u001b[39m\u001b[38;5;124m\"\u001b[39m \u001b[38;5;28;01mif\u001b[39;00m \u001b[38;5;28mself\u001b[39m\u001b[38;5;241m.\u001b[39m_jit_compile \u001b[38;5;28;01melse\u001b[39;00m \u001b[38;5;124m\"\u001b[39m\u001b[38;5;124mnonXla\u001b[39m\u001b[38;5;124m\"\u001b[39m\n\u001b[0;32m    914\u001b[0m \u001b[38;5;28;01mwith\u001b[39;00m OptionalXlaContext(\u001b[38;5;28mself\u001b[39m\u001b[38;5;241m.\u001b[39m_jit_compile):\n\u001b[1;32m--> 915\u001b[0m   result \u001b[38;5;241m=\u001b[39m \u001b[38;5;28;43mself\u001b[39;49m\u001b[38;5;241;43m.\u001b[39;49m\u001b[43m_call\u001b[49m\u001b[43m(\u001b[49m\u001b[38;5;241;43m*\u001b[39;49m\u001b[43margs\u001b[49m\u001b[43m,\u001b[49m\u001b[43m \u001b[49m\u001b[38;5;241;43m*\u001b[39;49m\u001b[38;5;241;43m*\u001b[39;49m\u001b[43mkwds\u001b[49m\u001b[43m)\u001b[49m\n\u001b[0;32m    917\u001b[0m new_tracing_count \u001b[38;5;241m=\u001b[39m \u001b[38;5;28mself\u001b[39m\u001b[38;5;241m.\u001b[39mexperimental_get_tracing_count()\n\u001b[0;32m    918\u001b[0m without_tracing \u001b[38;5;241m=\u001b[39m (tracing_count \u001b[38;5;241m==\u001b[39m new_tracing_count)\n",
      "File \u001b[1;32m~\\anaconda3\\envs\\hls4ml-tutorial\\lib\\site-packages\\tensorflow\\python\\eager\\def_function.py:947\u001b[0m, in \u001b[0;36mFunction._call\u001b[1;34m(self, *args, **kwds)\u001b[0m\n\u001b[0;32m    944\u001b[0m   \u001b[38;5;28mself\u001b[39m\u001b[38;5;241m.\u001b[39m_lock\u001b[38;5;241m.\u001b[39mrelease()\n\u001b[0;32m    945\u001b[0m   \u001b[38;5;66;03m# In this case we have created variables on the first call, so we run the\u001b[39;00m\n\u001b[0;32m    946\u001b[0m   \u001b[38;5;66;03m# defunned version which is guaranteed to never create variables.\u001b[39;00m\n\u001b[1;32m--> 947\u001b[0m   \u001b[38;5;28;01mreturn\u001b[39;00m \u001b[38;5;28;43mself\u001b[39;49m\u001b[38;5;241;43m.\u001b[39;49m\u001b[43m_stateless_fn\u001b[49m\u001b[43m(\u001b[49m\u001b[38;5;241;43m*\u001b[39;49m\u001b[43margs\u001b[49m\u001b[43m,\u001b[49m\u001b[43m \u001b[49m\u001b[38;5;241;43m*\u001b[39;49m\u001b[38;5;241;43m*\u001b[39;49m\u001b[43mkwds\u001b[49m\u001b[43m)\u001b[49m  \u001b[38;5;66;03m# pylint: disable=not-callable\u001b[39;00m\n\u001b[0;32m    948\u001b[0m \u001b[38;5;28;01melif\u001b[39;00m \u001b[38;5;28mself\u001b[39m\u001b[38;5;241m.\u001b[39m_stateful_fn \u001b[38;5;129;01mis\u001b[39;00m \u001b[38;5;129;01mnot\u001b[39;00m \u001b[38;5;28;01mNone\u001b[39;00m:\n\u001b[0;32m    949\u001b[0m   \u001b[38;5;66;03m# Release the lock early so that multiple threads can perform the call\u001b[39;00m\n\u001b[0;32m    950\u001b[0m   \u001b[38;5;66;03m# in parallel.\u001b[39;00m\n\u001b[0;32m    951\u001b[0m   \u001b[38;5;28mself\u001b[39m\u001b[38;5;241m.\u001b[39m_lock\u001b[38;5;241m.\u001b[39mrelease()\n",
      "File \u001b[1;32m~\\anaconda3\\envs\\hls4ml-tutorial\\lib\\site-packages\\tensorflow\\python\\eager\\function.py:2496\u001b[0m, in \u001b[0;36mFunction.__call__\u001b[1;34m(self, *args, **kwargs)\u001b[0m\n\u001b[0;32m   2493\u001b[0m \u001b[38;5;28;01mwith\u001b[39;00m \u001b[38;5;28mself\u001b[39m\u001b[38;5;241m.\u001b[39m_lock:\n\u001b[0;32m   2494\u001b[0m   (graph_function,\n\u001b[0;32m   2495\u001b[0m    filtered_flat_args) \u001b[38;5;241m=\u001b[39m \u001b[38;5;28mself\u001b[39m\u001b[38;5;241m.\u001b[39m_maybe_define_function(args, kwargs)\n\u001b[1;32m-> 2496\u001b[0m \u001b[38;5;28;01mreturn\u001b[39;00m \u001b[43mgraph_function\u001b[49m\u001b[38;5;241;43m.\u001b[39;49m\u001b[43m_call_flat\u001b[49m\u001b[43m(\u001b[49m\n\u001b[0;32m   2497\u001b[0m \u001b[43m    \u001b[49m\u001b[43mfiltered_flat_args\u001b[49m\u001b[43m,\u001b[49m\u001b[43m \u001b[49m\u001b[43mcaptured_inputs\u001b[49m\u001b[38;5;241;43m=\u001b[39;49m\u001b[43mgraph_function\u001b[49m\u001b[38;5;241;43m.\u001b[39;49m\u001b[43mcaptured_inputs\u001b[49m\u001b[43m)\u001b[49m\n",
      "File \u001b[1;32m~\\anaconda3\\envs\\hls4ml-tutorial\\lib\\site-packages\\tensorflow\\python\\eager\\function.py:1862\u001b[0m, in \u001b[0;36mConcreteFunction._call_flat\u001b[1;34m(self, args, captured_inputs, cancellation_manager)\u001b[0m\n\u001b[0;32m   1858\u001b[0m possible_gradient_type \u001b[38;5;241m=\u001b[39m gradients_util\u001b[38;5;241m.\u001b[39mPossibleTapeGradientTypes(args)\n\u001b[0;32m   1859\u001b[0m \u001b[38;5;28;01mif\u001b[39;00m (possible_gradient_type \u001b[38;5;241m==\u001b[39m gradients_util\u001b[38;5;241m.\u001b[39mPOSSIBLE_GRADIENT_TYPES_NONE\n\u001b[0;32m   1860\u001b[0m     \u001b[38;5;129;01mand\u001b[39;00m executing_eagerly):\n\u001b[0;32m   1861\u001b[0m   \u001b[38;5;66;03m# No tape is watching; skip to running the function.\u001b[39;00m\n\u001b[1;32m-> 1862\u001b[0m   \u001b[38;5;28;01mreturn\u001b[39;00m \u001b[38;5;28mself\u001b[39m\u001b[38;5;241m.\u001b[39m_build_call_outputs(\u001b[38;5;28;43mself\u001b[39;49m\u001b[38;5;241;43m.\u001b[39;49m\u001b[43m_inference_function\u001b[49m\u001b[38;5;241;43m.\u001b[39;49m\u001b[43mcall\u001b[49m\u001b[43m(\u001b[49m\n\u001b[0;32m   1863\u001b[0m \u001b[43m      \u001b[49m\u001b[43mctx\u001b[49m\u001b[43m,\u001b[49m\u001b[43m \u001b[49m\u001b[43margs\u001b[49m\u001b[43m,\u001b[49m\u001b[43m \u001b[49m\u001b[43mcancellation_manager\u001b[49m\u001b[38;5;241;43m=\u001b[39;49m\u001b[43mcancellation_manager\u001b[49m\u001b[43m)\u001b[49m)\n\u001b[0;32m   1864\u001b[0m forward_backward \u001b[38;5;241m=\u001b[39m \u001b[38;5;28mself\u001b[39m\u001b[38;5;241m.\u001b[39m_select_forward_and_backward_functions(\n\u001b[0;32m   1865\u001b[0m     args,\n\u001b[0;32m   1866\u001b[0m     possible_gradient_type,\n\u001b[0;32m   1867\u001b[0m     executing_eagerly)\n\u001b[0;32m   1868\u001b[0m forward_function, args_with_tangents \u001b[38;5;241m=\u001b[39m forward_backward\u001b[38;5;241m.\u001b[39mforward()\n",
      "File \u001b[1;32m~\\anaconda3\\envs\\hls4ml-tutorial\\lib\\site-packages\\tensorflow\\python\\eager\\function.py:499\u001b[0m, in \u001b[0;36m_EagerDefinedFunction.call\u001b[1;34m(self, ctx, args, cancellation_manager)\u001b[0m\n\u001b[0;32m    497\u001b[0m \u001b[38;5;28;01mwith\u001b[39;00m _InterpolateFunctionError(\u001b[38;5;28mself\u001b[39m):\n\u001b[0;32m    498\u001b[0m   \u001b[38;5;28;01mif\u001b[39;00m cancellation_manager \u001b[38;5;129;01mis\u001b[39;00m \u001b[38;5;28;01mNone\u001b[39;00m:\n\u001b[1;32m--> 499\u001b[0m     outputs \u001b[38;5;241m=\u001b[39m \u001b[43mexecute\u001b[49m\u001b[38;5;241;43m.\u001b[39;49m\u001b[43mexecute\u001b[49m\u001b[43m(\u001b[49m\n\u001b[0;32m    500\u001b[0m \u001b[43m        \u001b[49m\u001b[38;5;28;43mstr\u001b[39;49m\u001b[43m(\u001b[49m\u001b[38;5;28;43mself\u001b[39;49m\u001b[38;5;241;43m.\u001b[39;49m\u001b[43msignature\u001b[49m\u001b[38;5;241;43m.\u001b[39;49m\u001b[43mname\u001b[49m\u001b[43m)\u001b[49m\u001b[43m,\u001b[49m\n\u001b[0;32m    501\u001b[0m \u001b[43m        \u001b[49m\u001b[43mnum_outputs\u001b[49m\u001b[38;5;241;43m=\u001b[39;49m\u001b[38;5;28;43mself\u001b[39;49m\u001b[38;5;241;43m.\u001b[39;49m\u001b[43m_num_outputs\u001b[49m\u001b[43m,\u001b[49m\n\u001b[0;32m    502\u001b[0m \u001b[43m        \u001b[49m\u001b[43minputs\u001b[49m\u001b[38;5;241;43m=\u001b[39;49m\u001b[43margs\u001b[49m\u001b[43m,\u001b[49m\n\u001b[0;32m    503\u001b[0m \u001b[43m        \u001b[49m\u001b[43mattrs\u001b[49m\u001b[38;5;241;43m=\u001b[39;49m\u001b[43mattrs\u001b[49m\u001b[43m,\u001b[49m\n\u001b[0;32m    504\u001b[0m \u001b[43m        \u001b[49m\u001b[43mctx\u001b[49m\u001b[38;5;241;43m=\u001b[39;49m\u001b[43mctx\u001b[49m\u001b[43m)\u001b[49m\n\u001b[0;32m    505\u001b[0m   \u001b[38;5;28;01melse\u001b[39;00m:\n\u001b[0;32m    506\u001b[0m     outputs \u001b[38;5;241m=\u001b[39m execute\u001b[38;5;241m.\u001b[39mexecute_with_cancellation(\n\u001b[0;32m    507\u001b[0m         \u001b[38;5;28mstr\u001b[39m(\u001b[38;5;28mself\u001b[39m\u001b[38;5;241m.\u001b[39msignature\u001b[38;5;241m.\u001b[39mname),\n\u001b[0;32m    508\u001b[0m         num_outputs\u001b[38;5;241m=\u001b[39m\u001b[38;5;28mself\u001b[39m\u001b[38;5;241m.\u001b[39m_num_outputs,\n\u001b[1;32m   (...)\u001b[0m\n\u001b[0;32m    511\u001b[0m         ctx\u001b[38;5;241m=\u001b[39mctx,\n\u001b[0;32m    512\u001b[0m         cancellation_manager\u001b[38;5;241m=\u001b[39mcancellation_manager)\n",
      "File \u001b[1;32m~\\anaconda3\\envs\\hls4ml-tutorial\\lib\\site-packages\\tensorflow\\python\\eager\\execute.py:54\u001b[0m, in \u001b[0;36mquick_execute\u001b[1;34m(op_name, num_outputs, inputs, attrs, ctx, name)\u001b[0m\n\u001b[0;32m     52\u001b[0m \u001b[38;5;28;01mtry\u001b[39;00m:\n\u001b[0;32m     53\u001b[0m   ctx\u001b[38;5;241m.\u001b[39mensure_initialized()\n\u001b[1;32m---> 54\u001b[0m   tensors \u001b[38;5;241m=\u001b[39m \u001b[43mpywrap_tfe\u001b[49m\u001b[38;5;241;43m.\u001b[39;49m\u001b[43mTFE_Py_Execute\u001b[49m\u001b[43m(\u001b[49m\u001b[43mctx\u001b[49m\u001b[38;5;241;43m.\u001b[39;49m\u001b[43m_handle\u001b[49m\u001b[43m,\u001b[49m\u001b[43m \u001b[49m\u001b[43mdevice_name\u001b[49m\u001b[43m,\u001b[49m\u001b[43m \u001b[49m\u001b[43mop_name\u001b[49m\u001b[43m,\u001b[49m\n\u001b[0;32m     55\u001b[0m \u001b[43m                                      \u001b[49m\u001b[43minputs\u001b[49m\u001b[43m,\u001b[49m\u001b[43m \u001b[49m\u001b[43mattrs\u001b[49m\u001b[43m,\u001b[49m\u001b[43m \u001b[49m\u001b[43mnum_outputs\u001b[49m\u001b[43m)\u001b[49m\n\u001b[0;32m     56\u001b[0m \u001b[38;5;28;01mexcept\u001b[39;00m core\u001b[38;5;241m.\u001b[39m_NotOkStatusException \u001b[38;5;28;01mas\u001b[39;00m e:\n\u001b[0;32m     57\u001b[0m   \u001b[38;5;28;01mif\u001b[39;00m name \u001b[38;5;129;01mis\u001b[39;00m \u001b[38;5;129;01mnot\u001b[39;00m \u001b[38;5;28;01mNone\u001b[39;00m:\n",
      "\u001b[1;31mKeyboardInterrupt\u001b[0m: "
     ]
    }
   ],
   "source": [
    "# adam = Adam(lr = 0.001)\n",
    "# model.compile(optimizer='adam', loss='categorical_crossentropy', metrics=['accuracy'])\n",
    "# history = model.fit(array1_shuffled, array2_shuffled, batch_size = 512, epochs = 50, \n",
    "#                     validation_split = 0.2, shuffle = True, callbacks = None,\n",
    "#                     use_multiprocessing=True, workers=4)\n",
    "# labels = ['ant', 'bee', 'butterfly', 'mosquito', 'snail']\n",
    "# y_pred = makeRoc(X_testzero, y_tlabhot, labels, model, outputSuffix='two-layer')\n",
    "# y_keras = model.predict(X_testzero, batch_size=512)\n",
    "# auc_score = roc_auc_score(y_tlabhot, y_keras)\n",
    "# print(auc_score)"
   ]
  },
  {
   "cell_type": "code",
   "execution_count": 35,
   "metadata": {},
   "outputs": [
    {
     "name": "stdout",
     "output_type": "stream",
     "text": [
      "Model: \"model_6\"\n",
      "_________________________________________________________________\n",
      " Layer (type)                Output Shape              Param #   \n",
      "=================================================================\n",
      " input_8 (InputLayer)        [(None, 20, 3)]           0         \n",
      "                                                                 \n",
      " conv1d_21 (QConv1D)         (None, 15, 128)           2432      \n",
      "                                                                 \n",
      " relu_0 (QActivation)        (None, 15, 128)           0         \n",
      "                                                                 \n",
      " conv1d_22 (QConv1D)         (None, 13, 64)            24640     \n",
      "                                                                 \n",
      " relu_1 (QActivation)        (None, 13, 64)            0         \n",
      "                                                                 \n",
      " conv1d_23 (QConv1D)         (None, 13, 1)             65        \n",
      "                                                                 \n",
      " relu_2 (QActivation)        (None, 13, 1)             0         \n",
      "                                                                 \n",
      " lstm_10 (QLSTM)             (None, 13, 128)           66560     \n",
      "                                                                 \n",
      " dropout_4 (Dropout)         (None, 13, 128)           0         \n",
      "                                                                 \n",
      " lstm_11 (QLSTM)             (None, 64)                49408     \n",
      "                                                                 \n",
      " rnn_densef (QDense)         (None, 5)                 325       \n",
      "                                                                 \n",
      " output_softmax (Activation)  (None, 5)                0         \n",
      "                                                                 \n",
      "=================================================================\n",
      "Total params: 143,430\n",
      "Trainable params: 143,430\n",
      "Non-trainable params: 0\n",
      "_________________________________________________________________\n"
     ]
    }
   ],
   "source": [
    "# for i in [6]:\n",
    "#     for j in [8]:\n",
    "#         int_bits = i\n",
    "#         total_bits = i+j+1\n",
    "#         config = {\n",
    "#             \"lstm_10\":{\n",
    "#                 \"kernel_quantizer\" : f\"quantized_bits({total_bits},{int_bits},1)\",\n",
    "#                  \"bias_quantizer\" : f\"quantized_bits({total_bits},{int_bits},1)\",\n",
    "#                  \"recurrent_quantizer\": f\"quantized_bits({total_bits},{int_bits},1)\",\n",
    "#                  \"state_quantizer\" : f\"quantized_bits({total_bits},{int_bits},1)\"\n",
    "#             },\n",
    "#             \"lstm_11\":{\n",
    "#                 \"kernel_quantizer\" : f\"quantized_bits({total_bits},{int_bits},1)\",\n",
    "#                  \"bias_quantizer\" : f\"quantized_bits({total_bits},{int_bits},1)\",\n",
    "#                  \"recurrent_quantizer\": f\"quantized_bits({total_bits},{int_bits},1)\",\n",
    "#                  \"state_quantizer\" : f\"quantized_bits({total_bits},{int_bits},1)\"\n",
    "#             },\n",
    "#             \"QDense\":{\n",
    "#                 \"kernel_quantizer\" : f\"quantized_bits({total_bits},{int_bits},1)\",\n",
    "#                 \"bias_quantizer\" : f\"quantized_bits({total_bits},{int_bits},1)\"\n",
    "#             },\n",
    "#             \"QConv1D\":{\n",
    "#                 \"kernel_quantizer\" : f\"quantized_bits({total_bits},{int_bits},1)\",\n",
    "#                 \"bias_quantizer\" : f\"quantized_bits({total_bits},{int_bits},1)\"\n",
    "#             },\n",
    "#             \"relu_0\" : f\"quantized_relu({total_bits},{int_bits},1)\",\n",
    "#             \"relu_1\" : f\"quantized_relu({total_bits},{int_bits},1)\",\n",
    "#             \"relu_2\" : f\"quantized_relu({total_bits},{int_bits},1)\",\n",
    "#         }\n",
    "#         qmodel = model_quantize(model, config, total_bits, transfer_weights=False)\n",
    "#         qmodel.summary()"
   ]
  },
  {
   "cell_type": "code",
   "execution_count": 36,
   "metadata": {},
   "outputs": [
    {
     "name": "stdout",
     "output_type": "stream",
     "text": [
      "Epoch 1/50\n",
      "379/379 [==============================] - 102s 246ms/step - loss: 0.5971 - accuracy: 0.8031 - val_loss: 0.5111 - val_accuracy: 0.8384\n",
      "Epoch 2/50\n",
      "379/379 [==============================] - 93s 245ms/step - loss: 0.5005 - accuracy: 0.8412 - val_loss: 0.4816 - val_accuracy: 0.8459\n",
      "Epoch 3/50\n",
      "379/379 [==============================] - 91s 241ms/step - loss: 0.4716 - accuracy: 0.8526 - val_loss: 0.4501 - val_accuracy: 0.8607\n",
      "Epoch 4/50\n",
      "379/379 [==============================] - 88s 232ms/step - loss: 0.4495 - accuracy: 0.8588 - val_loss: 0.4335 - val_accuracy: 0.8643\n",
      "Epoch 5/50\n",
      "379/379 [==============================] - 92s 243ms/step - loss: 0.4319 - accuracy: 0.8642 - val_loss: 0.4292 - val_accuracy: 0.8660\n",
      "Epoch 6/50\n",
      "379/379 [==============================] - 89s 235ms/step - loss: 0.4187 - accuracy: 0.8686 - val_loss: 0.4112 - val_accuracy: 0.8709\n",
      "Epoch 7/50\n",
      "379/379 [==============================] - 93s 245ms/step - loss: 0.4085 - accuracy: 0.8714 - val_loss: 0.4016 - val_accuracy: 0.8733\n",
      "Epoch 8/50\n",
      "379/379 [==============================] - 92s 242ms/step - loss: 0.3997 - accuracy: 0.8743 - val_loss: 0.4032 - val_accuracy: 0.8744\n",
      "Epoch 9/50\n",
      "379/379 [==============================] - 92s 242ms/step - loss: 0.3945 - accuracy: 0.8755 - val_loss: 0.3953 - val_accuracy: 0.8773\n",
      "Epoch 10/50\n",
      "379/379 [==============================] - 91s 241ms/step - loss: 0.3898 - accuracy: 0.8770 - val_loss: 0.3979 - val_accuracy: 0.8751\n",
      "Epoch 11/50\n",
      "379/379 [==============================] - 92s 244ms/step - loss: 0.3853 - accuracy: 0.8781 - val_loss: 0.3857 - val_accuracy: 0.8791\n",
      "Epoch 12/50\n",
      "379/379 [==============================] - 91s 240ms/step - loss: 0.3807 - accuracy: 0.8799 - val_loss: 0.3839 - val_accuracy: 0.8797\n",
      "Epoch 13/50\n",
      "379/379 [==============================] - 92s 242ms/step - loss: 0.3763 - accuracy: 0.8810 - val_loss: 0.3854 - val_accuracy: 0.8799\n",
      "Epoch 14/50\n",
      "379/379 [==============================] - 94s 248ms/step - loss: 0.3735 - accuracy: 0.8820 - val_loss: 0.3796 - val_accuracy: 0.8811\n",
      "Epoch 15/50\n",
      "379/379 [==============================] - 92s 243ms/step - loss: 0.3706 - accuracy: 0.8834 - val_loss: 0.3756 - val_accuracy: 0.8830\n",
      "Epoch 16/50\n",
      "379/379 [==============================] - 92s 242ms/step - loss: 0.3703 - accuracy: 0.8829 - val_loss: 0.3766 - val_accuracy: 0.8820\n",
      "Epoch 17/50\n",
      "379/379 [==============================] - 91s 239ms/step - loss: 0.3660 - accuracy: 0.8842 - val_loss: 0.3742 - val_accuracy: 0.8825\n",
      "Epoch 18/50\n",
      "379/379 [==============================] - 90s 237ms/step - loss: 0.3639 - accuracy: 0.8849 - val_loss: 0.3771 - val_accuracy: 0.8822\n",
      "Epoch 19/50\n",
      "379/379 [==============================] - 91s 240ms/step - loss: 0.3608 - accuracy: 0.8862 - val_loss: 0.3715 - val_accuracy: 0.8826\n",
      "Epoch 20/50\n",
      "379/379 [==============================] - 90s 238ms/step - loss: 0.3590 - accuracy: 0.8862 - val_loss: 0.3799 - val_accuracy: 0.8808\n",
      "Epoch 21/50\n",
      "379/379 [==============================] - 90s 236ms/step - loss: 0.3586 - accuracy: 0.8862 - val_loss: 0.3720 - val_accuracy: 0.8829\n",
      "Epoch 22/50\n",
      "379/379 [==============================] - 93s 246ms/step - loss: 0.3555 - accuracy: 0.8878 - val_loss: 0.3748 - val_accuracy: 0.8821\n",
      "Epoch 23/50\n",
      "379/379 [==============================] - 91s 239ms/step - loss: 0.3532 - accuracy: 0.8880 - val_loss: 0.3699 - val_accuracy: 0.8837\n",
      "Epoch 24/50\n",
      "379/379 [==============================] - 90s 238ms/step - loss: 0.3507 - accuracy: 0.8886 - val_loss: 0.3811 - val_accuracy: 0.8814\n",
      "Epoch 25/50\n",
      "379/379 [==============================] - 90s 239ms/step - loss: 0.3498 - accuracy: 0.8888 - val_loss: 0.3743 - val_accuracy: 0.8838\n",
      "Epoch 26/50\n",
      "379/379 [==============================] - 93s 246ms/step - loss: 0.3479 - accuracy: 0.8897 - val_loss: 0.3682 - val_accuracy: 0.8849\n",
      "Epoch 27/50\n",
      "379/379 [==============================] - 92s 243ms/step - loss: 0.3464 - accuracy: 0.8905 - val_loss: 0.3658 - val_accuracy: 0.8866\n",
      "Epoch 28/50\n",
      "379/379 [==============================] - 91s 239ms/step - loss: 0.3440 - accuracy: 0.8906 - val_loss: 0.3619 - val_accuracy: 0.8859\n",
      "Epoch 29/50\n",
      "379/379 [==============================] - 90s 237ms/step - loss: 0.3443 - accuracy: 0.8906 - val_loss: 0.3652 - val_accuracy: 0.8854\n",
      "Epoch 30/50\n",
      "379/379 [==============================] - 91s 240ms/step - loss: 0.3431 - accuracy: 0.8907 - val_loss: 0.3636 - val_accuracy: 0.8840\n",
      "Epoch 31/50\n",
      "379/379 [==============================] - 92s 243ms/step - loss: 0.3403 - accuracy: 0.8915 - val_loss: 0.3619 - val_accuracy: 0.8863\n",
      "Epoch 32/50\n",
      "379/379 [==============================] - 92s 242ms/step - loss: 0.3382 - accuracy: 0.8924 - val_loss: 0.3641 - val_accuracy: 0.8860\n",
      "Epoch 33/50\n",
      "379/379 [==============================] - 89s 234ms/step - loss: 0.3369 - accuracy: 0.8930 - val_loss: 0.3661 - val_accuracy: 0.8855\n",
      "Epoch 34/50\n",
      "379/379 [==============================] - 90s 237ms/step - loss: 0.3357 - accuracy: 0.8926 - val_loss: 0.3595 - val_accuracy: 0.8861\n",
      "Epoch 35/50\n",
      "379/379 [==============================] - 93s 246ms/step - loss: 0.3337 - accuracy: 0.8935 - val_loss: 0.3653 - val_accuracy: 0.8861\n",
      "Epoch 36/50\n",
      "379/379 [==============================] - 92s 242ms/step - loss: 0.3334 - accuracy: 0.8937 - val_loss: 0.3560 - val_accuracy: 0.8886\n",
      "Epoch 37/50\n",
      "379/379 [==============================] - 94s 247ms/step - loss: 0.3329 - accuracy: 0.8939 - val_loss: 0.3647 - val_accuracy: 0.8854\n",
      "Epoch 38/50\n",
      "379/379 [==============================] - 92s 243ms/step - loss: 0.3295 - accuracy: 0.8948 - val_loss: 0.3653 - val_accuracy: 0.8860\n",
      "Epoch 39/50\n",
      "379/379 [==============================] - 98s 258ms/step - loss: 0.3289 - accuracy: 0.8951 - val_loss: 0.3594 - val_accuracy: 0.8873\n",
      "Epoch 40/50\n",
      "379/379 [==============================] - 91s 240ms/step - loss: 0.3273 - accuracy: 0.8954 - val_loss: 0.3651 - val_accuracy: 0.8852\n",
      "Epoch 41/50\n",
      "379/379 [==============================] - 88s 232ms/step - loss: 0.3267 - accuracy: 0.8953 - val_loss: 0.3607 - val_accuracy: 0.8870\n",
      "Epoch 42/50\n",
      "379/379 [==============================] - 96s 254ms/step - loss: 0.3237 - accuracy: 0.8960 - val_loss: 0.3574 - val_accuracy: 0.8889\n",
      "Epoch 43/50\n",
      "379/379 [==============================] - 96s 252ms/step - loss: 0.3236 - accuracy: 0.8960 - val_loss: 0.3640 - val_accuracy: 0.8862\n",
      "Epoch 44/50\n",
      "379/379 [==============================] - 94s 247ms/step - loss: 0.3224 - accuracy: 0.8967 - val_loss: 0.3620 - val_accuracy: 0.8851\n",
      "Epoch 45/50\n",
      "379/379 [==============================] - 93s 244ms/step - loss: 0.3225 - accuracy: 0.8964 - val_loss: 0.3591 - val_accuracy: 0.8880\n",
      "Epoch 46/50\n",
      "379/379 [==============================] - 95s 250ms/step - loss: 0.3197 - accuracy: 0.8970 - val_loss: 0.3579 - val_accuracy: 0.8874\n",
      "Epoch 47/50\n",
      "379/379 [==============================] - 92s 244ms/step - loss: 0.3188 - accuracy: 0.8973 - val_loss: 0.3654 - val_accuracy: 0.8848\n",
      "Epoch 48/50\n",
      "379/379 [==============================] - 93s 245ms/step - loss: 0.3171 - accuracy: 0.8980 - val_loss: 0.3551 - val_accuracy: 0.8878\n",
      "Epoch 49/50\n",
      "379/379 [==============================] - 95s 251ms/step - loss: 0.3164 - accuracy: 0.8979 - val_loss: 0.3552 - val_accuracy: 0.8889\n",
      "Epoch 50/50\n",
      "379/379 [==============================] - 92s 244ms/step - loss: 0.3141 - accuracy: 0.8983 - val_loss: 0.3587 - val_accuracy: 0.8880\n",
      "391/391 [==============================] - 2s 3ms/step\n",
      "25/25 [==============================] - 4s 78ms/step\n",
      "0.9131555600000001\n"
     ]
    },
    {
     "data": {
      "image/png": "[encoded data removed]",
      "text/plain": [
       "<Figure size 1000x800 with 1 Axes>"
      ]
     },
     "metadata": {},
     "output_type": "display_data"
    }
   ],
   "source": [
    "# adam = Adam(lr = 0.001)\n",
    "# qmodel.compile(optimizer='adam', loss='categorical_crossentropy', metrics=['accuracy'])\n",
    "# history = qmodel.fit(array1_shuffled, array2_shuffled, batch_size = 512, epochs = 50, \n",
    "#                     validation_split = 0.2, shuffle = True, callbacks = None,\n",
    "#                     use_multiprocessing=True, workers=4)\n",
    "# labels = ['ant', 'bee', 'butterfly', 'mosquito', 'snail']\n",
    "# y_pred = makeRoc(X_testzero, y_tlabhot, labels, model, outputSuffix='two-layer')\n",
    "# y_keras = qmodel.predict(X_testzero, batch_size=512)\n",
    "# auc_score = roc_auc_score(y_tlabhot, y_keras)\n",
    "# print(auc_score)"
   ]
  },
  {
   "cell_type": "code",
   "execution_count": 7,
   "metadata": {
    "colab": {
     "base_uri": "https://localhost:8080/"
    },
    "id": "X3IUP7Jxvkma",
    "outputId": "34e5c419-6b0f-4c4f-a3ed-82254d884952"
   },
   "outputs": [
    {
     "name": "stdout",
     "output_type": "stream",
     "text": [
      "Model: \"model\"\n",
      "_________________________________________________________________\n",
      " Layer (type)                Output Shape              Param #   \n",
      "=================================================================\n",
      " input_1 (InputLayer)        [(None, 100, 3)]          0         \n",
      "                                                                 \n",
      " conv1d (Conv1D)             (None, 95, 128)           2432      \n",
      "                                                                 \n",
      " conv1d_1 (Conv1D)           (None, 93, 64)            24640     \n",
      "                                                                 \n",
      " conv1d_2 (Conv1D)           (None, 93, 1)             65        \n",
      "                                                                 \n",
      " lstm (LSTM)                 (None, 93, 128)           66560     \n",
      "                                                                 \n",
      " dropout (Dropout)           (None, 93, 128)           0         \n",
      "                                                                 \n",
      " lstm_1 (LSTM)               (None, 64)                49408     \n",
      "                                                                 \n",
      " rnn_densef (Dense)          (None, 5)                 325       \n",
      "                                                                 \n",
      "=================================================================\n",
      "Total params: 143,430\n",
      "Trainable params: 143,430\n",
      "Non-trainable params: 0\n",
      "_________________________________________________________________\n"
     ]
    }
   ],
   "source": [
    "# Inputs = Input(shape = (100,3))\n",
    "# x = Conv1D(128,(6),activation='relu')(Inputs)\n",
    "# x = Conv1D(64,(3),activation='relu')(x)\n",
    "# x = Conv1D(1, (1), activation='relu')(x)\n",
    "# x = LSTM(128, return_sequences=True)(x)\n",
    "# x = Dropout(rate = 0.5)(x)\n",
    "# x = LSTM(64, return_sequences=False)(x)\n",
    "# predictions = Dense(5, activation='softmax', kernel_initializer='lecun_uniform', name='rnn_densef')(x)\n",
    "# model = Model(inputs=Inputs, outputs=predictions)\n",
    "\n",
    "# model.summary()"
   ]
  },
  {
   "cell_type": "markdown",
   "metadata": {},
   "source": [
    "## Models"
   ]
  },
  {
   "cell_type": "markdown",
   "metadata": {},
   "source": [
    "## LSTM"
   ]
  },
  {
   "cell_type": "code",
   "execution_count": 13,
   "metadata": {},
   "outputs": [
    {
     "name": "stdout",
     "output_type": "stream",
     "text": [
      "Model: \"model_2\"\n",
      "_________________________________________________________________\n",
      " Layer (type)                Output Shape              Param #   \n",
      "=================================================================\n",
      " input_4 (InputLayer)        [(None, 100, 3)]          0         \n",
      "                                                                 \n",
      " conv1d_9 (Conv1D)           (None, 95, 128)           2432      \n",
      "                                                                 \n",
      " relu_0 (Activation)         (None, 95, 128)           0         \n",
      "                                                                 \n",
      " conv1d_10 (Conv1D)          (None, 93, 64)            24640     \n",
      "                                                                 \n",
      " relu_1 (Activation)         (None, 93, 64)            0         \n",
      "                                                                 \n",
      " conv1d_11 (Conv1D)          (None, 93, 1)             65        \n",
      "                                                                 \n",
      " relu_2 (Activation)         (None, 93, 1)             0         \n",
      "                                                                 \n",
      " lstm_11 (LSTM)              (None, 64)                16896     \n",
      "                                                                 \n",
      " rnn_densef (Dense)          (None, 5)                 325       \n",
      "                                                                 \n",
      " output_softmax (Activation)  (None, 5)                0         \n",
      "                                                                 \n",
      "=================================================================\n",
      "Total params: 44,358\n",
      "Trainable params: 44,358\n",
      "Non-trainable params: 0\n",
      "_________________________________________________________________\n"
     ]
    }
   ],
   "source": [
    "Inputs = Input(shape = (100,3))\n",
    "x = Conv1D(128,(6))(Inputs)\n",
    "x = Activation('relu', name = 'relu_0')(x)\n",
    "x = Conv1D(64,(3))(x)\n",
    "x = Activation('relu', name = 'relu_1')(x)\n",
    "x = Conv1D(1, (1))(x)\n",
    "x = Activation('relu', name = 'relu_2')(x)\n",
    "x = LSTM(128, return_sequences=True, name='lstm_10')(x)\n",
    "x = Dropout(rate = 0.5)(x)\n",
    "x = LSTM(64, return_sequences=False, name='lstm_11')(x)\n",
    "predictions = Dense(5, kernel_initializer='lecun_uniform', name='rnn_densef')(x)\n",
    "predictions = Activation('softmax', name = 'output_softmax')(predictions)\n",
    "lstm = Model(inputs=Inputs, outputs=predictions)\n",
    "\n",
    "lstm.summary()"
   ]
  },
  {
   "cell_type": "markdown",
   "metadata": {},
   "source": [
    "## GRU"
   ]
  },
  {
   "cell_type": "code",
   "execution_count": null,
   "metadata": {},
   "outputs": [],
   "source": [
    "Inputs = Input(shape = (100,3))\n",
    "\n",
    "x = GRU(32, return_sequences=True)(Inputs)\n",
    "x = Flatten()(x)\n",
    "x = Dense(32)(x)\n",
    "x = Activation('relu', name = 'relu_0')(x)\n",
    "x = Dropout(rate = 0.5)(x)\n",
    "x = Dense(16)(x)\n",
    "x = Activation('relu', name = 'relu_1')(x)\n",
    "predictions = Dense(5, kernel_initializer='lecun_uniform', name='rnn_densef')(x)\n",
    "predictions = Activation('softmax', name = 'softmax')(predictions)\n",
    "gru = Model(inputs=Inputs, outputs=predictions)\n",
    "\n",
    "gru.summary()"
   ]
  },
  {
   "cell_type": "code",
   "execution_count": null,
   "metadata": {},
   "outputs": [],
   "source": []
  },
  {
   "cell_type": "markdown",
   "metadata": {},
   "source": [
    "## LSTM Floating Point Model Training"
   ]
  },
  {
   "cell_type": "code",
   "execution_count": 9,
   "metadata": {
    "id": "FyIRVO-ovpLc"
   },
   "outputs": [
    {
     "name": "stderr",
     "output_type": "stream",
     "text": [
      "C:\\Users\\cyihu\\anaconda3\\envs\\hls4ml-tutorial\\lib\\site-packages\\keras\\optimizers\\optimizer_v2\\adam.py:114: UserWarning: The `lr` argument is deprecated, use `learning_rate` instead.\n",
      "  super().__init__(name, **kwargs)\n"
     ]
    },
    {
     "name": "stdout",
     "output_type": "stream",
     "text": [
      "Epoch 1/50\n",
      " 79/379 [=====>........................] - ETA: 9s - loss: 0.9916 - accuracy: 0.5344"
     ]
    },
    {
     "ename": "KeyboardInterrupt",
     "evalue": "",
     "output_type": "error",
     "traceback": [
      "\u001b[1;31m---------------------------------------------------------------------------\u001b[0m",
      "\u001b[1;31mKeyboardInterrupt\u001b[0m                         Traceback (most recent call last)",
      "Cell \u001b[1;32mIn [9], line 3\u001b[0m\n\u001b[0;32m      1\u001b[0m adam \u001b[38;5;241m=\u001b[39m Adam(lr \u001b[38;5;241m=\u001b[39m \u001b[38;5;241m0.001\u001b[39m)\n\u001b[0;32m      2\u001b[0m model\u001b[38;5;241m.\u001b[39mcompile(optimizer\u001b[38;5;241m=\u001b[39m\u001b[38;5;124m'\u001b[39m\u001b[38;5;124madam\u001b[39m\u001b[38;5;124m'\u001b[39m, loss\u001b[38;5;241m=\u001b[39m\u001b[38;5;124m'\u001b[39m\u001b[38;5;124mcategorical_crossentropy\u001b[39m\u001b[38;5;124m'\u001b[39m, metrics\u001b[38;5;241m=\u001b[39m[\u001b[38;5;124m'\u001b[39m\u001b[38;5;124maccuracy\u001b[39m\u001b[38;5;124m'\u001b[39m])\n\u001b[1;32m----> 3\u001b[0m history \u001b[38;5;241m=\u001b[39m \u001b[43mmodel\u001b[49m\u001b[38;5;241;43m.\u001b[39;49m\u001b[43mfit\u001b[49m\u001b[43m(\u001b[49m\u001b[43marray1_shuffled\u001b[49m\u001b[43m,\u001b[49m\u001b[43m \u001b[49m\u001b[43marray2_shuffled\u001b[49m\u001b[43m,\u001b[49m\u001b[43m \u001b[49m\u001b[43mbatch_size\u001b[49m\u001b[43m \u001b[49m\u001b[38;5;241;43m=\u001b[39;49m\u001b[43m \u001b[49m\u001b[38;5;241;43m512\u001b[39;49m\u001b[43m,\u001b[49m\u001b[43m \u001b[49m\u001b[43mepochs\u001b[49m\u001b[43m \u001b[49m\u001b[38;5;241;43m=\u001b[39;49m\u001b[43m \u001b[49m\u001b[38;5;241;43m50\u001b[39;49m\u001b[43m,\u001b[49m\u001b[43m \u001b[49m\n\u001b[0;32m      4\u001b[0m \u001b[43m                    \u001b[49m\u001b[43mvalidation_split\u001b[49m\u001b[43m \u001b[49m\u001b[38;5;241;43m=\u001b[39;49m\u001b[43m \u001b[49m\u001b[38;5;241;43m0.2\u001b[39;49m\u001b[43m,\u001b[49m\u001b[43m \u001b[49m\u001b[43mshuffle\u001b[49m\u001b[43m \u001b[49m\u001b[38;5;241;43m=\u001b[39;49m\u001b[43m \u001b[49m\u001b[38;5;28;43;01mTrue\u001b[39;49;00m\u001b[43m,\u001b[49m\u001b[43m \u001b[49m\u001b[43mcallbacks\u001b[49m\u001b[43m \u001b[49m\u001b[38;5;241;43m=\u001b[39;49m\u001b[43m \u001b[49m\u001b[38;5;28;43;01mNone\u001b[39;49;00m\u001b[43m,\u001b[49m\n\u001b[0;32m      5\u001b[0m \u001b[43m                    \u001b[49m\u001b[43muse_multiprocessing\u001b[49m\u001b[38;5;241;43m=\u001b[39;49m\u001b[38;5;28;43;01mTrue\u001b[39;49;00m\u001b[43m,\u001b[49m\u001b[43m \u001b[49m\u001b[43mworkers\u001b[49m\u001b[38;5;241;43m=\u001b[39;49m\u001b[38;5;241;43m4\u001b[39;49m\u001b[43m)\u001b[49m\n\u001b[0;32m      6\u001b[0m labels \u001b[38;5;241m=\u001b[39m [\u001b[38;5;124m'\u001b[39m\u001b[38;5;124mant\u001b[39m\u001b[38;5;124m'\u001b[39m, \u001b[38;5;124m'\u001b[39m\u001b[38;5;124mbee\u001b[39m\u001b[38;5;124m'\u001b[39m, \u001b[38;5;124m'\u001b[39m\u001b[38;5;124mbutterfly\u001b[39m\u001b[38;5;124m'\u001b[39m, \u001b[38;5;124m'\u001b[39m\u001b[38;5;124mmosquito\u001b[39m\u001b[38;5;124m'\u001b[39m, \u001b[38;5;124m'\u001b[39m\u001b[38;5;124msnail\u001b[39m\u001b[38;5;124m'\u001b[39m]\n\u001b[0;32m      7\u001b[0m y_pred \u001b[38;5;241m=\u001b[39m makeRoc(X_testzero, y_tlabhot, labels, model, outputSuffix\u001b[38;5;241m=\u001b[39m\u001b[38;5;124m'\u001b[39m\u001b[38;5;124mtwo-layer\u001b[39m\u001b[38;5;124m'\u001b[39m)\n",
      "File \u001b[1;32m~\\anaconda3\\envs\\hls4ml-tutorial\\lib\\site-packages\\keras\\utils\\traceback_utils.py:65\u001b[0m, in \u001b[0;36mfilter_traceback.<locals>.error_handler\u001b[1;34m(*args, **kwargs)\u001b[0m\n\u001b[0;32m     63\u001b[0m filtered_tb \u001b[38;5;241m=\u001b[39m \u001b[38;5;28;01mNone\u001b[39;00m\n\u001b[0;32m     64\u001b[0m \u001b[38;5;28;01mtry\u001b[39;00m:\n\u001b[1;32m---> 65\u001b[0m     \u001b[38;5;28;01mreturn\u001b[39;00m \u001b[43mfn\u001b[49m\u001b[43m(\u001b[49m\u001b[38;5;241;43m*\u001b[39;49m\u001b[43margs\u001b[49m\u001b[43m,\u001b[49m\u001b[43m \u001b[49m\u001b[38;5;241;43m*\u001b[39;49m\u001b[38;5;241;43m*\u001b[39;49m\u001b[43mkwargs\u001b[49m\u001b[43m)\u001b[49m\n\u001b[0;32m     66\u001b[0m \u001b[38;5;28;01mexcept\u001b[39;00m \u001b[38;5;167;01mException\u001b[39;00m \u001b[38;5;28;01mas\u001b[39;00m e:\n\u001b[0;32m     67\u001b[0m     filtered_tb \u001b[38;5;241m=\u001b[39m _process_traceback_frames(e\u001b[38;5;241m.\u001b[39m__traceback__)\n",
      "File \u001b[1;32m~\\anaconda3\\envs\\hls4ml-tutorial\\lib\\site-packages\\keras\\engine\\training.py:1564\u001b[0m, in \u001b[0;36mModel.fit\u001b[1;34m(self, x, y, batch_size, epochs, verbose, callbacks, validation_split, validation_data, shuffle, class_weight, sample_weight, initial_epoch, steps_per_epoch, validation_steps, validation_batch_size, validation_freq, max_queue_size, workers, use_multiprocessing)\u001b[0m\n\u001b[0;32m   1556\u001b[0m \u001b[38;5;28;01mwith\u001b[39;00m tf\u001b[38;5;241m.\u001b[39mprofiler\u001b[38;5;241m.\u001b[39mexperimental\u001b[38;5;241m.\u001b[39mTrace(\n\u001b[0;32m   1557\u001b[0m     \u001b[38;5;124m\"\u001b[39m\u001b[38;5;124mtrain\u001b[39m\u001b[38;5;124m\"\u001b[39m,\n\u001b[0;32m   1558\u001b[0m     epoch_num\u001b[38;5;241m=\u001b[39mepoch,\n\u001b[1;32m   (...)\u001b[0m\n\u001b[0;32m   1561\u001b[0m     _r\u001b[38;5;241m=\u001b[39m\u001b[38;5;241m1\u001b[39m,\n\u001b[0;32m   1562\u001b[0m ):\n\u001b[0;32m   1563\u001b[0m     callbacks\u001b[38;5;241m.\u001b[39mon_train_batch_begin(step)\n\u001b[1;32m-> 1564\u001b[0m     tmp_logs \u001b[38;5;241m=\u001b[39m \u001b[38;5;28;43mself\u001b[39;49m\u001b[38;5;241;43m.\u001b[39;49m\u001b[43mtrain_function\u001b[49m\u001b[43m(\u001b[49m\u001b[43miterator\u001b[49m\u001b[43m)\u001b[49m\n\u001b[0;32m   1565\u001b[0m     \u001b[38;5;28;01mif\u001b[39;00m data_handler\u001b[38;5;241m.\u001b[39mshould_sync:\n\u001b[0;32m   1566\u001b[0m         context\u001b[38;5;241m.\u001b[39masync_wait()\n",
      "File \u001b[1;32m~\\anaconda3\\envs\\hls4ml-tutorial\\lib\\site-packages\\tensorflow\\python\\util\\traceback_utils.py:150\u001b[0m, in \u001b[0;36mfilter_traceback.<locals>.error_handler\u001b[1;34m(*args, **kwargs)\u001b[0m\n\u001b[0;32m    148\u001b[0m filtered_tb \u001b[38;5;241m=\u001b[39m \u001b[38;5;28;01mNone\u001b[39;00m\n\u001b[0;32m    149\u001b[0m \u001b[38;5;28;01mtry\u001b[39;00m:\n\u001b[1;32m--> 150\u001b[0m   \u001b[38;5;28;01mreturn\u001b[39;00m \u001b[43mfn\u001b[49m\u001b[43m(\u001b[49m\u001b[38;5;241;43m*\u001b[39;49m\u001b[43margs\u001b[49m\u001b[43m,\u001b[49m\u001b[43m \u001b[49m\u001b[38;5;241;43m*\u001b[39;49m\u001b[38;5;241;43m*\u001b[39;49m\u001b[43mkwargs\u001b[49m\u001b[43m)\u001b[49m\n\u001b[0;32m    151\u001b[0m \u001b[38;5;28;01mexcept\u001b[39;00m \u001b[38;5;167;01mException\u001b[39;00m \u001b[38;5;28;01mas\u001b[39;00m e:\n\u001b[0;32m    152\u001b[0m   filtered_tb \u001b[38;5;241m=\u001b[39m _process_traceback_frames(e\u001b[38;5;241m.\u001b[39m__traceback__)\n",
      "File \u001b[1;32m~\\anaconda3\\envs\\hls4ml-tutorial\\lib\\site-packages\\tensorflow\\python\\eager\\def_function.py:915\u001b[0m, in \u001b[0;36mFunction.__call__\u001b[1;34m(self, *args, **kwds)\u001b[0m\n\u001b[0;32m    912\u001b[0m compiler \u001b[38;5;241m=\u001b[39m \u001b[38;5;124m\"\u001b[39m\u001b[38;5;124mxla\u001b[39m\u001b[38;5;124m\"\u001b[39m \u001b[38;5;28;01mif\u001b[39;00m \u001b[38;5;28mself\u001b[39m\u001b[38;5;241m.\u001b[39m_jit_compile \u001b[38;5;28;01melse\u001b[39;00m \u001b[38;5;124m\"\u001b[39m\u001b[38;5;124mnonXla\u001b[39m\u001b[38;5;124m\"\u001b[39m\n\u001b[0;32m    914\u001b[0m \u001b[38;5;28;01mwith\u001b[39;00m OptionalXlaContext(\u001b[38;5;28mself\u001b[39m\u001b[38;5;241m.\u001b[39m_jit_compile):\n\u001b[1;32m--> 915\u001b[0m   result \u001b[38;5;241m=\u001b[39m \u001b[38;5;28;43mself\u001b[39;49m\u001b[38;5;241;43m.\u001b[39;49m\u001b[43m_call\u001b[49m\u001b[43m(\u001b[49m\u001b[38;5;241;43m*\u001b[39;49m\u001b[43margs\u001b[49m\u001b[43m,\u001b[49m\u001b[43m \u001b[49m\u001b[38;5;241;43m*\u001b[39;49m\u001b[38;5;241;43m*\u001b[39;49m\u001b[43mkwds\u001b[49m\u001b[43m)\u001b[49m\n\u001b[0;32m    917\u001b[0m new_tracing_count \u001b[38;5;241m=\u001b[39m \u001b[38;5;28mself\u001b[39m\u001b[38;5;241m.\u001b[39mexperimental_get_tracing_count()\n\u001b[0;32m    918\u001b[0m without_tracing \u001b[38;5;241m=\u001b[39m (tracing_count \u001b[38;5;241m==\u001b[39m new_tracing_count)\n",
      "File \u001b[1;32m~\\anaconda3\\envs\\hls4ml-tutorial\\lib\\site-packages\\tensorflow\\python\\eager\\def_function.py:947\u001b[0m, in \u001b[0;36mFunction._call\u001b[1;34m(self, *args, **kwds)\u001b[0m\n\u001b[0;32m    944\u001b[0m   \u001b[38;5;28mself\u001b[39m\u001b[38;5;241m.\u001b[39m_lock\u001b[38;5;241m.\u001b[39mrelease()\n\u001b[0;32m    945\u001b[0m   \u001b[38;5;66;03m# In this case we have created variables on the first call, so we run the\u001b[39;00m\n\u001b[0;32m    946\u001b[0m   \u001b[38;5;66;03m# defunned version which is guaranteed to never create variables.\u001b[39;00m\n\u001b[1;32m--> 947\u001b[0m   \u001b[38;5;28;01mreturn\u001b[39;00m \u001b[38;5;28;43mself\u001b[39;49m\u001b[38;5;241;43m.\u001b[39;49m\u001b[43m_stateless_fn\u001b[49m\u001b[43m(\u001b[49m\u001b[38;5;241;43m*\u001b[39;49m\u001b[43margs\u001b[49m\u001b[43m,\u001b[49m\u001b[43m \u001b[49m\u001b[38;5;241;43m*\u001b[39;49m\u001b[38;5;241;43m*\u001b[39;49m\u001b[43mkwds\u001b[49m\u001b[43m)\u001b[49m  \u001b[38;5;66;03m# pylint: disable=not-callable\u001b[39;00m\n\u001b[0;32m    948\u001b[0m \u001b[38;5;28;01melif\u001b[39;00m \u001b[38;5;28mself\u001b[39m\u001b[38;5;241m.\u001b[39m_stateful_fn \u001b[38;5;129;01mis\u001b[39;00m \u001b[38;5;129;01mnot\u001b[39;00m \u001b[38;5;28;01mNone\u001b[39;00m:\n\u001b[0;32m    949\u001b[0m   \u001b[38;5;66;03m# Release the lock early so that multiple threads can perform the call\u001b[39;00m\n\u001b[0;32m    950\u001b[0m   \u001b[38;5;66;03m# in parallel.\u001b[39;00m\n\u001b[0;32m    951\u001b[0m   \u001b[38;5;28mself\u001b[39m\u001b[38;5;241m.\u001b[39m_lock\u001b[38;5;241m.\u001b[39mrelease()\n",
      "File \u001b[1;32m~\\anaconda3\\envs\\hls4ml-tutorial\\lib\\site-packages\\tensorflow\\python\\eager\\function.py:2496\u001b[0m, in \u001b[0;36mFunction.__call__\u001b[1;34m(self, *args, **kwargs)\u001b[0m\n\u001b[0;32m   2493\u001b[0m \u001b[38;5;28;01mwith\u001b[39;00m \u001b[38;5;28mself\u001b[39m\u001b[38;5;241m.\u001b[39m_lock:\n\u001b[0;32m   2494\u001b[0m   (graph_function,\n\u001b[0;32m   2495\u001b[0m    filtered_flat_args) \u001b[38;5;241m=\u001b[39m \u001b[38;5;28mself\u001b[39m\u001b[38;5;241m.\u001b[39m_maybe_define_function(args, kwargs)\n\u001b[1;32m-> 2496\u001b[0m \u001b[38;5;28;01mreturn\u001b[39;00m \u001b[43mgraph_function\u001b[49m\u001b[38;5;241;43m.\u001b[39;49m\u001b[43m_call_flat\u001b[49m\u001b[43m(\u001b[49m\n\u001b[0;32m   2497\u001b[0m \u001b[43m    \u001b[49m\u001b[43mfiltered_flat_args\u001b[49m\u001b[43m,\u001b[49m\u001b[43m \u001b[49m\u001b[43mcaptured_inputs\u001b[49m\u001b[38;5;241;43m=\u001b[39;49m\u001b[43mgraph_function\u001b[49m\u001b[38;5;241;43m.\u001b[39;49m\u001b[43mcaptured_inputs\u001b[49m\u001b[43m)\u001b[49m\n",
      "File \u001b[1;32m~\\anaconda3\\envs\\hls4ml-tutorial\\lib\\site-packages\\tensorflow\\python\\eager\\function.py:1862\u001b[0m, in \u001b[0;36mConcreteFunction._call_flat\u001b[1;34m(self, args, captured_inputs, cancellation_manager)\u001b[0m\n\u001b[0;32m   1858\u001b[0m possible_gradient_type \u001b[38;5;241m=\u001b[39m gradients_util\u001b[38;5;241m.\u001b[39mPossibleTapeGradientTypes(args)\n\u001b[0;32m   1859\u001b[0m \u001b[38;5;28;01mif\u001b[39;00m (possible_gradient_type \u001b[38;5;241m==\u001b[39m gradients_util\u001b[38;5;241m.\u001b[39mPOSSIBLE_GRADIENT_TYPES_NONE\n\u001b[0;32m   1860\u001b[0m     \u001b[38;5;129;01mand\u001b[39;00m executing_eagerly):\n\u001b[0;32m   1861\u001b[0m   \u001b[38;5;66;03m# No tape is watching; skip to running the function.\u001b[39;00m\n\u001b[1;32m-> 1862\u001b[0m   \u001b[38;5;28;01mreturn\u001b[39;00m \u001b[38;5;28mself\u001b[39m\u001b[38;5;241m.\u001b[39m_build_call_outputs(\u001b[38;5;28;43mself\u001b[39;49m\u001b[38;5;241;43m.\u001b[39;49m\u001b[43m_inference_function\u001b[49m\u001b[38;5;241;43m.\u001b[39;49m\u001b[43mcall\u001b[49m\u001b[43m(\u001b[49m\n\u001b[0;32m   1863\u001b[0m \u001b[43m      \u001b[49m\u001b[43mctx\u001b[49m\u001b[43m,\u001b[49m\u001b[43m \u001b[49m\u001b[43margs\u001b[49m\u001b[43m,\u001b[49m\u001b[43m \u001b[49m\u001b[43mcancellation_manager\u001b[49m\u001b[38;5;241;43m=\u001b[39;49m\u001b[43mcancellation_manager\u001b[49m\u001b[43m)\u001b[49m)\n\u001b[0;32m   1864\u001b[0m forward_backward \u001b[38;5;241m=\u001b[39m \u001b[38;5;28mself\u001b[39m\u001b[38;5;241m.\u001b[39m_select_forward_and_backward_functions(\n\u001b[0;32m   1865\u001b[0m     args,\n\u001b[0;32m   1866\u001b[0m     possible_gradient_type,\n\u001b[0;32m   1867\u001b[0m     executing_eagerly)\n\u001b[0;32m   1868\u001b[0m forward_function, args_with_tangents \u001b[38;5;241m=\u001b[39m forward_backward\u001b[38;5;241m.\u001b[39mforward()\n",
      "File \u001b[1;32m~\\anaconda3\\envs\\hls4ml-tutorial\\lib\\site-packages\\tensorflow\\python\\eager\\function.py:499\u001b[0m, in \u001b[0;36m_EagerDefinedFunction.call\u001b[1;34m(self, ctx, args, cancellation_manager)\u001b[0m\n\u001b[0;32m    497\u001b[0m \u001b[38;5;28;01mwith\u001b[39;00m _InterpolateFunctionError(\u001b[38;5;28mself\u001b[39m):\n\u001b[0;32m    498\u001b[0m   \u001b[38;5;28;01mif\u001b[39;00m cancellation_manager \u001b[38;5;129;01mis\u001b[39;00m \u001b[38;5;28;01mNone\u001b[39;00m:\n\u001b[1;32m--> 499\u001b[0m     outputs \u001b[38;5;241m=\u001b[39m \u001b[43mexecute\u001b[49m\u001b[38;5;241;43m.\u001b[39;49m\u001b[43mexecute\u001b[49m\u001b[43m(\u001b[49m\n\u001b[0;32m    500\u001b[0m \u001b[43m        \u001b[49m\u001b[38;5;28;43mstr\u001b[39;49m\u001b[43m(\u001b[49m\u001b[38;5;28;43mself\u001b[39;49m\u001b[38;5;241;43m.\u001b[39;49m\u001b[43msignature\u001b[49m\u001b[38;5;241;43m.\u001b[39;49m\u001b[43mname\u001b[49m\u001b[43m)\u001b[49m\u001b[43m,\u001b[49m\n\u001b[0;32m    501\u001b[0m \u001b[43m        \u001b[49m\u001b[43mnum_outputs\u001b[49m\u001b[38;5;241;43m=\u001b[39;49m\u001b[38;5;28;43mself\u001b[39;49m\u001b[38;5;241;43m.\u001b[39;49m\u001b[43m_num_outputs\u001b[49m\u001b[43m,\u001b[49m\n\u001b[0;32m    502\u001b[0m \u001b[43m        \u001b[49m\u001b[43minputs\u001b[49m\u001b[38;5;241;43m=\u001b[39;49m\u001b[43margs\u001b[49m\u001b[43m,\u001b[49m\n\u001b[0;32m    503\u001b[0m \u001b[43m        \u001b[49m\u001b[43mattrs\u001b[49m\u001b[38;5;241;43m=\u001b[39;49m\u001b[43mattrs\u001b[49m\u001b[43m,\u001b[49m\n\u001b[0;32m    504\u001b[0m \u001b[43m        \u001b[49m\u001b[43mctx\u001b[49m\u001b[38;5;241;43m=\u001b[39;49m\u001b[43mctx\u001b[49m\u001b[43m)\u001b[49m\n\u001b[0;32m    505\u001b[0m   \u001b[38;5;28;01melse\u001b[39;00m:\n\u001b[0;32m    506\u001b[0m     outputs \u001b[38;5;241m=\u001b[39m execute\u001b[38;5;241m.\u001b[39mexecute_with_cancellation(\n\u001b[0;32m    507\u001b[0m         \u001b[38;5;28mstr\u001b[39m(\u001b[38;5;28mself\u001b[39m\u001b[38;5;241m.\u001b[39msignature\u001b[38;5;241m.\u001b[39mname),\n\u001b[0;32m    508\u001b[0m         num_outputs\u001b[38;5;241m=\u001b[39m\u001b[38;5;28mself\u001b[39m\u001b[38;5;241m.\u001b[39m_num_outputs,\n\u001b[1;32m   (...)\u001b[0m\n\u001b[0;32m    511\u001b[0m         ctx\u001b[38;5;241m=\u001b[39mctx,\n\u001b[0;32m    512\u001b[0m         cancellation_manager\u001b[38;5;241m=\u001b[39mcancellation_manager)\n",
      "File \u001b[1;32m~\\anaconda3\\envs\\hls4ml-tutorial\\lib\\site-packages\\tensorflow\\python\\eager\\execute.py:54\u001b[0m, in \u001b[0;36mquick_execute\u001b[1;34m(op_name, num_outputs, inputs, attrs, ctx, name)\u001b[0m\n\u001b[0;32m     52\u001b[0m \u001b[38;5;28;01mtry\u001b[39;00m:\n\u001b[0;32m     53\u001b[0m   ctx\u001b[38;5;241m.\u001b[39mensure_initialized()\n\u001b[1;32m---> 54\u001b[0m   tensors \u001b[38;5;241m=\u001b[39m \u001b[43mpywrap_tfe\u001b[49m\u001b[38;5;241;43m.\u001b[39;49m\u001b[43mTFE_Py_Execute\u001b[49m\u001b[43m(\u001b[49m\u001b[43mctx\u001b[49m\u001b[38;5;241;43m.\u001b[39;49m\u001b[43m_handle\u001b[49m\u001b[43m,\u001b[49m\u001b[43m \u001b[49m\u001b[43mdevice_name\u001b[49m\u001b[43m,\u001b[49m\u001b[43m \u001b[49m\u001b[43mop_name\u001b[49m\u001b[43m,\u001b[49m\n\u001b[0;32m     55\u001b[0m \u001b[43m                                      \u001b[49m\u001b[43minputs\u001b[49m\u001b[43m,\u001b[49m\u001b[43m \u001b[49m\u001b[43mattrs\u001b[49m\u001b[43m,\u001b[49m\u001b[43m \u001b[49m\u001b[43mnum_outputs\u001b[49m\u001b[43m)\u001b[49m\n\u001b[0;32m     56\u001b[0m \u001b[38;5;28;01mexcept\u001b[39;00m core\u001b[38;5;241m.\u001b[39m_NotOkStatusException \u001b[38;5;28;01mas\u001b[39;00m e:\n\u001b[0;32m     57\u001b[0m   \u001b[38;5;28;01mif\u001b[39;00m name \u001b[38;5;129;01mis\u001b[39;00m \u001b[38;5;129;01mnot\u001b[39;00m \u001b[38;5;28;01mNone\u001b[39;00m:\n",
      "\u001b[1;31mKeyboardInterrupt\u001b[0m: "
     ]
    }
   ],
   "source": [
    "adam = Adam(lr = 0.001)\n",
    "lstm.compile(optimizer='adam', loss='categorical_crossentropy', metrics=['accuracy'])\n",
    "history = lstm.fit(array1_shuffled, array2_shuffled, batch_size = 512, epochs = 50, \n",
    "                    validation_split = 0.2, shuffle = True, callbacks = None,\n",
    "                    use_multiprocessing=True, workers=4)\n",
    "labels = ['ant', 'bee', 'butterfly', 'mosquito', 'snail']\n",
    "y_pred = makeRoc(X_testzero, y_tlabhot, labels, lstm, outputSuffix='two-layer')\n",
    "y_keras = lstm.predict(X_testzero, batch_size=512)\n",
    "auc_score = roc_auc_score(y_tlabhot, y_keras)\n",
    "print(auc_score)\n",
    "model.save('./lstm/Quickdraw5Class1.h5')"
   ]
  },
  {
   "cell_type": "code",
   "execution_count": 26,
   "metadata": {
    "colab": {
     "base_uri": "https://localhost:8080/",
     "height": 513
    },
    "id": "nj1eE-DCzgNx",
    "outputId": "43b3cb5e-2f42-4577-ccf0-5c30a62a3f44"
   },
   "outputs": [
    {
     "data": {
      "image/png": "[encoded data removed]",
      "text/plain": [
       "<Figure size 1000x800 with 1 Axes>"
      ]
     },
     "metadata": {},
     "output_type": "display_data"
    }
   ],
   "source": [
    "learningCurve(history)"
   ]
  },
  {
   "cell_type": "markdown",
   "metadata": {},
   "source": [
    "## GRU Floating Point Model Training"
   ]
  },
  {
   "cell_type": "code",
   "execution_count": null,
   "metadata": {},
   "outputs": [],
   "source": [
    "adam = Adam(lr = 0.001)\n",
    "gru.compile(optimizer='adam', loss='categorical_crossentropy', metrics=['accuracy'])\n",
    "history = gru.fit(array1_shuffled, array2_shuffled, batch_size = 512, epochs = 50, \n",
    "                    validation_split = 0.2, shuffle = True, callbacks = None,\n",
    "                    use_multiprocessing=True, workers=4)\n",
    "labels = ['ant', 'bee', 'butterfly', 'mosquito', 'snail']\n",
    "y_pred = makeRoc(X_testzero, y_tlabhot, labels, gru, outputSuffix='two-layer')\n",
    "y_keras = gru.predict(X_testzero, batch_size=512)\n",
    "auc_score = roc_auc_score(y_tlabhot, y_keras)\n",
    "print(auc_score)\n",
    "model.save('./gru/Quickdraw5Class1.h5')"
   ]
  },
  {
   "cell_type": "code",
   "execution_count": null,
   "metadata": {},
   "outputs": [],
   "source": [
    "learningCurve(history)"
   ]
  },
  {
   "cell_type": "markdown",
   "metadata": {},
   "source": [
    "## QLSTM Quantization Aware Training"
   ]
  },
  {
   "cell_type": "code",
   "execution_count": 14,
   "metadata": {},
   "outputs": [
    {
     "name": "stdout",
     "output_type": "stream",
     "text": [
      "Model: \"model_2\"\n",
      "_________________________________________________________________\n",
      " Layer (type)                Output Shape              Param #   \n",
      "=================================================================\n",
      " input_4 (InputLayer)        [(None, 100, 3)]          0         \n",
      "                                                                 \n",
      " conv1d_9 (QConv1D)          (None, 95, 128)           2432      \n",
      "                                                                 \n",
      " relu_0 (QActivation)        (None, 95, 128)           0         \n",
      "                                                                 \n",
      " conv1d_10 (QConv1D)         (None, 93, 64)            24640     \n",
      "                                                                 \n",
      " relu_1 (QActivation)        (None, 93, 64)            0         \n",
      "                                                                 \n",
      " conv1d_11 (QConv1D)         (None, 93, 1)             65        \n",
      "                                                                 \n",
      " relu_2 (QActivation)        (None, 93, 1)             0         \n",
      "                                                                 \n",
      " lstm_11 (QLSTM)             (None, 64)                16896     \n",
      "                                                                 \n",
      " rnn_densef (QDense)         (None, 5)                 325       \n",
      "                                                                 \n",
      " output_softmax (Activation)  (None, 5)                0         \n",
      "                                                                 \n",
      "=================================================================\n",
      "Total params: 44,358\n",
      "Trainable params: 44,358\n",
      "Non-trainable params: 0\n",
      "_________________________________________________________________\n"
     ]
    }
   ],
   "source": [
    "for i in [2, 4]:\n",
    "    for j in [2, 4, 6, 8, 10, 12, 14, 16, 18]:\n",
    "        int_bits = i\n",
    "        total_bits = i+j+1\n",
    "        config = {\n",
    "            \"lstm_10\":{\n",
    "                \"kernel_quantizer\" : f\"quantized_bits({total_bits},{int_bits},1)\",\n",
    "                 \"bias_quantizer\" : f\"quantized_bits({total_bits},{int_bits},1)\",\n",
    "                 \"recurrent_quantizer\": f\"quantized_bits({total_bits},{int_bits},1)\",\n",
    "                 \"state_quantizer\" : f\"quantized_bits({total_bits},{int_bits},1)\"\n",
    "            },\n",
    "            \"lstm_11\":{\n",
    "                \"kernel_quantizer\" : f\"quantized_bits({total_bits},{int_bits},1)\",\n",
    "                 \"bias_quantizer\" : f\"quantized_bits({total_bits},{int_bits},1)\",\n",
    "                 \"recurrent_quantizer\": f\"quantized_bits({total_bits},{int_bits},1)\",\n",
    "                 \"state_quantizer\" : f\"quantized_bits({total_bits},{int_bits},1)\"\n",
    "            },\n",
    "            \"QDense\":{\n",
    "                \"kernel_quantizer\" : f\"quantized_bits({total_bits},{int_bits},1)\",\n",
    "                \"bias_quantizer\" : f\"quantized_bits({total_bits},{int_bits},1)\"\n",
    "            },\n",
    "            \"QConv1D\":{\n",
    "                \"kernel_quantizer\" : f\"quantized_bits({total_bits},{int_bits},1)\",\n",
    "                \"bias_quantizer\" : f\"quantized_bits({total_bits},{int_bits},1)\"\n",
    "            },\n",
    "            \"relu_0\" : f\"quantized_relu({total_bits},{int_bits},1)\",\n",
    "            \"relu_1\" : f\"quantized_relu({total_bits},{int_bits},1)\",\n",
    "            \"relu_2\" : f\"quantized_relu({total_bits},{int_bits},1)\",\n",
    "#             \"QActivation\":{\n",
    "#                 f\"quantized_bits({total_bits},{int_bits},1)\"\n",
    "#             }\n",
    "        }\n",
    "        qlstm = model_quantize(lstm, config, total_bits, transfer_weights=False)\n",
    "        qlstm.summary()\n",
    "        adam = Adam(lr = 0.001)\n",
    "        qlstm.compile(optimizer='adam', loss='categorical_crossentropy', metrics=['accuracy'])\n",
    "        history = qlstm.fit(array1_shuffled, array2_shuffled, batch_size = 512, epochs = 50, \n",
    "                            validation_split = 0.2, shuffle = True, callbacks = None,\n",
    "                            use_multiprocessing=True, workers=4)\n",
    "\n",
    "        y_keras = qlstm.predict(X_testzero, batch_size=512)\n",
    "        auc_score = roc_auc_score(y_tlabhot, y_keras)\n",
    "        print(auc_score)\n",
    "        model.save(f'./qlstm_{i}int/qlstm_{j}frac.h5')"
   ]
  },
  {
   "cell_type": "code",
   "execution_count": null,
   "metadata": {},
   "outputs": [],
   "source": [
    "labels = ['ant', 'bee', 'butterfly', 'mosquito', 'snail']\n",
    "y_pred = makeRoc(X_testzero, y_tlabhot, labels, qlstm, outputSuffix='two-layer')"
   ]
  },
  {
   "cell_type": "markdown",
   "metadata": {},
   "source": [
    "## QGRU Quantization Aware Training"
   ]
  },
  {
   "cell_type": "code",
   "execution_count": null,
   "metadata": {
    "scrolled": true
   },
   "outputs": [
    {
     "name": "stderr",
     "output_type": "stream",
     "text": [
      "C:\\Users\\cyihu\\anaconda3\\envs\\hls4ml-tutorial\\lib\\site-packages\\keras\\optimizers\\optimizer_v2\\adam.py:114: UserWarning: The `lr` argument is deprecated, use `learning_rate` instead.\n",
      "  super().__init__(name, **kwargs)\n"
     ]
    },
    {
     "name": "stdout",
     "output_type": "stream",
     "text": [
      "Epoch 1/50\n",
      "379/379 [==============================] - 22s 47ms/step - loss: 0.5675 - accuracy: 0.7958 - val_loss: 0.3053 - val_accuracy: 0.9122\n",
      "Epoch 2/50\n",
      "379/379 [==============================] - 16s 43ms/step - loss: 0.2700 - accuracy: 0.9202 - val_loss: 0.2436 - val_accuracy: 0.9272\n",
      "Epoch 3/50\n",
      "379/379 [==============================] - 16s 43ms/step - loss: 0.2265 - accuracy: 0.9316 - val_loss: 0.2121 - val_accuracy: 0.9350\n",
      "Epoch 4/50\n",
      "379/379 [==============================] - 16s 43ms/step - loss: 0.2036 - accuracy: 0.9373 - val_loss: 0.1929 - val_accuracy: 0.9396\n",
      "Epoch 5/50\n",
      "379/379 [==============================] - 16s 42ms/step - loss: 0.1819 - accuracy: 0.9432 - val_loss: 0.1711 - val_accuracy: 0.9459\n",
      "Epoch 6/50\n",
      "379/379 [==============================] - 16s 43ms/step - loss: 0.1680 - accuracy: 0.9471 - val_loss: 0.1658 - val_accuracy: 0.9480\n",
      "Epoch 7/50\n",
      "379/379 [==============================] - 16s 43ms/step - loss: 0.1552 - accuracy: 0.9506 - val_loss: 0.1552 - val_accuracy: 0.9513\n",
      "Epoch 8/50\n",
      "379/379 [==============================] - 16s 43ms/step - loss: 0.1493 - accuracy: 0.9523 - val_loss: 0.1470 - val_accuracy: 0.9531\n",
      "Epoch 9/50\n",
      "379/379 [==============================] - 16s 42ms/step - loss: 0.1397 - accuracy: 0.9553 - val_loss: 0.1513 - val_accuracy: 0.9522\n",
      "Epoch 10/50\n",
      "379/379 [==============================] - 16s 43ms/step - loss: 0.1342 - accuracy: 0.9571 - val_loss: 0.1386 - val_accuracy: 0.9561\n",
      "Epoch 11/50\n",
      "379/379 [==============================] - 16s 43ms/step - loss: 0.1277 - accuracy: 0.9588 - val_loss: 0.1418 - val_accuracy: 0.9553\n",
      "Epoch 12/50\n",
      "379/379 [==============================] - 16s 43ms/step - loss: 0.1239 - accuracy: 0.9598 - val_loss: 0.1393 - val_accuracy: 0.9573\n",
      "Epoch 13/50\n",
      "379/379 [==============================] - 16s 43ms/step - loss: 0.1192 - accuracy: 0.9615 - val_loss: 0.1297 - val_accuracy: 0.9589\n",
      "Epoch 14/50\n",
      "379/379 [==============================] - 16s 43ms/step - loss: 0.1151 - accuracy: 0.9626 - val_loss: 0.1257 - val_accuracy: 0.9590\n",
      "Epoch 15/50\n",
      "379/379 [==============================] - 16s 43ms/step - loss: 0.1118 - accuracy: 0.9636 - val_loss: 0.1215 - val_accuracy: 0.9608\n",
      "Epoch 16/50\n",
      "379/379 [==============================] - 16s 43ms/step - loss: 0.1082 - accuracy: 0.9646 - val_loss: 0.1229 - val_accuracy: 0.9611\n",
      "Epoch 17/50\n",
      "379/379 [==============================] - 16s 42ms/step - loss: 0.1063 - accuracy: 0.9655 - val_loss: 0.1206 - val_accuracy: 0.9615\n",
      "Epoch 18/50\n",
      "379/379 [==============================] - 16s 43ms/step - loss: 0.1042 - accuracy: 0.9659 - val_loss: 0.1161 - val_accuracy: 0.9632\n",
      "Epoch 19/50\n",
      "379/379 [==============================] - 16s 43ms/step - loss: 0.1003 - accuracy: 0.9671 - val_loss: 0.1252 - val_accuracy: 0.9621\n",
      "Epoch 20/50\n",
      "379/379 [==============================] - 16s 42ms/step - loss: 0.0972 - accuracy: 0.9679 - val_loss: 0.1188 - val_accuracy: 0.9633\n",
      "Epoch 21/50\n",
      "379/379 [==============================] - 16s 43ms/step - loss: 0.0949 - accuracy: 0.9687 - val_loss: 0.1124 - val_accuracy: 0.9644\n",
      "Epoch 22/50\n",
      "379/379 [==============================] - 16s 43ms/step - loss: 0.0937 - accuracy: 0.9691 - val_loss: 0.1136 - val_accuracy: 0.9635\n",
      "Epoch 23/50\n",
      "379/379 [==============================] - 16s 43ms/step - loss: 0.0897 - accuracy: 0.9699 - val_loss: 0.1165 - val_accuracy: 0.9635\n",
      "Epoch 24/50\n",
      "379/379 [==============================] - 16s 43ms/step - loss: 0.0886 - accuracy: 0.9707 - val_loss: 0.1151 - val_accuracy: 0.9630\n",
      "Epoch 25/50\n",
      "379/379 [==============================] - 16s 43ms/step - loss: 0.0855 - accuracy: 0.9716 - val_loss: 0.1111 - val_accuracy: 0.9643\n",
      "Epoch 26/50\n",
      "379/379 [==============================] - 16s 43ms/step - loss: 0.0829 - accuracy: 0.9723 - val_loss: 0.1119 - val_accuracy: 0.9654\n",
      "Epoch 27/50\n",
      "379/379 [==============================] - 16s 43ms/step - loss: 0.0822 - accuracy: 0.9724 - val_loss: 0.1109 - val_accuracy: 0.9654\n",
      "Epoch 28/50\n",
      "379/379 [==============================] - 16s 43ms/step - loss: 0.0802 - accuracy: 0.9729 - val_loss: 0.1118 - val_accuracy: 0.9654\n",
      "Epoch 29/50\n",
      "379/379 [==============================] - 16s 43ms/step - loss: 0.0771 - accuracy: 0.9741 - val_loss: 0.1112 - val_accuracy: 0.9643\n",
      "Epoch 30/50\n",
      "379/379 [==============================] - 16s 43ms/step - loss: 0.0754 - accuracy: 0.9746 - val_loss: 0.1050 - val_accuracy: 0.9671\n",
      "Epoch 31/50\n",
      "379/379 [==============================] - 16s 43ms/step - loss: 0.0755 - accuracy: 0.9747 - val_loss: 0.1088 - val_accuracy: 0.9666\n",
      "Epoch 32/50\n",
      "379/379 [==============================] - 16s 42ms/step - loss: 0.0715 - accuracy: 0.9759 - val_loss: 0.1074 - val_accuracy: 0.9657\n",
      "Epoch 33/50\n",
      "379/379 [==============================] - 16s 42ms/step - loss: 0.0698 - accuracy: 0.9763 - val_loss: 0.1171 - val_accuracy: 0.9625\n",
      "Epoch 34/50\n",
      "379/379 [==============================] - 16s 43ms/step - loss: 0.0701 - accuracy: 0.9762 - val_loss: 0.1150 - val_accuracy: 0.9671\n",
      "Epoch 35/50\n",
      "379/379 [==============================] - 16s 43ms/step - loss: 0.0682 - accuracy: 0.9769 - val_loss: 0.1093 - val_accuracy: 0.9674\n",
      "Epoch 36/50\n",
      "379/379 [==============================] - 16s 43ms/step - loss: 0.0667 - accuracy: 0.9771 - val_loss: 0.1100 - val_accuracy: 0.9652\n",
      "Epoch 37/50\n",
      "379/379 [==============================] - 16s 43ms/step - loss: 0.0652 - accuracy: 0.9777 - val_loss: 0.1089 - val_accuracy: 0.9662\n",
      "Epoch 38/50\n",
      "379/379 [==============================] - 16s 43ms/step - loss: 0.0642 - accuracy: 0.9781 - val_loss: 0.1095 - val_accuracy: 0.9668\n",
      "Epoch 39/50\n",
      "379/379 [==============================] - 16s 43ms/step - loss: 0.0624 - accuracy: 0.9787 - val_loss: 0.1108 - val_accuracy: 0.9677\n",
      "Epoch 40/50\n",
      "379/379 [==============================] - 16s 43ms/step - loss: 0.0598 - accuracy: 0.9795 - val_loss: 0.1100 - val_accuracy: 0.9681\n",
      "Epoch 41/50\n",
      "379/379 [==============================] - 16s 43ms/step - loss: 0.0590 - accuracy: 0.9798 - val_loss: 0.1121 - val_accuracy: 0.9688\n",
      "Epoch 42/50\n",
      "379/379 [==============================] - 16s 43ms/step - loss: 0.0570 - accuracy: 0.9808 - val_loss: 0.1074 - val_accuracy: 0.9688\n",
      "Epoch 43/50\n",
      "379/379 [==============================] - 16s 43ms/step - loss: 0.0570 - accuracy: 0.9804 - val_loss: 0.1083 - val_accuracy: 0.9680\n",
      "Epoch 44/50\n",
      "379/379 [==============================] - 17s 44ms/step - loss: 0.0549 - accuracy: 0.9813 - val_loss: 0.1121 - val_accuracy: 0.9680\n",
      "Epoch 45/50\n",
      "159/379 [===========>..................] - ETA: 8s - loss: 0.0548 - accuracy: 0.9809"
     ]
    }
   ],
   "source": [
    "for i in [2, 4]:\n",
    "    for j in [2, 4, 6, 8, 10, 12, 14, 16, 18]:\n",
    "        int_bits = i\n",
    "        total_bits = i+j+1\n",
    "        config = {\n",
    "            \"QGRU\":{\n",
    "                \"kernel_quantizer\" : f\"quantized_bits({total_bits},{int_bits},1)\",\n",
    "                 \"bias_quantizer\" : f\"quantized_bits({total_bits},{int_bits},1)\",\n",
    "                 \"recurrent_quantizer\": f\"quantized_bits({total_bits},{int_bits},1)\",\n",
    "                 \"state_quantizer\" : f\"quantized_bits({total_bits},{int_bits},1)\"\n",
    "            },\n",
    "            \n",
    "            \"QDense\":{\n",
    "                \"kernel_quantizer\" : f\"quantized_bits({total_bits},{int_bits},1)\",\n",
    "                \"bias_quantizer\" : f\"quantized_bits({total_bits},{int_bits},1)\"\n",
    "            },\n",
    "            \"QConv1D\":{\n",
    "                \"kernel_quantizer\" : f\"quantized_bits({total_bits},{int_bits},1)\",\n",
    "                \"bias_quantizer\" : f\"quantized_bits({total_bits},{int_bits},1)\"\n",
    "            },\n",
    "            \"relu_0\" : f\"quantized_relu({total_bits},{int_bits},1)\",\n",
    "            \"relu_1\" : f\"quantized_relu({total_bits},{int_bits},1)\"\n",
    "        }\n",
    "        qgru = model_quantize(gru, config, total_bits, transfer_weights=False)\n",
    "        qgru.summary()     \n",
    "        \n",
    "        adam = Adam(lr = 0.001)\n",
    "        qgru.compile(optimizer='adam', loss='categorical_crossentropy', metrics=['accuracy'])\n",
    "        history = qgru.fit(array1_shuffled, array2_shuffled, batch_size = 256, epochs = 50, \n",
    "                            validation_split = 0.2, shuffle = True, callbacks = None,\n",
    "                            use_multiprocessing=True, workers=4)\n",
    "# labels = ['ant', 'bee', 'butterfly', 'mosquito', 'snail']\n",
    "# y_pred = makeRoc(X_testzero, y_tlabhot, labels, qgru, outputSuffix='two-layer')\n",
    "        y_keras = qgru.predict(X_testzero, batch_size=512)\n",
    "        auc_score = roc_auc_score(y_tlabhot, y_keras)\n",
    "        print(auc_score)\n",
    "        model.save(f'./qgru_{i}int/qgru_{j}frac.h5')"
   ]
  },
  {
   "cell_type": "code",
   "execution_count": null,
   "metadata": {},
   "outputs": [],
   "source": [
    "labels = ['ant', 'bee', 'butterfly', 'mosquito', 'snail']\n",
    "y_pred = makeRoc(X_testzero, y_tlabhot, labels, qgru, outputSuffix='two-layer')"
   ]
  },
  {
   "cell_type": "markdown",
   "metadata": {},
   "source": [
    "## QLSTM Post Training Quantization"
   ]
  },
  {
   "cell_type": "code",
   "execution_count": 9,
   "metadata": {
    "id": "ybgUsIvXDnO4"
   },
   "outputs": [],
   "source": [
    "lstm = load_model('./lstm/Quickdraw5Class1.h5')"
   ]
  },
  {
   "cell_type": "code",
   "execution_count": 17,
   "metadata": {},
   "outputs": [
    {
     "name": "stdout",
     "output_type": "stream",
     "text": [
      "Model: \"model_5\"\n",
      "_________________________________________________________________\n",
      " Layer (type)                Output Shape              Param #   \n",
      "=================================================================\n",
      " input_6 (InputLayer)        [(None, 100, 3)]          0         \n",
      "                                                                 \n",
      " conv1d_15 (Conv1D)          (None, 95, 128)           2432      \n",
      "                                                                 \n",
      " relu_0 (Activation)         (None, 95, 128)           0         \n",
      "                                                                 \n",
      " conv1d_16 (Conv1D)          (None, 93, 64)            24640     \n",
      "                                                                 \n",
      " relu_1 (Activation)         (None, 93, 64)            0         \n",
      "                                                                 \n",
      " conv1d_17 (Conv1D)          (None, 93, 1)             65        \n",
      "                                                                 \n",
      " relu_2 (Activation)         (None, 93, 1)             0         \n",
      "                                                                 \n",
      " lstm_10 (LSTM)              (None, 93, 128)           66560     \n",
      "                                                                 \n",
      " dropout_5 (Dropout)         (None, 93, 128)           0         \n",
      "                                                                 \n",
      " lstm_11 (LSTM)              (None, 64)                49408     \n",
      "                                                                 \n",
      " rnn_densef (Dense)          (None, 5)                 325       \n",
      "                                                                 \n",
      " output_softmax (Activation)  (None, 5)                0         \n",
      "                                                                 \n",
      "=================================================================\n",
      "Total params: 143,430\n",
      "Trainable params: 143,430\n",
      "Non-trainable params: 0\n",
      "_________________________________________________________________\n"
     ]
    }
   ],
   "source": [
    "lstm.summary()"
   ]
  },
  {
   "cell_type": "code",
   "execution_count": 15,
   "metadata": {},
   "outputs": [
    {
     "name": "stdout",
     "output_type": "stream",
     "text": [
      "Model: \"model_5\"\n",
      "_________________________________________________________________\n",
      " Layer (type)                Output Shape              Param #   \n",
      "=================================================================\n",
      " input_6 (InputLayer)        [(None, 100, 3)]          0         \n",
      "                                                                 \n",
      " conv1d_15 (QConv1D)         (None, 95, 128)           2432      \n",
      "                                                                 \n",
      " relu_0 (QActivation)        (None, 95, 128)           0         \n",
      "                                                                 \n",
      " conv1d_16 (QConv1D)         (None, 93, 64)            24640     \n",
      "                                                                 \n",
      " relu_1 (QActivation)        (None, 93, 64)            0         \n",
      "                                                                 \n",
      " conv1d_17 (QConv1D)         (None, 93, 1)             65        \n",
      "                                                                 \n",
      " relu_2 (QActivation)        (None, 93, 1)             0         \n",
      "                                                                 \n",
      " lstm_10 (LSTM)              (None, 93, 128)           66560     \n",
      "                                                                 \n",
      " dropout_5 (Dropout)         (None, 93, 128)           0         \n",
      "                                                                 \n",
      " lstm_11 (LSTM)              (None, 64)                49408     \n",
      "                                                                 \n",
      " rnn_densef (QDense)         (None, 5)                 325       \n",
      "                                                                 \n",
      " output_softmax (Activation)  (None, 5)                0         \n",
      "                                                                 \n",
      "=================================================================\n",
      "Total params: 143,430\n",
      "Trainable params: 143,430\n",
      "Non-trainable params: 0\n",
      "_________________________________________________________________\n",
      "conv1d_15 kernel: quantized_bits(5,2,1,alpha='auto_po2') bias: quantized_bits(5,2,1)\n",
      "conv1d_16 kernel: quantized_bits(5,2,1,alpha='auto_po2') bias: quantized_bits(5,2,1)\n",
      "conv1d_17 kernel: quantized_bits(5,2,1,alpha='auto_po2') bias: quantized_bits(5,2,1)\n",
      "rnn_densef kernel: quantized_bits(5,2,1,alpha='auto_po2') bias: quantized_bits(5,2,1)\n",
      "... quantizing model\n",
      "  lstm_10 has not been quantized\n",
      "  lstm_11 has not been quantized\n",
      "13/13 [==============================] - 2s 39ms/step\n",
      "AUC score: 0.62886004\n"
     ]
    }
   ],
   "source": [
    "for i in [2, 4]:\n",
    "    for j in [2, 4, 6, 8, 10, 12, 14, 16, 18]:\n",
    "        int_bits = i\n",
    "        total_bits = i+j+1\n",
    "        config = {\n",
    "\n",
    "            \"lstm_10\":{\n",
    "                \"kernel_quantizer\" : f\"quantized_bits({total_bits},{int_bits},1)\",\n",
    "                 \"bias_quantizer\" : f\"quantized_bits({total_bits},{int_bits},1)\",\n",
    "                 \"recurrent_quantizer\": f\"quantized_bits({total_bits},{int_bits},1)\",\n",
    "                 \"state_quantizer\" : f\"quantized_bits({total_bits},{int_bits},1)\"\n",
    "            },\n",
    "            \"lstm_11\":{\n",
    "                \"kernel_quantizer\" : f\"quantized_bits({total_bits},{int_bits},1)\",\n",
    "                 \"bias_quantizer\" : f\"quantized_bits({total_bits},{int_bits},1)\",\n",
    "                 \"recurrent_quantizer\": f\"quantized_bits({total_bits},{int_bits},1)\",\n",
    "                 \"state_quantizer\" : f\"quantized_bits({total_bits},{int_bits},1)\"\n",
    "            },\n",
    "            \"QDense\":{\n",
    "                \"kernel_quantizer\" : f\"quantized_bits({total_bits},{int_bits},1)\",\n",
    "                \"bias_quantizer\" : f\"quantized_bits({total_bits},{int_bits},1)\"\n",
    "            },\n",
    "            \"QConv1D\":{\n",
    "                \"kernel_quantizer\" : f\"quantized_bits({total_bits},{int_bits},1)\",\n",
    "                \"bias_quantizer\" : f\"quantized_bits({total_bits},{int_bits},1)\"\n",
    "            },\n",
    "            \"relu_0\" : f\"quantized_relu({total_bits},{int_bits},1)\",\n",
    "            \"relu_1\" : f\"quantized_relu({total_bits},{int_bits},1)\",\n",
    "            \"relu_2\" : f\"quantized_relu({total_bits},{int_bits},1)\",\n",
    "#             \"QActivation\":{\n",
    "#                 f\"quantized_bits({total_bits},{int_bits},1)\"\n",
    "#             }\n",
    "        }\n",
    "        qlstm = model_quantize(lstm, config, total_bits, transfer_weights=True)\n",
    "\n",
    "        qlstm.summary()\n",
    "\n",
    "        for layer in qlstm.layers:\n",
    "            if hasattr(layer, \"recurrent_quantizer\"):\n",
    "                print(layer.name, \"kernel:\", str(layer.kernel_quantizer_internal), \"bias:\", str(layer.bias_quantizer_internal), \n",
    "                     \"recurrent:\", str(layer.recurrent_quantizer_internal), \"state:\", str(layer.state_quantizer_internal))\n",
    "            elif hasattr(layer, \"kernel_quantizer\"):\n",
    "                print(layer.name, \"kernel:\", str(layer.kernel_quantizer_internal), \"bias:\", str(layer.bias_quantizer_internal))\n",
    "            elif hasattr(layer, \"quantized_relu\"):\n",
    "                print(layer.name, \"quantized_relu:\", str(layer.quantizer))\n",
    "#             else:\n",
    "#                 print(layer.name)\n",
    "                \n",
    "\n",
    "        y_keras = qlstm.predict(X_testzero, batch_size=2**10)\n",
    "        auc_score = roc_auc_score(y_tlabhot, y_keras)\n",
    "        print(\"AUC score:\", auc_score)"
   ]
  },
  {
   "cell_type": "code",
   "execution_count": 11,
   "metadata": {},
   "outputs": [
    {
     "name": "stdout",
     "output_type": "stream",
     "text": [
      "... quantizing model\n"
     ]
    },
    {
     "data": {
      "text/plain": [
       "{'conv1d_15': {'weights': [array([[[ 0.    ,  0.    ,  0.0625, ...,  0.125 ,  0.25  , -0.125 ],\n",
       "           [ 0.    ,  0.    ,  0.0625, ..., -0.125 ,  0.    ,  0.    ],\n",
       "           [-1.75  ,  0.75  ,  0.375 , ...,  1.    ,  0.25  ,  1.5   ]],\n",
       "   \n",
       "          [[-0.25  , -0.25  ,  0.    , ...,  0.    ,  0.    ,  0.    ],\n",
       "           [ 0.    ,  0.    ,  0.0625, ...,  0.    ,  0.    ,  0.125 ],\n",
       "           [ 2.75  ,  2.25  ,  0.125 , ..., -0.375 , -3.75  ,  0.875 ]],\n",
       "   \n",
       "          [[-0.25  ,  0.    ,  0.    , ...,  0.25  ,  0.25  ,  0.    ],\n",
       "           [ 0.25  ,  0.    ,  0.125 , ..., -0.125 ,  0.    ,  0.    ],\n",
       "           [-1.75  , -3.25  ,  0.4375, ..., -1.875 , -1.5   , -1.25  ]],\n",
       "   \n",
       "          [[ 0.    ,  0.    , -0.0625, ...,  0.    ,  0.    ,  0.    ],\n",
       "           [ 0.    ,  0.    ,  0.125 , ...,  0.    ,  0.    ,  0.    ],\n",
       "           [ 1.    ,  1.    ,  0.9375, ...,  0.625 ,  0.    , -0.125 ]],\n",
       "   \n",
       "          [[ 0.    ,  0.    ,  0.0625, ...,  0.    ,  0.    ,  0.125 ],\n",
       "           [ 0.    ,  0.    ,  0.125 , ...,  0.    ,  0.    ,  0.125 ],\n",
       "           [ 0.5   , -1.5   ,  0.4375, ..., -1.125 , -0.5   , -0.25  ]],\n",
       "   \n",
       "          [[ 0.    ,  0.    ,  0.0625, ...,  0.    ,  0.    , -0.125 ],\n",
       "           [ 0.    ,  0.    ,  0.0625, ...,  0.    ,  0.    ,  0.    ],\n",
       "           [ 0.    , -0.25  , -0.25  , ..., -0.875 , -0.75  , -0.75  ]]],\n",
       "         dtype=float32),\n",
       "   array([ 0.  , -0.5 , -0.25, -0.25, -0.75, -0.25,  0.  , -0.25, -0.25,\n",
       "           0.  ,  0.  , -0.25, -0.5 , -0.25, -0.5 , -0.25, -0.25, -0.5 ,\n",
       "          -0.25, -0.25, -0.75, -0.25, -0.25, -0.25, -0.25, -0.5 , -0.5 ,\n",
       "          -0.5 , -0.5 ,  0.  , -0.25, -0.75,  0.  , -0.75, -0.75, -0.25,\n",
       "           0.25, -0.5 , -0.75, -0.5 ,  0.25,  0.25, -0.5 , -0.5 ,  0.  ,\n",
       "          -0.5 ,  0.  , -0.25, -0.5 , -0.5 , -0.5 , -0.5 ,  0.  , -0.25,\n",
       "          -0.5 , -0.5 ,  0.  , -0.25, -0.25,  0.25, -1.  , -0.25, -0.5 ,\n",
       "          -0.25, -1.  , -0.25,  0.25, -0.5 ,  0.25, -0.5 , -0.75, -0.25,\n",
       "          -0.25, -0.5 , -0.25, -0.5 , -0.5 ,  0.  , -0.25, -0.5 , -0.5 ,\n",
       "           0.25, -0.5 , -0.75,  0.  , -0.25, -0.5 , -0.25, -1.  ,  0.25,\n",
       "          -0.5 , -0.75, -0.5 , -0.25, -0.5 , -0.25, -0.5 ,  0.  , -0.25,\n",
       "          -0.5 ,  0.25, -0.25, -0.5 , -0.25, -0.5 , -0.5 ,  0.  ,  0.  ,\n",
       "          -0.75, -0.25,  0.  , -0.25, -0.5 , -0.25, -0.5 , -0.5 ,  0.  ,\n",
       "          -0.5 , -0.25, -0.5 , -0.75, -0.25, -0.5 , -0.5 ,  0.  ,  0.  ,\n",
       "           0.  , -0.25], dtype=float32)]},\n",
       " 'conv1d_16': {'weights': [array([[[ 0.     ,  0.0625 , -0.09375, ...,  0.125  ,  0.0625 ,\n",
       "            -0.5    ],\n",
       "           [-0.375  ,  0.03125, -0.03125, ..., -0.25   , -0.25   ,\n",
       "            -0.0625 ],\n",
       "           [-0.25   ,  0.0625 , -0.0625 , ..., -0.4375 , -0.0625 ,\n",
       "            -0.0625 ],\n",
       "           ...,\n",
       "           [-0.1875 ,  0.21875, -0.125  , ...,  0.25   , -0.5625 ,\n",
       "            -0.0625 ],\n",
       "           [-0.0625 ,  0.09375, -0.0625 , ..., -0.0625 ,  0.0625 ,\n",
       "            -0.375  ],\n",
       "           [-0.125  ,  0.0625 , -0.21875, ..., -0.125  , -0.0625 ,\n",
       "            -0.1875 ]],\n",
       "   \n",
       "          [[ 0.     ,  0.     ,  0.21875, ...,  0.0625 , -0.0625 ,\n",
       "             0.     ],\n",
       "           [-0.0625 , -0.125  ,  0.25   , ...,  0.25   , -0.0625 ,\n",
       "             0.25   ],\n",
       "           [-0.1875 ,  0.09375,  0.09375, ...,  0.125  , -0.0625 ,\n",
       "            -0.125  ],\n",
       "           ...,\n",
       "           [ 0.0625 ,  0.0625 ,  0.125  , ...,  0.     ,  0.     ,\n",
       "            -0.0625 ],\n",
       "           [-0.5    ,  0.1875 ,  0.15625, ...,  0.     ,  0.     ,\n",
       "            -0.1875 ],\n",
       "           [-0.375  ,  0.     ,  0.     , ...,  0.     ,  0.     ,\n",
       "             0.     ]],\n",
       "   \n",
       "          [[-0.0625 ,  0.     , -0.15625, ..., -0.3125 , -0.25   ,\n",
       "            -0.3125 ],\n",
       "           [-0.1875 ,  0.15625, -0.03125, ...,  0.0625 , -0.3125 ,\n",
       "             0.1875 ],\n",
       "           [ 0.     ,  0.03125, -0.125  , ..., -0.125  , -0.125  ,\n",
       "             0.     ],\n",
       "           ...,\n",
       "           [ 0.125  ,  0.09375,  0.0625 , ...,  0.0625 , -0.3125 ,\n",
       "            -0.0625 ],\n",
       "           [ 0.0625 ,  0.09375,  0.21875, ..., -0.125  , -0.0625 ,\n",
       "            -0.1875 ],\n",
       "           [-0.125  ,  0.0625 ,  0.09375, ..., -0.0625 ,  0.     ,\n",
       "             0.0625 ]]], dtype=float32),\n",
       "   array([-0.25,  0.  , -0.25,  0.25,  0.25, -0.25,  0.5 ,  0.25,  0.5 ,\n",
       "           0.  , -0.75,  0.  ,  0.  ,  0.  , -0.25, -0.25, -0.5 ,  0.  ,\n",
       "           0.25,  0.  ,  0.25,  0.  ,  0.  ,  0.  ,  0.25, -0.5 ,  0.  ,\n",
       "          -0.25,  0.  ,  0.25,  0.25, -0.25,  0.  ,  0.25,  0.  ,  0.  ,\n",
       "          -0.25, -0.25, -0.25, -0.75, -0.25, -0.25,  0.25,  0.  , -0.5 ,\n",
       "           0.25,  0.  ,  0.  , -0.5 ,  0.  , -0.25,  0.  ,  0.  ,  0.  ,\n",
       "          -0.25,  0.25,  0.25,  0.25,  0.25, -0.25,  0.  , -0.5 ,  0.  ,\n",
       "          -0.25], dtype=float32)]},\n",
       " 'conv1d_17': {'weights': [array([[[-0.125 ],\n",
       "           [ 0.0625],\n",
       "           [ 0.1875],\n",
       "           [ 0.0625],\n",
       "           [ 0.125 ],\n",
       "           [-0.1875],\n",
       "           [ 0.0625],\n",
       "           [ 0.375 ],\n",
       "           [ 0.125 ],\n",
       "           [ 0.125 ],\n",
       "           [-0.0625],\n",
       "           [-0.0625],\n",
       "           [-0.1875],\n",
       "           [ 0.0625],\n",
       "           [-0.3125],\n",
       "           [ 0.5625],\n",
       "           [-0.0625],\n",
       "           [ 0.1875],\n",
       "           [ 0.1875],\n",
       "           [-0.1875],\n",
       "           [ 0.125 ],\n",
       "           [-0.125 ],\n",
       "           [ 0.    ],\n",
       "           [ 0.1875],\n",
       "           [ 0.0625],\n",
       "           [ 0.8125],\n",
       "           [ 0.125 ],\n",
       "           [ 0.1875],\n",
       "           [ 0.125 ],\n",
       "           [ 0.125 ],\n",
       "           [ 0.25  ],\n",
       "           [ 0.125 ],\n",
       "           [ 0.0625],\n",
       "           [ 0.125 ],\n",
       "           [-0.125 ],\n",
       "           [-0.0625],\n",
       "           [-0.5   ],\n",
       "           [-0.1875],\n",
       "           [ 0.125 ],\n",
       "           [-0.125 ],\n",
       "           [ 0.1875],\n",
       "           [-0.25  ],\n",
       "           [-0.25  ],\n",
       "           [ 0.125 ],\n",
       "           [-0.125 ],\n",
       "           [ 0.3125],\n",
       "           [-0.1875],\n",
       "           [ 0.125 ],\n",
       "           [-0.3125],\n",
       "           [ 0.0625],\n",
       "           [-0.125 ],\n",
       "           [ 0.125 ],\n",
       "           [-0.25  ],\n",
       "           [ 0.3125],\n",
       "           [ 0.4375],\n",
       "           [-0.1875],\n",
       "           [ 0.    ],\n",
       "           [ 0.25  ],\n",
       "           [ 0.125 ],\n",
       "           [ 0.6875],\n",
       "           [ 0.1875],\n",
       "           [-0.25  ],\n",
       "           [-0.1875],\n",
       "           [ 0.75  ]]], dtype=float32),\n",
       "   array([0.25], dtype=float32)]},\n",
       " 'lstm_10': {'weights': [array([[ 4.68750000e-02,  4.68750000e-02, -1.46484375e-02,\n",
       "            4.68750000e-02,  5.85937500e-02,  1.83105376e-03,\n",
       "           -4.68750000e-01, -5.85937500e-02,  6.83594076e-03,\n",
       "            2.34375000e-01, -2.34375000e-01,  2.34375000e-01,\n",
       "           -5.85937500e-02,  2.92968750e-02,  9.37500000e-02,\n",
       "            5.85937500e-02, -1.71875000e-01,  4.37500000e-01,\n",
       "           -1.17187500e-01, -1.17187500e-01, -5.07812500e-02,\n",
       "            8.59375000e-02,  5.85937500e-02, -9.37500000e-02,\n",
       "            9.37500000e-02,  3.43750000e-01,  2.92968750e-02,\n",
       "           -1.17187500e-01,  1.17187500e-01, -1.17187500e-01,\n",
       "            1.46484375e-02,  2.92968750e-02, -5.07812500e-02,\n",
       "            5.85937500e-02, -1.17187500e-01,  4.68750000e-01,\n",
       "            2.92968750e-02,  8.75000000e-01,  3.43750000e-01,\n",
       "            3.75000000e-01,  8.12500000e-01, -2.18750000e-01,\n",
       "           -4.68750000e-01,  1.17187500e-01,  1.17187500e-01,\n",
       "           -5.85937500e-02,  2.92968750e-02,  5.46875000e-02,\n",
       "            2.92968750e-02,  6.87500000e-01, -2.03125000e-01,\n",
       "            6.34765904e-03, -3.75000000e-01, -2.34375000e-01,\n",
       "           -2.14843750e-02, -5.85937500e-02,  1.87500000e-01,\n",
       "            4.37500000e-01,  5.85937500e-02, -4.06250000e-01,\n",
       "            2.92968750e-02,  9.37500000e-02, -1.17187500e-01,\n",
       "            2.18750000e-01, -1.17187500e-01,  2.14843750e-02,\n",
       "           -1.17187500e-01,  4.68750000e-01,  8.59375000e-02,\n",
       "            2.03125000e-01, -8.59375000e-02, -1.17187500e-01,\n",
       "           -1.71875000e-01, -1.46484375e-02, -1.01562500e-01,\n",
       "            1.87500000e-01, -1.17187500e-01, -1.71875000e-01,\n",
       "            3.75000000e-01,  4.68750000e-01, -2.92968750e-02,\n",
       "           -1.01562500e-01, -4.29687500e-02,  1.36718750e-02,\n",
       "            5.85937500e-02, -2.34375000e-01,  1.87500000e-01,\n",
       "           -2.34375000e-01, -2.18750000e-01,  7.50000000e-01,\n",
       "           -2.92968750e-02,  1.46484375e-02,  2.34375000e-01,\n",
       "            4.29687500e-02, -1.87500000e-01,  4.68750000e-01,\n",
       "           -2.92968750e-02,  1.17187500e-01,  4.68750000e-02,\n",
       "           -2.34375000e-01, -1.46484375e-02,  1.17187500e-01,\n",
       "           -4.06250000e-01, -4.68750000e-02, -5.07812500e-02,\n",
       "           -2.92968750e-02, -1.71875000e-01, -1.09375000e-01,\n",
       "            1.17187500e-01, -1.01562500e-01,  1.71875000e-01,\n",
       "           -2.92968750e-02, -2.34375000e-01,  1.46484375e-02,\n",
       "            9.15527344e-04, -1.71875000e-01, -5.85937500e-02,\n",
       "           -1.87500000e-01, -3.75000000e-01,  9.37500000e-02,\n",
       "           -5.46875000e-02, -1.17187500e-01,  5.85937500e-02,\n",
       "            2.34375000e-02,  4.37500000e-01, -5.85937500e-02,\n",
       "           -2.03125000e-01,  1.26953125e-02, -1.17187500e-01,\n",
       "            1.17187500e-01,  4.68750000e-02, -9.37500000e-02,\n",
       "            5.07812500e-02, -8.59375000e-02,  1.46484375e-02,\n",
       "            1.17187500e-01,  8.59375000e-02,  1.17187500e-01,\n",
       "           -2.18750000e-01,  5.85937500e-02,  2.92968750e-02,\n",
       "            1.17187500e-01,  4.68750000e-01, -5.85937500e-02,\n",
       "            2.34375000e-01,  5.85937500e-02,  2.34375000e-01,\n",
       "            1.17187500e-01,  2.92968750e-02, -2.73437500e-02,\n",
       "            1.87500000e-01, -1.01562500e-01, -1.26953125e-02,\n",
       "           -3.66210938e-03,  1.17187500e-01,  2.03125000e-01,\n",
       "           -1.46484375e-02, -2.92968750e-02,  1.87500000e-01,\n",
       "            2.18750000e-01,  2.92968750e-02, -1.17187500e-01,\n",
       "            2.18750000e-01,  1.17187500e-01, -2.73437500e-02,\n",
       "            5.85937500e-02, -1.09375000e-01,  1.09375000e-01,\n",
       "           -1.17187500e-01, -1.46484375e-02,  8.59375000e-02,\n",
       "           -1.17187500e-01,  1.17187500e-01, -2.92968750e-02,\n",
       "           -5.85937500e-02,  1.17187500e-01, -1.17187500e-01,\n",
       "            4.37500000e-01,  1.17187500e-01,  2.03125000e-01,\n",
       "           -2.14843750e-02,  8.59375000e-02,  1.71875000e-01,\n",
       "           -2.34375000e-01,  5.46875000e-02, -4.37500000e-01,\n",
       "           -5.85937500e-02,  1.17187500e-01, -5.85937500e-02,\n",
       "           -1.09375000e-01,  2.03125000e-01, -1.17187500e-01,\n",
       "            2.03125000e-01,  1.17187500e-01,  4.06250000e-01,\n",
       "           -2.34375000e-01, -5.85937500e-02,  4.68750000e-01,\n",
       "            8.59375000e-02,  5.46875000e-02,  4.29687500e-02,\n",
       "            5.85937500e-02,  3.75000000e-01, -2.92968750e-02,\n",
       "           -2.92968750e-02,  2.34375000e-01,  5.85937500e-02,\n",
       "            4.29687500e-02, -5.07812500e-02, -2.92968750e-02,\n",
       "            1.46484375e-02,  4.06250000e-01,  5.85937500e-02,\n",
       "           -8.59375000e-02, -2.92968750e-02, -1.17187500e-01,\n",
       "            4.68750000e-01,  5.07812500e-02,  5.46875000e-02,\n",
       "           -5.85937500e-02,  5.85937500e-02, -2.34375000e-01,\n",
       "            2.34375000e-01,  1.17187500e-01, -4.68750000e-02,\n",
       "           -4.29687500e-02, -8.59375000e-02, -2.92968750e-02,\n",
       "           -2.92968750e-02,  2.34375000e-01,  2.92968750e-02,\n",
       "            1.17187500e-01, -2.92968750e-02,  5.85937500e-02,\n",
       "           -5.46875000e-02, -5.85937500e-02,  8.59375000e-02,\n",
       "            5.85937500e-02,  8.59375000e-02,  1.17187500e-01,\n",
       "            4.68750000e-01,  1.01562500e-01,  2.18750000e-01,\n",
       "            9.37500000e-02, -4.29687500e-02, -5.85937500e-02,\n",
       "           -2.34375000e-01,  5.85937500e-02, -1.17187500e-01,\n",
       "           -1.17187500e-01,  3.75000000e-01,  4.29687500e-02,\n",
       "           -2.53906250e-02,  4.68750000e-02,  2.03125000e-01,\n",
       "           -1.87500000e-01,  2.03125000e-01,  4.68750000e-02,\n",
       "            1.09375000e-01,  5.85937500e-02,  5.85937500e-02,\n",
       "            1.87500000e-01, -4.68750000e-01, -8.59375000e-02,\n",
       "           -2.34375000e-02,  6.87500000e-01, -4.68750000e-01,\n",
       "            4.68750000e-01,  1.17187500e-01,  2.92968750e-02,\n",
       "            1.71875000e-01,  4.68750000e-02,  1.17187500e-01,\n",
       "           -2.34375000e-01, -8.59375000e-02,  1.17187500e-01,\n",
       "            5.85937500e-02, -8.59375000e-02,  1.17187500e-01,\n",
       "           -1.87500000e-01,  8.59375000e-02,  4.68750000e-01,\n",
       "           -2.92968750e-02,  1.71875000e-01, -1.17187500e-01,\n",
       "            1.71875000e-01,  2.03125000e-01, -5.85937500e-02,\n",
       "           -5.85937500e-02,  1.17187500e-01, -1.17187500e-01,\n",
       "            4.68750000e-01, -2.34375000e-01,  9.37500000e-01,\n",
       "            1.17187500e-01,  8.75000000e-01,  6.87500000e-01,\n",
       "            3.43750000e-01, -1.17187500e-01,  1.87500000e-01,\n",
       "            1.71875000e-01,  1.09375000e-01,  1.71875000e-01,\n",
       "            5.85937500e-02, -2.92968750e-02, -7.50000000e-01,\n",
       "           -1.87500000e-01,  2.14843750e-02,  4.68750000e-01,\n",
       "           -4.68750000e-01,  9.37500000e-02, -2.34375000e-01,\n",
       "            2.03125000e-01,  5.85937500e-02,  1.17187500e-01,\n",
       "           -2.34375000e-01, -4.68750000e-01,  4.29687500e-02,\n",
       "            2.92968750e-02,  4.68750000e-02, -2.34375000e-01,\n",
       "           -9.37500000e-02,  2.34375000e-01,  2.34375000e-01,\n",
       "           -4.68750000e-02,  4.06250000e-01, -8.59375000e-02,\n",
       "            1.17187500e-01,  1.87500000e-01, -5.85937500e-02,\n",
       "            1.87500000e-01, -1.17187500e-01,  2.92968750e-02,\n",
       "            4.68750000e-01,  2.34375000e-01, -2.34375000e-01,\n",
       "            4.29687500e-02,  5.85937500e-02,  5.85937500e-02,\n",
       "           -4.68750000e-02, -1.17187500e-01, -2.03125000e-01,\n",
       "            7.32422248e-03,  1.01562500e-01, -5.85937500e-02,\n",
       "            4.06250000e-01,  5.85937500e-02, -2.53906250e-02,\n",
       "           -2.34375000e-01,  4.29687500e-02, -2.34375000e-01,\n",
       "            4.68750000e-01, -1.87500000e-01,  5.85937500e-02,\n",
       "            5.85937500e-02, -2.34375000e-01,  5.07812500e-02,\n",
       "            1.09375000e-01,  6.87500000e-01, -2.92968750e-02,\n",
       "            6.34765904e-03, -1.09375000e-01,  2.34375000e-01,\n",
       "           -5.85937500e-02, -7.50000000e-01,  1.17187500e-01,\n",
       "           -5.85937500e-02, -8.59375000e-02,  1.09375000e-01,\n",
       "            1.46484375e-02, -4.68750000e-01,  4.68750000e-01,\n",
       "           -1.17187500e-01, -1.17187500e-01,  4.68750000e-01,\n",
       "            1.17187500e-02, -1.71875000e-01,  1.17187500e-01,\n",
       "            5.85937500e-02, -2.34375000e-01, -1.17187500e-01,\n",
       "           -8.59375000e-02, -3.43750000e-01,  1.01562500e-01,\n",
       "           -1.09375000e-01, -2.92968750e-02,  5.85937500e-02,\n",
       "           -2.92968750e-02,  9.37500000e-02,  5.07812500e-02,\n",
       "            1.17187500e-01,  2.34375000e-01,  1.17187500e-01,\n",
       "           -1.01562500e-01, -1.01562500e-01, -3.75000000e-01,\n",
       "            1.71875000e-01,  2.34375000e-01, -2.34375000e-01,\n",
       "            1.17187500e-02, -5.85937500e-02, -1.17187500e-01,\n",
       "            1.17187500e-01,  2.73437500e-02,  2.34375000e-01,\n",
       "           -1.17187500e-01, -1.17187500e-01,  2.34375000e-01,\n",
       "            1.87500000e-01, -4.06250000e-01, -1.46484375e-02,\n",
       "            1.17187500e-01,  1.17187500e-01,  2.34375000e-01,\n",
       "            2.92968750e-02,  2.92968750e-02,  1.01562500e-01,\n",
       "            2.92968750e-02, -1.46484375e-02, -2.34375000e-01,\n",
       "           -2.34375000e-01, -2.03125000e-01, -1.71875000e-01,\n",
       "           -3.75000000e-01, -5.85937500e-02,  1.17187500e-01,\n",
       "            1.17187500e-01, -5.85937500e-02, -4.68750000e-01,\n",
       "            1.01562500e-01,  2.34375000e-01, -5.07812500e-02,\n",
       "            4.68750000e-01, -2.18750000e-01,  5.85937500e-02,\n",
       "            2.73437500e-02,  2.34375000e-01, -2.92968750e-02,\n",
       "           -1.17187500e-01,  4.68750000e-01,  1.36718750e-02,\n",
       "           -4.68750000e-02, -1.71875000e-01, -4.68750000e-02,\n",
       "           -1.87500000e-01,  1.01562500e-01,  1.17187500e-01,\n",
       "            2.92968750e-02,  1.46484375e-02,  2.92968750e-02,\n",
       "           -1.46484375e-02, -5.46875000e-02,  5.07812500e-02,\n",
       "            4.29687500e-02,  1.17187500e-01,  3.75000000e-01,\n",
       "            1.09375000e-01,  1.87500000e-01, -1.87500000e-01,\n",
       "            2.18750000e-01,  1.17187500e-01, -4.37500000e-01,\n",
       "           -1.17187500e-01, -1.09375000e-01,  2.34375000e-01,\n",
       "            5.85937500e-02,  9.37500000e-02,  1.01562500e-01,\n",
       "           -2.92968750e-02,  1.01562500e-01,  1.09375000e-01,\n",
       "           -9.37500000e-02, -2.92968750e-02, -2.34375000e-01,\n",
       "            5.85937500e-02,  1.17187500e-01, -5.46875000e-02,\n",
       "           -5.85937500e-02,  1.01562500e-01, -5.07812500e-02,\n",
       "            1.17187500e-01, -5.85937500e-02,  1.17187500e-01,\n",
       "            1.87500000e-01,  4.68750000e-01, -1.17187500e-01,\n",
       "           -5.07812500e-02,  5.85937500e-02,  2.92968750e-02,\n",
       "            1.17187500e-01, -1.17187500e-01,  1.07421875e-02,\n",
       "           -5.85937500e-02,  1.17187500e-01,  8.59375000e-02,\n",
       "            1.17187500e-01, -4.29687500e-02,  2.34375000e-01,\n",
       "            1.46484375e-02, -3.75000000e-01,  1.09375000e-01,\n",
       "            2.34375000e-01, -1.71875000e-01,  9.37500000e-02,\n",
       "            2.34375000e-01,  2.34375000e-01, -1.09375000e-01,\n",
       "            2.92968750e-02, -5.07812500e-02,  2.34375000e-01,\n",
       "            2.92968750e-02,  1.36718750e-02]], dtype=float32),\n",
       "   array([[-0.03125, -0.0625 ,  0.1875 , ...,  0.1875 , -0.21875,  0.21875],\n",
       "          [ 0.1875 ,  0.09375,  0.3125 , ...,  0.0625 , -0.0625 ,  0.125  ],\n",
       "          [-0.1875 ,  0.21875,  0.4375 , ..., -0.25   ,  0.09375,  0.46875],\n",
       "          ...,\n",
       "          [-0.09375, -0.125  , -0.125  , ..., -0.0625 , -0.46875,  0.0625 ],\n",
       "          [ 0.1875 ,  0.125  ,  0.0625 , ..., -0.0625 ,  0.40625,  0.15625],\n",
       "          [ 0.125  , -0.03125,  0.0625 , ...,  0.1875 , -0.21875, -0.1875 ]],\n",
       "         dtype=float32),\n",
       "   array([ 0.  , -0.25,  0.25,  0.  , -0.25,  0.  ,  0.  , -0.25,  0.  ,\n",
       "           0.25,  0.  ,  0.75,  0.  , -0.25,  0.  ,  0.  ,  0.  ,  0.25,\n",
       "           0.  , -0.25,  0.  ,  0.  ,  0.25,  0.  ,  0.  ,  0.5 ,  0.  ,\n",
       "           0.  ,  0.  ,  0.  ,  0.  , -0.25,  0.  ,  0.  ,  0.  ,  0.75,\n",
       "           0.25,  0.5 ,  0.  ,  1.  ,  0.75,  0.  ,  0.25,  0.25,  0.25,\n",
       "           0.  ,  0.  ,  0.  , -0.25,  0.25, -0.25, -0.25,  0.  ,  0.  ,\n",
       "          -0.25,  0.25,  0.  ,  0.  ,  0.  ,  0.  ,  0.25, -0.25,  0.  ,\n",
       "           0.  , -0.25, -0.5 ,  0.  ,  0.  ,  0.  ,  0.  ,  0.  , -0.25,\n",
       "           0.  , -0.25,  0.  ,  0.  ,  0.  ,  0.  ,  0.25,  0.5 ,  0.  ,\n",
       "           0.  , -0.25, -0.25,  0.  ,  0.  ,  0.  ,  0.  ,  0.  ,  0.5 ,\n",
       "           0.5 , -0.25,  0.  ,  0.  ,  0.  ,  0.75,  0.  ,  0.  ,  0.  ,\n",
       "           0.  ,  0.25,  0.  ,  0.  ,  0.25,  0.  ,  0.  ,  0.  ,  0.  ,\n",
       "           0.5 ,  0.  ,  0.  , -0.25,  0.  , -0.25, -0.5 ,  0.25,  0.  ,\n",
       "           0.25,  0.  ,  0.  ,  0.  ,  0.  ,  0.  , -0.25,  0.25,  0.  ,\n",
       "          -0.25, -0.25,  1.  ,  1.  ,  1.  ,  1.  ,  1.  ,  1.  ,  1.  ,\n",
       "           1.25,  1.  ,  1.  ,  1.  ,  1.  ,  1.  ,  1.  ,  1.  ,  1.  ,\n",
       "           1.25,  1.  ,  1.  ,  1.  ,  1.  ,  1.25,  1.  ,  1.25,  1.  ,\n",
       "           1.  ,  1.  ,  1.  ,  1.  ,  1.25,  1.  ,  1.  ,  1.  ,  1.  ,\n",
       "           1.  ,  1.  ,  1.  ,  1.  ,  1.  ,  1.  ,  1.  ,  1.  ,  1.  ,\n",
       "           1.  ,  1.  ,  1.  ,  1.  ,  1.  ,  1.25,  1.5 ,  1.  ,  1.  ,\n",
       "           1.  ,  1.  ,  1.25,  1.  ,  1.  ,  1.  ,  1.  ,  1.  ,  0.75,\n",
       "           1.  ,  1.  ,  1.  ,  1.  ,  1.  ,  1.25,  1.  ,  1.  ,  1.25,\n",
       "           1.  ,  1.25,  1.  ,  1.  ,  1.  ,  1.  ,  1.  ,  1.25,  1.  ,\n",
       "           1.  ,  1.  ,  1.25,  1.  ,  1.25,  1.  ,  1.25,  1.  ,  1.  ,\n",
       "           1.25,  1.  ,  1.25,  1.25,  1.  ,  1.  ,  1.25,  1.25,  1.25,\n",
       "           1.  ,  1.  ,  1.  ,  1.  ,  1.25,  1.  ,  1.  ,  1.25,  1.  ,\n",
       "           1.  ,  1.25,  1.  ,  1.  ,  1.  ,  1.25,  1.25,  1.  ,  1.25,\n",
       "           1.25,  1.  ,  1.25,  1.  ,  1.  ,  1.  ,  1.  ,  1.  ,  1.  ,\n",
       "           1.  ,  1.  ,  1.  ,  1.  ,  0.  , -0.25, -0.25,  0.  ,  0.  ,\n",
       "           0.  , -0.75,  0.  ,  0.25,  0.  ,  0.  ,  0.5 ,  0.  , -0.25,\n",
       "           0.  ,  0.  ,  0.25,  0.  ,  0.  ,  0.  , -0.25,  0.  ,  0.  ,\n",
       "           0.25,  0.  ,  0.5 ,  0.  ,  0.  ,  0.  , -0.25,  0.  ,  0.25,\n",
       "           0.  , -0.25, -0.25,  0.25, -0.25,  0.25, -0.25,  0.5 ,  0.25,\n",
       "           0.  , -0.75,  0.25,  0.5 ,  0.  ,  0.  ,  0.  ,  0.  , -0.25,\n",
       "           0.  , -0.25,  0.25,  0.  ,  0.  ,  0.  ,  0.  ,  0.  ,  0.  ,\n",
       "          -0.25,  0.25,  0.  ,  0.  , -0.25,  0.  ,  0.25,  0.  ,  0.  ,\n",
       "           0.  ,  0.  ,  0.  ,  0.  ,  0.5 ,  0.25,  0.  ,  0.  ,  0.  ,\n",
       "           0.25,  0.5 , -0.25,  0.  ,  0.  ,  0.  ,  0.  ,  0.  ,  0.  ,\n",
       "          -0.25,  0.  ,  0.  ,  0.25,  0.25,  0.  ,  0.  ,  0.  ,  0.  ,\n",
       "           0.5 ,  0.  ,  0.  , -0.25,  0.  ,  0.  ,  0.  ,  0.25,  0.  ,\n",
       "           0.  ,  0.25,  0.25,  0.  , -0.25,  0.  ,  0.  ,  0.  ,  0.  ,\n",
       "          -0.25,  0.  ,  0.  ,  0.  ,  0.  ,  0.  , -0.75,  0.  ,  0.  ,\n",
       "           0.  ,  0.  ,  0.25,  0.25,  0.  ,  0.  ,  0.  ,  0.25,  0.  ,\n",
       "           0.25,  0.  ,  0.  ,  0.  ,  0.  ,  0.  ,  0.  ,  0.25,  0.25,\n",
       "           0.  ,  0.25,  0.  , -0.25,  0.  ,  0.  ,  0.  , -0.25,  0.  ,\n",
       "           0.25,  0.25,  0.  ,  0.  ,  0.25,  0.  ,  0.  ,  0.  ,  0.  ,\n",
       "          -0.25,  0.  ,  0.  ,  0.  ,  0.  ,  0.  ,  0.  ,  0.25,  0.25,\n",
       "           0.25,  0.  ,  0.  ,  0.25,  0.5 ,  0.  ,  0.  ,  0.  ,  0.25,\n",
       "           0.  ,  0.  , -0.25, -0.25,  0.  ,  0.25,  0.25,  0.25,  0.  ,\n",
       "          -0.25,  0.  ,  0.25,  0.25,  0.  ,  0.  ,  0.  , -0.25, -0.25,\n",
       "           0.  ,  0.5 ,  0.  , -0.25,  0.  ,  0.  ,  0.  ,  0.  ,  0.25,\n",
       "          -0.25,  0.  ,  0.25,  0.  ,  0.  ,  0.  , -0.25,  0.  ,  0.  ,\n",
       "           0.  ,  0.  ,  0.  ,  0.  ,  0.25,  0.  ,  0.  ,  0.  ,  0.  ,\n",
       "           0.  ,  0.  ,  0.  , -0.25,  0.  ,  0.  ,  0.  ,  0.  ,  0.  ,\n",
       "           0.25,  0.  ,  0.  , -0.25,  0.25,  0.25,  0.  ,  0.  ,  0.  ,\n",
       "           0.  ,  0.25,  0.25, -0.25,  0.  ,  0.  ,  0.  ,  0.25, -0.25,\n",
       "           0.  ,  0.  ,  0.  , -0.25,  0.25,  0.  , -0.25, -0.25],\n",
       "         dtype=float32)]},\n",
       " 'lstm_11': {'weights': [array([[-0.09375, -0.15625, -0.09375, ..., -0.4375 , -0.125  ,  0.0625 ],\n",
       "          [-0.03125,  0.15625,  0.1875 , ...,  0.125  , -0.15625,  0.125  ],\n",
       "          [-0.03125,  0.125  , -0.1875 , ..., -0.125  ,  0.25   ,  0.03125],\n",
       "          ...,\n",
       "          [-0.3125 ,  0.03125, -0.1875 , ...,  0.125  ,  0.09375,  0.09375],\n",
       "          [-0.0625 ,  0.03125,  0.     , ..., -0.09375, -0.15625,  0.0625 ],\n",
       "          [-0.1875 , -0.0625 , -0.25   , ...,  0.     ,  0.     ,  0.     ]],\n",
       "         dtype=float32),\n",
       "   array([[-0.125  ,  0.     ,  0.     , ...,  0.3125 , -0.25   ,  0.125  ],\n",
       "          [ 0.     ,  0.1875 ,  0.1875 , ..., -0.0625 , -0.03125, -0.03125],\n",
       "          [-0.3125 , -0.21875, -0.1875 , ..., -0.03125, -0.09375, -0.125  ],\n",
       "          ...,\n",
       "          [-0.0625 , -0.0625 , -0.4375 , ..., -0.0625 , -0.03125, -0.21875],\n",
       "          [-0.09375, -0.1875 , -0.125  , ..., -0.0625 , -0.09375, -0.03125],\n",
       "          [-0.03125,  0.03125,  0.0625 , ...,  0.09375, -0.3125 , -0.1875 ]],\n",
       "         dtype=float32),\n",
       "   array([ 0.  ,  0.  , -0.25,  0.  ,  0.  ,  0.  , -0.25, -0.25, -0.25,\n",
       "           0.25,  0.25,  0.  ,  0.25,  0.  , -0.25, -0.25, -0.25,  0.  ,\n",
       "           0.  , -0.25, -0.25, -0.25,  0.  , -0.25, -0.25,  0.  ,  0.  ,\n",
       "           0.  ,  0.  , -0.25,  0.25, -0.25, -0.25,  0.  ,  0.  , -0.25,\n",
       "          -0.25, -0.25, -0.25,  0.  ,  0.25,  0.  ,  0.  ,  0.  ,  0.  ,\n",
       "          -0.25, -0.25,  0.  ,  0.  ,  0.  ,  0.  , -0.25,  0.  ,  0.  ,\n",
       "           0.  , -0.25, -0.25,  0.25, -0.25, -0.25, -0.25,  0.  ,  0.  ,\n",
       "           0.  ,  1.25,  1.25,  1.25,  1.  ,  1.25,  1.25,  1.25,  1.25,\n",
       "           1.25,  1.25,  1.  ,  1.  ,  1.  ,  1.  ,  1.25,  1.  ,  1.  ,\n",
       "           1.  ,  1.  ,  1.25,  1.25,  1.  ,  1.  ,  1.  ,  1.25,  1.  ,\n",
       "           1.  ,  1.  ,  1.25,  1.25,  1.  ,  1.25,  1.25,  1.  ,  1.25,\n",
       "           1.25,  1.  ,  1.25,  1.25,  1.  ,  1.  ,  1.  ,  1.  ,  1.  ,\n",
       "           1.25,  1.25,  1.  ,  1.  ,  1.25,  1.  ,  1.25,  1.25,  1.  ,\n",
       "           1.  ,  1.25,  1.  ,  1.25,  1.25,  1.25,  1.25,  1.25,  1.  ,\n",
       "           1.  ,  1.25,  0.  ,  0.  ,  0.  ,  0.  ,  0.  ,  0.  ,  0.  ,\n",
       "           0.  ,  0.  ,  0.  ,  0.  ,  0.  ,  0.  ,  0.  ,  0.  ,  0.  ,\n",
       "           0.  ,  0.  ,  0.  ,  0.  ,  0.  ,  0.  ,  0.  ,  0.  ,  0.  ,\n",
       "           0.  ,  0.  ,  0.  ,  0.  ,  0.  ,  0.  ,  0.  ,  0.  ,  0.  ,\n",
       "           0.  ,  0.  ,  0.  ,  0.  ,  0.  ,  0.  ,  0.  ,  0.  ,  0.  ,\n",
       "           0.  ,  0.  ,  0.  ,  0.  ,  0.  ,  0.  ,  0.  ,  0.  ,  0.  ,\n",
       "           0.  ,  0.  ,  0.  ,  0.  ,  0.  ,  0.  ,  0.  ,  0.  ,  0.  ,\n",
       "           0.  ,  0.  ,  0.  ,  0.  ,  0.25,  0.25,  0.  ,  0.  ,  0.  ,\n",
       "           0.  ,  0.  ,  0.25,  0.  ,  0.  ,  0.  ,  0.25,  0.  ,  0.25,\n",
       "           0.  ,  0.  ,  0.25,  0.  ,  0.25,  0.25,  0.  ,  0.  ,  0.  ,\n",
       "           0.  ,  0.25,  0.25,  0.  ,  0.  ,  0.  ,  0.  ,  0.  ,  0.  ,\n",
       "           0.25,  0.  ,  0.25,  0.  ,  0.25,  0.  ,  0.  ,  0.25,  0.  ,\n",
       "           0.  ,  0.  ,  0.25,  0.  ,  0.  ,  0.  ,  0.25,  0.  ,  0.  ,\n",
       "           0.25,  0.  ,  0.  ,  0.  ,  0.25,  0.25,  0.  ,  0.  ,  0.25,\n",
       "           0.25,  0.  ,  0.  ,  0.  ], dtype=float32)]},\n",
       " 'rnn_densef': {'weights': [array([[-0.1875 ,  0.375  , -0.125  , -0.3125 ,  0.25   ],\n",
       "          [-0.25   ,  0.375  ,  0.3125 , -0.25   , -0.09375],\n",
       "          [-0.375  ,  0.4375 ,  0.25   , -0.3125 ,  0.0625 ],\n",
       "          [ 0.25   , -0.4375 , -0.1875 ,  0.     , -0.21875],\n",
       "          [ 0.125  , -0.3125 , -0.125  ,  0.3125 ,  0.09375],\n",
       "          [ 0.125  , -0.5625 ,  0.0625 ,  0.1875 ,  0.28125],\n",
       "          [ 0.375  ,  0.1875 , -0.0625 , -0.375  , -0.25   ],\n",
       "          [ 0.     ,  0.1875 ,  0.125  ,  0.6875 , -0.21875],\n",
       "          [-0.4375 ,  0.1875 , -0.0625 ,  0.1875 ,  0.09375],\n",
       "          [ 0.     ,  0.3125 , -0.125  ,  0.     ,  0.125  ],\n",
       "          [ 0.0625 , -0.4375 , -0.4375 ,  0.1875 ,  0.125  ],\n",
       "          [ 0.125  , -0.3125 ,  0.875  ,  0.125  , -0.09375],\n",
       "          [ 0.0625 ,  0.0625 ,  0.     ,  0.125  ,  0.15625],\n",
       "          [-0.1875 ,  0.375  ,  0.9375 ,  0.     , -0.3125 ],\n",
       "          [ 0.     , -0.9375 ,  0.375  ,  0.25   ,  0.3125 ],\n",
       "          [-0.4375 ,  0.     , -0.5625 , -0.0625 ,  0.46875],\n",
       "          [ 0.     , -0.0625 ,  0.5625 ,  0.5    , -0.375  ],\n",
       "          [-0.0625 ,  0.125  , -0.0625 ,  0.     ,  0.15625],\n",
       "          [ 0.     , -0.625  ,  0.0625 , -0.6875 ,  0.46875],\n",
       "          [-0.1875 ,  0.     , -0.25   , -0.375  ,  0.46875],\n",
       "          [-0.1875 ,  0.1875 ,  0.8125 ,  0.     , -0.09375],\n",
       "          [-0.375  ,  0.0625 ,  0.0625 , -0.25   ,  0.28125],\n",
       "          [-0.25   ,  0.3125 ,  0.4375 ,  0.125  , -0.21875],\n",
       "          [ 0.1875 ,  0.3125 ,  0.125  , -0.1875 , -0.3125 ],\n",
       "          [ 0.375  , -0.375  ,  0.6875 , -0.4375 ,  0.46875],\n",
       "          [ 0.1875 , -0.125  , -0.3125 , -0.0625 ,  0.09375],\n",
       "          [ 0.4375 , -0.1875 , -0.3125 , -0.1875 , -0.15625],\n",
       "          [-0.0625 ,  0.4375 ,  0.0625 , -0.3125 , -0.34375],\n",
       "          [-0.25   ,  0.     , -0.25   , -0.4375 ,  0.46875],\n",
       "          [ 0.4375 , -0.375  , -0.125  ,  0.375  , -0.4375 ],\n",
       "          [-0.125  ,  0.     ,  0.5    ,  0.1875 , -0.1875 ],\n",
       "          [ 0.375  , -0.5    , -0.625  ,  0.1875 , -0.15625],\n",
       "          [ 0.0625 , -0.5625 ,  0.5    ,  0.25   , -0.03125],\n",
       "          [ 0.25   ,  0.25   , -0.5625 , -0.125  ,  0.     ],\n",
       "          [-0.25   ,  0.1875 ,  0.8125 ,  0.125  , -0.25   ],\n",
       "          [ 0.375  ,  0.1875 ,  0.3125 ,  0.0625 , -0.46875],\n",
       "          [ 0.0625 ,  0.1875 ,  0.25   ,  0.4375 , -0.34375],\n",
       "          [-0.25   , -0.625  ,  0.5625 , -0.25   ,  0.375  ],\n",
       "          [-0.0625 , -0.1875 , -0.3125 ,  0.4375 , -0.40625],\n",
       "          [-0.1875 , -0.0625 ,  0.8125 , -0.25   , -0.09375],\n",
       "          [-0.125  ,  0.125  , -0.1875 ,  0.     ,  0.0625 ],\n",
       "          [ 0.     , -0.75   ,  0.1875 , -0.1875 ,  0.34375],\n",
       "          [-0.125  ,  0.9375 ,  0.125  , -0.1875 , -0.25   ],\n",
       "          [-0.125  ,  0.4375 ,  0.5    , -0.3125 ,  0.15625],\n",
       "          [-0.4375 ,  0.6875 ,  0.1875 ,  0.5    , -0.40625],\n",
       "          [-0.25   , -0.5625 ,  0.75   , -0.0625 ,  0.28125],\n",
       "          [-0.5    , -0.125  , -0.4375 ,  0.0625 ,  0.46875],\n",
       "          [ 0.1875 , -0.3125 , -0.375  ,  0.125  , -0.3125 ],\n",
       "          [-0.4375 ,  0.0625 ,  0.125  ,  0.3125 ,  0.3125 ],\n",
       "          [-0.75   ,  0.125  ,  0.4375 ,  0.6875 ,  0.46875],\n",
       "          [-0.1875 ,  0.5625 , -0.1875 ,  0.125  , -0.3125 ],\n",
       "          [ 0.375  , -0.625  ,  0.5625 , -0.5625 ,  0.28125],\n",
       "          [ 0.3125 , -0.25   , -0.125  ,  0.     , -0.125  ],\n",
       "          [ 0.1875 , -0.1875 , -0.0625 , -0.0625 , -0.0625 ],\n",
       "          [-0.5    ,  0.5625 , -0.25   , -0.125  ,  0.46875],\n",
       "          [-0.1875 , -0.0625 ,  0.     ,  0.25   ,  0.     ],\n",
       "          [ 0.25   ,  0.1875 , -0.9375 ,  0.125  ,  0.34375],\n",
       "          [-0.1875 , -0.25   ,  0.375  ,  0.     , -0.15625],\n",
       "          [-0.25   , -0.375  , -0.3125 ,  0.4375 ,  0.21875],\n",
       "          [ 0.0625 , -0.6875 , -0.6875 ,  0.125  ,  0.46875],\n",
       "          [-0.1875 ,  0.5    , -0.5625 ,  0.25   ,  0.0625 ],\n",
       "          [-0.125  , -0.0625 ,  0.4375 ,  0.8125 , -0.46875],\n",
       "          [ 0.1875 , -0.3125 ,  0.0625 , -0.0625 ,  0.09375],\n",
       "          [-0.375  ,  0.0625 ,  0.375  ,  0.125  , -0.15625]], dtype=float32),\n",
       "   array([ 0.  ,  0.  , -0.25,  0.  ,  0.  ], dtype=float32)]}}"
      ]
     },
     "execution_count": 11,
     "metadata": {},
     "output_type": "execute_result"
    }
   ],
   "source": [
    "model_save_quantized_weights(qlstm, f\"ptq{i}int{j}fra_weight\")"
   ]
  },
  {
   "cell_type": "markdown",
   "metadata": {},
   "source": [
    "## QGRU Post Training Quantization"
   ]
  },
  {
   "cell_type": "code",
   "execution_count": null,
   "metadata": {},
   "outputs": [],
   "source": [
    "gru = load_model('./gru/Quickdraw5Class1.h5')"
   ]
  },
  {
   "cell_type": "code",
   "execution_count": null,
   "metadata": {},
   "outputs": [],
   "source": [
    "gru.summary()"
   ]
  },
  {
   "cell_type": "code",
   "execution_count": null,
   "metadata": {},
   "outputs": [],
   "source": [
    "for i in [2, 4]:\n",
    "    for j in [2, 4, 6, 8, 10, 12, 14, 16, 18]:\n",
    "        int_bits = i\n",
    "        total_bits = i+j+1\n",
    "        config = {\n",
    "            \"QGRU\":{\n",
    "                \"kernel_quantizer\" : f\"quantized_bits({total_bits},{int_bits},1)\",\n",
    "                 \"bias_quantizer\" : f\"quantized_bits({total_bits},{int_bits},1)\",\n",
    "                 \"recurrent_quantizer\": f\"quantized_bits({total_bits},{int_bits},1)\",\n",
    "                 \"state_quantizer\" : f\"quantized_bits({total_bits},{int_bits},1)\"\n",
    "            },\n",
    "            \n",
    "            \"QDense\":{\n",
    "                \"kernel_quantizer\" : f\"quantized_bits({total_bits},{int_bits},1)\",\n",
    "                \"bias_quantizer\" : f\"quantized_bits({total_bits},{int_bits},1)\"\n",
    "            },\n",
    "            \"QConv1D\":{\n",
    "                \"kernel_quantizer\" : f\"quantized_bits({total_bits},{int_bits},1)\",\n",
    "                \"bias_quantizer\" : f\"quantized_bits({total_bits},{int_bits},1)\"\n",
    "            },\n",
    "            \"relu_0\" : f\"quantized_relu({total_bits},{int_bits},1)\",\n",
    "            \"relu_1\" : f\"quantized_relu({total_bits},{int_bits},1)\"\n",
    "        }\n",
    "        qgru = model_quantize(gru, config, total_bits, transfer_weights=False)\n",
    "        qgru.summary()  \n",
    "\n",
    "\n",
    "        for layer in qgru.layers:\n",
    "            if hasattr(layer, \"recurrent_quantizer\"):\n",
    "                print(layer.name, \"kernel:\", str(layer.kernel_quantizer_internal), \"bias:\", str(layer.bias_quantizer_internal), \n",
    "                     \"recurrent:\", str(layer.recurrent_quantizer_internal), \"state:\", str(layer.state_quantizer_internal))\n",
    "            elif hasattr(layer, \"kernel_quantizer\"):\n",
    "                print(layer.name, \"kernel:\", str(layer.kernel_quantizer_internal), \"bias:\", str(layer.bias_quantizer_internal))\n",
    "            elif hasattr(layer, \"quantized_relu\"):\n",
    "                print(layer.name, \"quantized_relu:\", str(layer.quantizer))\n",
    "        \n",
    "\n",
    "        y_keras = qgru.predict(X_testzero, batch_size=512)\n",
    "        auc_score = roc_auc_score(y_tlabhot, y_keras)\n",
    "        print(\"AUC score:\", auc_score)"
   ]
  },
  {
   "cell_type": "code",
   "execution_count": null,
   "metadata": {},
   "outputs": [],
   "source": [
    "model_save_quantized_weights(qgru, f\"ptq{i}int{j}fra_weight\")"
   ]
  },
  {
   "cell_type": "markdown",
   "metadata": {},
   "source": [
    "## Check the train and test data"
   ]
  },
  {
   "cell_type": "code",
   "execution_count": null,
   "metadata": {
    "id": "0nKH3JAJEX45"
   },
   "outputs": [],
   "source": [
    "\n",
    "ant = 0\n",
    "bee = 0\n",
    "butterfly = 0\n",
    "mosquito = 0\n",
    "snail = 0\n",
    "for x in y_test:\n",
    "  if x == 0:\n",
    "    ant = ant + 1\n",
    "  elif x == 1:\n",
    "    bee = bee + 1\n",
    "  elif x == 2:\n",
    "    butterfly = butterfly+ 1\n",
    "  elif x==3:\n",
    "    mosquito = mosquito + 1\n",
    "  elif x ==4:\n",
    "    snail = snail + 1 "
   ]
  },
  {
   "cell_type": "code",
   "execution_count": null,
   "metadata": {
    "colab": {
     "base_uri": "https://localhost:8080/"
    },
    "id": "YjjwPPdCAMKc",
    "outputId": "eaddaad6-a18a-44e4-a107-883d843c4207"
   },
   "outputs": [
    {
     "name": "stdout",
     "output_type": "stream",
     "text": [
      "2500\n",
      "2500\n",
      "2500\n",
      "2500\n",
      "2500\n"
     ]
    }
   ],
   "source": [
    "print(ant)\n",
    "print(bee)\n",
    "print(butterfly)\n",
    "print(mosquito)\n",
    "print(snail)"
   ]
  },
  {
   "cell_type": "code",
   "execution_count": null,
   "metadata": {
    "id": "IHLx6p5iAzxa"
   },
   "outputs": [],
   "source": [
    "\n",
    "ant = 0\n",
    "bee = 0\n",
    "butterfly = 0\n",
    "mosquito = 0\n",
    "snail = 0\n",
    "for x in y_train:\n",
    "  if x == 0:\n",
    "    ant = ant + 1\n",
    "  elif x == 1:\n",
    "    bee = bee + 1\n",
    "  elif x == 2:\n",
    "    butterfly = butterfly+ 1\n",
    "  elif x==3:\n",
    "    mosquito = mosquito + 1\n",
    "  elif x ==4:\n",
    "    snail = snail + 1 "
   ]
  },
  {
   "cell_type": "code",
   "execution_count": null,
   "metadata": {
    "colab": {
     "base_uri": "https://localhost:8080/"
    },
    "id": "IinbB4qEA17X",
    "outputId": "4d61d116-5e7e-4afa-fa2e-afe2b4aaa082"
   },
   "outputs": [
    {
     "name": "stdout",
     "output_type": "stream",
     "text": [
      "110687\n",
      "107059\n",
      "104288\n",
      "108399\n",
      "119076\n"
     ]
    }
   ],
   "source": [
    "print(ant)\n",
    "print(bee)\n",
    "print(butterfly)\n",
    "print(mosquito)\n",
    "print(snail)"
   ]
  },
  {
   "cell_type": "markdown",
   "metadata": {},
   "source": [
    "## No need to run this part "
   ]
  },
  {
   "cell_type": "code",
   "execution_count": 27,
   "metadata": {
    "colab": {
     "base_uri": "https://localhost:8080/"
    },
    "id": "vtjIcZQPA4Qw",
    "outputId": "0e3d7de1-198b-495d-e45e-01863ea3e0de"
   },
   "outputs": [
    {
     "name": "stdout",
     "output_type": "stream",
     "text": [
      "Model: \"model_6\"\n",
      "_________________________________________________________________\n",
      " Layer (type)                Output Shape              Param #   \n",
      "=================================================================\n",
      " input_7 (InputLayer)        [(None, 100, 3)]          0         \n",
      "                                                                 \n",
      " gru_1 (GRU)                 (None, 100, 32)           3552      \n",
      "                                                                 \n",
      " flatten_1 (Flatten)         (None, 3200)              0         \n",
      "                                                                 \n",
      " dense_2 (Dense)             (None, 32)                102432    \n",
      "                                                                 \n",
      " relu_0 (Activation)         (None, 32)                0         \n",
      "                                                                 \n",
      " dropout_6 (Dropout)         (None, 32)                0         \n",
      "                                                                 \n",
      " dense_3 (Dense)             (None, 16)                528       \n",
      "                                                                 \n",
      " relu_1 (Activation)         (None, 16)                0         \n",
      "                                                                 \n",
      " rnn_densef (Dense)          (None, 5)                 85        \n",
      "                                                                 \n",
      " softmax (Activation)        (None, 5)                 0         \n",
      "                                                                 \n",
      "=================================================================\n",
      "Total params: 106,597\n",
      "Trainable params: 106,597\n",
      "Non-trainable params: 0\n",
      "_________________________________________________________________\n"
     ]
    }
   ],
   "source": [
    "Inputs = Input(shape = (100,3))\n",
    "\n",
    "x = GRU(32, return_sequences=True)(Inputs)\n",
    "x = Flatten()(x)\n",
    "x = Dense(32)(x)\n",
    "x = Activation('relu', name = 'relu_0')(x)\n",
    "x = Dropout(rate = 0.5)(x)\n",
    "x = Dense(16)(x)\n",
    "x = Activation('relu', name = 'relu_1')(x)\n",
    "predictions = Dense(5, kernel_initializer='lecun_uniform', name='rnn_densef')(x)\n",
    "predictions = Activation('softmax', name = 'softmax')(predictions)\n",
    "model = Model(inputs=Inputs, outputs=predictions)\n",
    "\n",
    "model.summary()"
   ]
  },
  {
   "cell_type": "code",
   "execution_count": 32,
   "metadata": {
    "id": "8Vr5VKs8ASHu"
   },
   "outputs": [
    {
     "name": "stderr",
     "output_type": "stream",
     "text": [
      "C:\\Users\\cyihu\\anaconda3\\envs\\hls4ml-tutorial\\lib\\site-packages\\keras\\optimizers\\optimizer_v2\\adam.py:114: UserWarning: The `lr` argument is deprecated, use `learning_rate` instead.\n",
      "  super().__init__(name, **kwargs)\n"
     ]
    }
   ],
   "source": [
    "adam = Adam(lr = 0.001)\n",
    "model.compile(optimizer='adam', loss='categorical_crossentropy', metrics=['accuracy'])"
   ]
  },
  {
   "cell_type": "code",
   "execution_count": 33,
   "metadata": {
    "colab": {
     "base_uri": "https://localhost:8080/"
    },
    "id": "PU2DZyjC_pdM",
    "outputId": "43880bb9-2a1c-438a-80a5-886b6862fc93"
   },
   "outputs": [
    {
     "name": "stdout",
     "output_type": "stream",
     "text": [
      "Epoch 1/50\n",
      "379/379 [==============================] - 6s 12ms/step - loss: 0.4728 - accuracy: 0.8468 - val_loss: 0.2496 - val_accuracy: 0.9245\n",
      "Epoch 2/50\n",
      "379/379 [==============================] - 4s 11ms/step - loss: 0.2711 - accuracy: 0.9187 - val_loss: 0.2190 - val_accuracy: 0.9323\n",
      "Epoch 3/50\n",
      "379/379 [==============================] - 4s 11ms/step - loss: 0.2319 - accuracy: 0.9300 - val_loss: 0.1817 - val_accuracy: 0.9423\n",
      "Epoch 4/50\n",
      "379/379 [==============================] - 4s 11ms/step - loss: 0.2052 - accuracy: 0.9378 - val_loss: 0.1658 - val_accuracy: 0.9481\n",
      "Epoch 5/50\n",
      "379/379 [==============================] - 4s 11ms/step - loss: 0.1896 - accuracy: 0.9409 - val_loss: 0.1652 - val_accuracy: 0.9466\n",
      "Epoch 6/50\n",
      "379/379 [==============================] - 4s 11ms/step - loss: 0.1771 - accuracy: 0.9438 - val_loss: 0.1500 - val_accuracy: 0.9526\n",
      "Epoch 7/50\n",
      "379/379 [==============================] - 4s 11ms/step - loss: 0.1675 - accuracy: 0.9460 - val_loss: 0.1485 - val_accuracy: 0.9551\n",
      "Epoch 8/50\n",
      "379/379 [==============================] - 4s 11ms/step - loss: 0.1572 - accuracy: 0.9512 - val_loss: 0.1375 - val_accuracy: 0.9560\n",
      "Epoch 9/50\n",
      "379/379 [==============================] - 4s 11ms/step - loss: 0.1505 - accuracy: 0.9529 - val_loss: 0.1461 - val_accuracy: 0.9553\n",
      "Epoch 10/50\n",
      "379/379 [==============================] - 4s 11ms/step - loss: 0.1462 - accuracy: 0.9540 - val_loss: 0.1559 - val_accuracy: 0.9559\n",
      "Epoch 11/50\n",
      "379/379 [==============================] - 4s 11ms/step - loss: 0.1408 - accuracy: 0.9550 - val_loss: 0.1281 - val_accuracy: 0.9591\n",
      "Epoch 12/50\n",
      "379/379 [==============================] - 4s 11ms/step - loss: 0.1347 - accuracy: 0.9571 - val_loss: 0.1270 - val_accuracy: 0.9608\n",
      "Epoch 13/50\n",
      "379/379 [==============================] - 4s 11ms/step - loss: 0.1303 - accuracy: 0.9585 - val_loss: 0.1216 - val_accuracy: 0.9624\n",
      "Epoch 14/50\n",
      "379/379 [==============================] - 4s 11ms/step - loss: 0.1276 - accuracy: 0.9594 - val_loss: 0.1239 - val_accuracy: 0.9630\n",
      "Epoch 15/50\n",
      "379/379 [==============================] - 4s 11ms/step - loss: 0.1244 - accuracy: 0.9608 - val_loss: 0.1246 - val_accuracy: 0.9633\n",
      "Epoch 16/50\n",
      "379/379 [==============================] - 4s 11ms/step - loss: 0.1205 - accuracy: 0.9618 - val_loss: 0.1160 - val_accuracy: 0.9632\n",
      "Epoch 17/50\n",
      "379/379 [==============================] - 4s 11ms/step - loss: 0.1170 - accuracy: 0.9626 - val_loss: 0.1271 - val_accuracy: 0.9624\n",
      "Epoch 18/50\n",
      "379/379 [==============================] - 4s 11ms/step - loss: 0.1163 - accuracy: 0.9629 - val_loss: 0.1149 - val_accuracy: 0.9636\n",
      "Epoch 19/50\n",
      "379/379 [==============================] - 4s 11ms/step - loss: 0.1139 - accuracy: 0.9634 - val_loss: 0.1161 - val_accuracy: 0.9645\n",
      "Epoch 20/50\n",
      "379/379 [==============================] - 4s 11ms/step - loss: 0.1125 - accuracy: 0.9642 - val_loss: 0.1112 - val_accuracy: 0.9671\n",
      "Epoch 21/50\n",
      "379/379 [==============================] - 4s 11ms/step - loss: 0.1104 - accuracy: 0.9649 - val_loss: 0.1108 - val_accuracy: 0.9669\n",
      "Epoch 22/50\n",
      "379/379 [==============================] - 4s 11ms/step - loss: 0.1083 - accuracy: 0.9651 - val_loss: 0.1180 - val_accuracy: 0.9657\n",
      "Epoch 23/50\n",
      "379/379 [==============================] - 4s 11ms/step - loss: 0.1050 - accuracy: 0.9660 - val_loss: 0.1086 - val_accuracy: 0.9686\n",
      "Epoch 24/50\n",
      "379/379 [==============================] - 4s 11ms/step - loss: 0.1052 - accuracy: 0.9664 - val_loss: 0.1142 - val_accuracy: 0.9666\n",
      "Epoch 25/50\n",
      "379/379 [==============================] - 4s 11ms/step - loss: 0.1027 - accuracy: 0.9667 - val_loss: 0.1075 - val_accuracy: 0.9683\n",
      "Epoch 26/50\n",
      "379/379 [==============================] - 4s 10ms/step - loss: 0.1018 - accuracy: 0.9673 - val_loss: 0.1030 - val_accuracy: 0.9690\n",
      "Epoch 27/50\n",
      "379/379 [==============================] - 4s 10ms/step - loss: 0.0993 - accuracy: 0.9675 - val_loss: 0.1058 - val_accuracy: 0.9683\n",
      "Epoch 28/50\n",
      "379/379 [==============================] - 4s 10ms/step - loss: 0.0981 - accuracy: 0.9684 - val_loss: 0.1034 - val_accuracy: 0.9695\n",
      "Epoch 29/50\n",
      "379/379 [==============================] - 4s 10ms/step - loss: 0.0977 - accuracy: 0.9687 - val_loss: 0.1062 - val_accuracy: 0.9684\n",
      "Epoch 30/50\n",
      "379/379 [==============================] - 4s 11ms/step - loss: 0.0954 - accuracy: 0.9694 - val_loss: 0.1034 - val_accuracy: 0.9697\n",
      "Epoch 31/50\n",
      "379/379 [==============================] - 4s 11ms/step - loss: 0.0956 - accuracy: 0.9689 - val_loss: 0.1063 - val_accuracy: 0.9694\n",
      "Epoch 32/50\n",
      "379/379 [==============================] - 4s 11ms/step - loss: 0.0937 - accuracy: 0.9698 - val_loss: 0.1090 - val_accuracy: 0.9694\n",
      "Epoch 33/50\n",
      "379/379 [==============================] - 4s 11ms/step - loss: 0.0920 - accuracy: 0.9703 - val_loss: 0.1041 - val_accuracy: 0.9705\n",
      "Epoch 34/50\n",
      "379/379 [==============================] - 4s 11ms/step - loss: 0.0914 - accuracy: 0.9704 - val_loss: 0.1097 - val_accuracy: 0.9712\n",
      "Epoch 35/50\n",
      "379/379 [==============================] - 4s 11ms/step - loss: 0.0904 - accuracy: 0.9708 - val_loss: 0.1025 - val_accuracy: 0.9702\n",
      "Epoch 36/50\n",
      "379/379 [==============================] - 4s 11ms/step - loss: 0.0897 - accuracy: 0.9710 - val_loss: 0.1014 - val_accuracy: 0.9710\n",
      "Epoch 37/50\n",
      "379/379 [==============================] - 4s 11ms/step - loss: 0.0896 - accuracy: 0.9709 - val_loss: 0.1106 - val_accuracy: 0.9698\n",
      "Epoch 38/50\n",
      "379/379 [==============================] - 4s 11ms/step - loss: 0.0890 - accuracy: 0.9712 - val_loss: 0.0984 - val_accuracy: 0.9711\n",
      "Epoch 39/50\n",
      "379/379 [==============================] - 4s 11ms/step - loss: 0.0871 - accuracy: 0.9718 - val_loss: 0.1110 - val_accuracy: 0.9695\n",
      "Epoch 40/50\n",
      "379/379 [==============================] - 4s 11ms/step - loss: 0.0859 - accuracy: 0.9720 - val_loss: 0.1031 - val_accuracy: 0.9711\n",
      "Epoch 41/50\n",
      "379/379 [==============================] - 4s 11ms/step - loss: 0.0853 - accuracy: 0.9723 - val_loss: 0.1013 - val_accuracy: 0.9711\n",
      "Epoch 42/50\n",
      "379/379 [==============================] - 4s 11ms/step - loss: 0.0844 - accuracy: 0.9722 - val_loss: 0.1010 - val_accuracy: 0.9707\n",
      "Epoch 43/50\n",
      "379/379 [==============================] - 4s 11ms/step - loss: 0.0846 - accuracy: 0.9723 - val_loss: 0.1048 - val_accuracy: 0.9713\n",
      "Epoch 44/50\n",
      "379/379 [==============================] - 4s 11ms/step - loss: 0.0843 - accuracy: 0.9725 - val_loss: 0.1011 - val_accuracy: 0.9703\n",
      "Epoch 45/50\n",
      "379/379 [==============================] - 4s 11ms/step - loss: 0.0831 - accuracy: 0.9729 - val_loss: 0.0982 - val_accuracy: 0.9712\n",
      "Epoch 46/50\n",
      "379/379 [==============================] - 4s 10ms/step - loss: 0.0817 - accuracy: 0.9731 - val_loss: 0.1035 - val_accuracy: 0.9717\n",
      "Epoch 47/50\n",
      "379/379 [==============================] - 4s 10ms/step - loss: 0.0807 - accuracy: 0.9739 - val_loss: 0.0985 - val_accuracy: 0.9726\n",
      "Epoch 48/50\n",
      "379/379 [==============================] - 4s 11ms/step - loss: 0.0796 - accuracy: 0.9740 - val_loss: 0.1004 - val_accuracy: 0.9720\n",
      "Epoch 49/50\n",
      "379/379 [==============================] - 4s 11ms/step - loss: 0.0796 - accuracy: 0.9735 - val_loss: 0.1010 - val_accuracy: 0.9726\n",
      "Epoch 50/50\n",
      "379/379 [==============================] - 4s 11ms/step - loss: 0.0796 - accuracy: 0.9737 - val_loss: 0.1040 - val_accuracy: 0.9717\n"
     ]
    }
   ],
   "source": [
    "history = model.fit(array1_shuffled, array2_shuffled, batch_size = 512, epochs = 50, \n",
    "                    validation_split = 0.2, shuffle = True, callbacks = None,\n",
    "                    use_multiprocessing=True, workers=4)"
   ]
  },
  {
   "cell_type": "code",
   "execution_count": 34,
   "metadata": {
    "colab": {
     "base_uri": "https://localhost:8080/",
     "height": 1000
    },
    "id": "FnHTtD7qAN-x",
    "outputId": "fa6ea3d9-edfb-4124-d5c3-cee906af7f7b",
    "scrolled": true
   },
   "outputs": [
    {
     "name": "stdout",
     "output_type": "stream",
     "text": [
      "391/391 [==============================] - 2s 5ms/step\n"
     ]
    },
    {
     "data": {
      "image/png": "[encoded data removed]",
      "text/plain": [
       "<Figure size 1000x800 with 1 Axes>"
      ]
     },
     "metadata": {},
     "output_type": "display_data"
    },
    {
     "data": {
      "image/png": "[encoded data removed]",
      "text/plain": [
       "<Figure size 1000x800 with 1 Axes>"
      ]
     },
     "metadata": {},
     "output_type": "display_data"
    }
   ],
   "source": [
    "y_pred = makeRoc(X_testzero, y_tlabhot, labels, model, outputSuffix='two-layer')\n",
    "learningCurve(history)"
   ]
  },
  {
   "cell_type": "code",
   "execution_count": null,
   "metadata": {},
   "outputs": [],
   "source": []
  },
  {
   "cell_type": "code",
   "execution_count": 28,
   "metadata": {},
   "outputs": [
    {
     "name": "stdout",
     "output_type": "stream",
     "text": [
      "Model: \"model_6\"\n",
      "_________________________________________________________________\n",
      " Layer (type)                Output Shape              Param #   \n",
      "=================================================================\n",
      " input_7 (InputLayer)        [(None, 100, 3)]          0         \n",
      "                                                                 \n",
      " gru_1 (QGRU)                (None, 100, 32)           3552      \n",
      "                                                                 \n",
      " flatten_1 (Flatten)         (None, 3200)              0         \n",
      "                                                                 \n",
      " dense_2 (QDense)            (None, 32)                102432    \n",
      "                                                                 \n",
      " relu_0 (QActivation)        (None, 32)                0         \n",
      "                                                                 \n",
      " dropout_6 (Dropout)         (None, 32)                0         \n",
      "                                                                 \n",
      " dense_3 (QDense)            (None, 16)                528       \n",
      "                                                                 \n",
      " relu_1 (QActivation)        (None, 16)                0         \n",
      "                                                                 \n",
      " rnn_densef (QDense)         (None, 5)                 85        \n",
      "                                                                 \n",
      " softmax (Activation)        (None, 5)                 0         \n",
      "                                                                 \n",
      "=================================================================\n",
      "Total params: 106,597\n",
      "Trainable params: 106,597\n",
      "Non-trainable params: 0\n",
      "_________________________________________________________________\n",
      "Epoch 1/50\n",
      "182/758 [======>.......................] - ETA: 6:24 - loss: nan - accuracy: 0.4482"
     ]
    },
    {
     "ename": "KeyboardInterrupt",
     "evalue": "",
     "output_type": "error",
     "traceback": [
      "\u001b[1;31m---------------------------------------------------------------------------\u001b[0m",
      "\u001b[1;31mKeyboardInterrupt\u001b[0m                         Traceback (most recent call last)",
      "Cell \u001b[1;32mIn [28], line 30\u001b[0m\n\u001b[0;32m     28\u001b[0m         adam \u001b[38;5;241m=\u001b[39m Adam(lr \u001b[38;5;241m=\u001b[39m \u001b[38;5;241m0.001\u001b[39m)\n\u001b[0;32m     29\u001b[0m         qmodel\u001b[38;5;241m.\u001b[39mcompile(optimizer\u001b[38;5;241m=\u001b[39m\u001b[38;5;124m'\u001b[39m\u001b[38;5;124madam\u001b[39m\u001b[38;5;124m'\u001b[39m, loss\u001b[38;5;241m=\u001b[39m\u001b[38;5;124m'\u001b[39m\u001b[38;5;124mcategorical_crossentropy\u001b[39m\u001b[38;5;124m'\u001b[39m, metrics\u001b[38;5;241m=\u001b[39m[\u001b[38;5;124m'\u001b[39m\u001b[38;5;124maccuracy\u001b[39m\u001b[38;5;124m'\u001b[39m])\n\u001b[1;32m---> 30\u001b[0m         history \u001b[38;5;241m=\u001b[39m \u001b[43mqmodel\u001b[49m\u001b[38;5;241;43m.\u001b[39;49m\u001b[43mfit\u001b[49m\u001b[43m(\u001b[49m\u001b[43marray1_shuffled\u001b[49m\u001b[43m,\u001b[49m\u001b[43m \u001b[49m\u001b[43marray2_shuffled\u001b[49m\u001b[43m,\u001b[49m\u001b[43m \u001b[49m\u001b[43mbatch_size\u001b[49m\u001b[43m \u001b[49m\u001b[38;5;241;43m=\u001b[39;49m\u001b[43m \u001b[49m\u001b[38;5;241;43m256\u001b[39;49m\u001b[43m,\u001b[49m\u001b[43m \u001b[49m\u001b[43mepochs\u001b[49m\u001b[43m \u001b[49m\u001b[38;5;241;43m=\u001b[39;49m\u001b[43m \u001b[49m\u001b[38;5;241;43m50\u001b[39;49m\u001b[43m,\u001b[49m\u001b[43m \u001b[49m\n\u001b[0;32m     31\u001b[0m \u001b[43m                            \u001b[49m\u001b[43mvalidation_split\u001b[49m\u001b[43m \u001b[49m\u001b[38;5;241;43m=\u001b[39;49m\u001b[43m \u001b[49m\u001b[38;5;241;43m0.2\u001b[39;49m\u001b[43m,\u001b[49m\u001b[43m \u001b[49m\u001b[43mshuffle\u001b[49m\u001b[43m \u001b[49m\u001b[38;5;241;43m=\u001b[39;49m\u001b[43m \u001b[49m\u001b[38;5;28;43;01mTrue\u001b[39;49;00m\u001b[43m,\u001b[49m\u001b[43m \u001b[49m\u001b[43mcallbacks\u001b[49m\u001b[43m \u001b[49m\u001b[38;5;241;43m=\u001b[39;49m\u001b[43m \u001b[49m\u001b[38;5;28;43;01mNone\u001b[39;49;00m\u001b[43m,\u001b[49m\n\u001b[0;32m     32\u001b[0m \u001b[43m                            \u001b[49m\u001b[43muse_multiprocessing\u001b[49m\u001b[38;5;241;43m=\u001b[39;49m\u001b[38;5;28;43;01mTrue\u001b[39;49;00m\u001b[43m,\u001b[49m\u001b[43m \u001b[49m\u001b[43mworkers\u001b[49m\u001b[38;5;241;43m=\u001b[39;49m\u001b[38;5;241;43m4\u001b[39;49m\u001b[43m)\u001b[49m\n\u001b[0;32m     33\u001b[0m \u001b[38;5;66;03m# labels = ['ant', 'bee', 'butterfly', 'mosquito', 'snail']\u001b[39;00m\n\u001b[0;32m     34\u001b[0m \u001b[38;5;66;03m# y_pred = makeRoc(X_testzero, y_tlabhot, labels, model, outputSuffix='two-layer')\u001b[39;00m\n\u001b[0;32m     35\u001b[0m         y_keras \u001b[38;5;241m=\u001b[39m qmodel\u001b[38;5;241m.\u001b[39mpredict(X_testzero, batch_size\u001b[38;5;241m=\u001b[39m\u001b[38;5;241m512\u001b[39m)\n",
      "File \u001b[1;32m~\\anaconda3\\envs\\hls4ml-tutorial\\lib\\site-packages\\keras\\utils\\traceback_utils.py:65\u001b[0m, in \u001b[0;36mfilter_traceback.<locals>.error_handler\u001b[1;34m(*args, **kwargs)\u001b[0m\n\u001b[0;32m     63\u001b[0m filtered_tb \u001b[38;5;241m=\u001b[39m \u001b[38;5;28;01mNone\u001b[39;00m\n\u001b[0;32m     64\u001b[0m \u001b[38;5;28;01mtry\u001b[39;00m:\n\u001b[1;32m---> 65\u001b[0m     \u001b[38;5;28;01mreturn\u001b[39;00m \u001b[43mfn\u001b[49m\u001b[43m(\u001b[49m\u001b[38;5;241;43m*\u001b[39;49m\u001b[43margs\u001b[49m\u001b[43m,\u001b[49m\u001b[43m \u001b[49m\u001b[38;5;241;43m*\u001b[39;49m\u001b[38;5;241;43m*\u001b[39;49m\u001b[43mkwargs\u001b[49m\u001b[43m)\u001b[49m\n\u001b[0;32m     66\u001b[0m \u001b[38;5;28;01mexcept\u001b[39;00m \u001b[38;5;167;01mException\u001b[39;00m \u001b[38;5;28;01mas\u001b[39;00m e:\n\u001b[0;32m     67\u001b[0m     filtered_tb \u001b[38;5;241m=\u001b[39m _process_traceback_frames(e\u001b[38;5;241m.\u001b[39m__traceback__)\n",
      "File \u001b[1;32m~\\anaconda3\\envs\\hls4ml-tutorial\\lib\\site-packages\\keras\\engine\\training.py:1564\u001b[0m, in \u001b[0;36mModel.fit\u001b[1;34m(self, x, y, batch_size, epochs, verbose, callbacks, validation_split, validation_data, shuffle, class_weight, sample_weight, initial_epoch, steps_per_epoch, validation_steps, validation_batch_size, validation_freq, max_queue_size, workers, use_multiprocessing)\u001b[0m\n\u001b[0;32m   1556\u001b[0m \u001b[38;5;28;01mwith\u001b[39;00m tf\u001b[38;5;241m.\u001b[39mprofiler\u001b[38;5;241m.\u001b[39mexperimental\u001b[38;5;241m.\u001b[39mTrace(\n\u001b[0;32m   1557\u001b[0m     \u001b[38;5;124m\"\u001b[39m\u001b[38;5;124mtrain\u001b[39m\u001b[38;5;124m\"\u001b[39m,\n\u001b[0;32m   1558\u001b[0m     epoch_num\u001b[38;5;241m=\u001b[39mepoch,\n\u001b[1;32m   (...)\u001b[0m\n\u001b[0;32m   1561\u001b[0m     _r\u001b[38;5;241m=\u001b[39m\u001b[38;5;241m1\u001b[39m,\n\u001b[0;32m   1562\u001b[0m ):\n\u001b[0;32m   1563\u001b[0m     callbacks\u001b[38;5;241m.\u001b[39mon_train_batch_begin(step)\n\u001b[1;32m-> 1564\u001b[0m     tmp_logs \u001b[38;5;241m=\u001b[39m \u001b[38;5;28;43mself\u001b[39;49m\u001b[38;5;241;43m.\u001b[39;49m\u001b[43mtrain_function\u001b[49m\u001b[43m(\u001b[49m\u001b[43miterator\u001b[49m\u001b[43m)\u001b[49m\n\u001b[0;32m   1565\u001b[0m     \u001b[38;5;28;01mif\u001b[39;00m data_handler\u001b[38;5;241m.\u001b[39mshould_sync:\n\u001b[0;32m   1566\u001b[0m         context\u001b[38;5;241m.\u001b[39masync_wait()\n",
      "File \u001b[1;32m~\\anaconda3\\envs\\hls4ml-tutorial\\lib\\site-packages\\tensorflow\\python\\util\\traceback_utils.py:150\u001b[0m, in \u001b[0;36mfilter_traceback.<locals>.error_handler\u001b[1;34m(*args, **kwargs)\u001b[0m\n\u001b[0;32m    148\u001b[0m filtered_tb \u001b[38;5;241m=\u001b[39m \u001b[38;5;28;01mNone\u001b[39;00m\n\u001b[0;32m    149\u001b[0m \u001b[38;5;28;01mtry\u001b[39;00m:\n\u001b[1;32m--> 150\u001b[0m   \u001b[38;5;28;01mreturn\u001b[39;00m \u001b[43mfn\u001b[49m\u001b[43m(\u001b[49m\u001b[38;5;241;43m*\u001b[39;49m\u001b[43margs\u001b[49m\u001b[43m,\u001b[49m\u001b[43m \u001b[49m\u001b[38;5;241;43m*\u001b[39;49m\u001b[38;5;241;43m*\u001b[39;49m\u001b[43mkwargs\u001b[49m\u001b[43m)\u001b[49m\n\u001b[0;32m    151\u001b[0m \u001b[38;5;28;01mexcept\u001b[39;00m \u001b[38;5;167;01mException\u001b[39;00m \u001b[38;5;28;01mas\u001b[39;00m e:\n\u001b[0;32m    152\u001b[0m   filtered_tb \u001b[38;5;241m=\u001b[39m _process_traceback_frames(e\u001b[38;5;241m.\u001b[39m__traceback__)\n",
      "File \u001b[1;32m~\\anaconda3\\envs\\hls4ml-tutorial\\lib\\site-packages\\tensorflow\\python\\eager\\def_function.py:915\u001b[0m, in \u001b[0;36mFunction.__call__\u001b[1;34m(self, *args, **kwds)\u001b[0m\n\u001b[0;32m    912\u001b[0m compiler \u001b[38;5;241m=\u001b[39m \u001b[38;5;124m\"\u001b[39m\u001b[38;5;124mxla\u001b[39m\u001b[38;5;124m\"\u001b[39m \u001b[38;5;28;01mif\u001b[39;00m \u001b[38;5;28mself\u001b[39m\u001b[38;5;241m.\u001b[39m_jit_compile \u001b[38;5;28;01melse\u001b[39;00m \u001b[38;5;124m\"\u001b[39m\u001b[38;5;124mnonXla\u001b[39m\u001b[38;5;124m\"\u001b[39m\n\u001b[0;32m    914\u001b[0m \u001b[38;5;28;01mwith\u001b[39;00m OptionalXlaContext(\u001b[38;5;28mself\u001b[39m\u001b[38;5;241m.\u001b[39m_jit_compile):\n\u001b[1;32m--> 915\u001b[0m   result \u001b[38;5;241m=\u001b[39m \u001b[38;5;28;43mself\u001b[39;49m\u001b[38;5;241;43m.\u001b[39;49m\u001b[43m_call\u001b[49m\u001b[43m(\u001b[49m\u001b[38;5;241;43m*\u001b[39;49m\u001b[43margs\u001b[49m\u001b[43m,\u001b[49m\u001b[43m \u001b[49m\u001b[38;5;241;43m*\u001b[39;49m\u001b[38;5;241;43m*\u001b[39;49m\u001b[43mkwds\u001b[49m\u001b[43m)\u001b[49m\n\u001b[0;32m    917\u001b[0m new_tracing_count \u001b[38;5;241m=\u001b[39m \u001b[38;5;28mself\u001b[39m\u001b[38;5;241m.\u001b[39mexperimental_get_tracing_count()\n\u001b[0;32m    918\u001b[0m without_tracing \u001b[38;5;241m=\u001b[39m (tracing_count \u001b[38;5;241m==\u001b[39m new_tracing_count)\n",
      "File \u001b[1;32m~\\anaconda3\\envs\\hls4ml-tutorial\\lib\\site-packages\\tensorflow\\python\\eager\\def_function.py:947\u001b[0m, in \u001b[0;36mFunction._call\u001b[1;34m(self, *args, **kwds)\u001b[0m\n\u001b[0;32m    944\u001b[0m   \u001b[38;5;28mself\u001b[39m\u001b[38;5;241m.\u001b[39m_lock\u001b[38;5;241m.\u001b[39mrelease()\n\u001b[0;32m    945\u001b[0m   \u001b[38;5;66;03m# In this case we have created variables on the first call, so we run the\u001b[39;00m\n\u001b[0;32m    946\u001b[0m   \u001b[38;5;66;03m# defunned version which is guaranteed to never create variables.\u001b[39;00m\n\u001b[1;32m--> 947\u001b[0m   \u001b[38;5;28;01mreturn\u001b[39;00m \u001b[38;5;28;43mself\u001b[39;49m\u001b[38;5;241;43m.\u001b[39;49m\u001b[43m_stateless_fn\u001b[49m\u001b[43m(\u001b[49m\u001b[38;5;241;43m*\u001b[39;49m\u001b[43margs\u001b[49m\u001b[43m,\u001b[49m\u001b[43m \u001b[49m\u001b[38;5;241;43m*\u001b[39;49m\u001b[38;5;241;43m*\u001b[39;49m\u001b[43mkwds\u001b[49m\u001b[43m)\u001b[49m  \u001b[38;5;66;03m# pylint: disable=not-callable\u001b[39;00m\n\u001b[0;32m    948\u001b[0m \u001b[38;5;28;01melif\u001b[39;00m \u001b[38;5;28mself\u001b[39m\u001b[38;5;241m.\u001b[39m_stateful_fn \u001b[38;5;129;01mis\u001b[39;00m \u001b[38;5;129;01mnot\u001b[39;00m \u001b[38;5;28;01mNone\u001b[39;00m:\n\u001b[0;32m    949\u001b[0m   \u001b[38;5;66;03m# Release the lock early so that multiple threads can perform the call\u001b[39;00m\n\u001b[0;32m    950\u001b[0m   \u001b[38;5;66;03m# in parallel.\u001b[39;00m\n\u001b[0;32m    951\u001b[0m   \u001b[38;5;28mself\u001b[39m\u001b[38;5;241m.\u001b[39m_lock\u001b[38;5;241m.\u001b[39mrelease()\n",
      "File \u001b[1;32m~\\anaconda3\\envs\\hls4ml-tutorial\\lib\\site-packages\\tensorflow\\python\\eager\\function.py:2496\u001b[0m, in \u001b[0;36mFunction.__call__\u001b[1;34m(self, *args, **kwargs)\u001b[0m\n\u001b[0;32m   2493\u001b[0m \u001b[38;5;28;01mwith\u001b[39;00m \u001b[38;5;28mself\u001b[39m\u001b[38;5;241m.\u001b[39m_lock:\n\u001b[0;32m   2494\u001b[0m   (graph_function,\n\u001b[0;32m   2495\u001b[0m    filtered_flat_args) \u001b[38;5;241m=\u001b[39m \u001b[38;5;28mself\u001b[39m\u001b[38;5;241m.\u001b[39m_maybe_define_function(args, kwargs)\n\u001b[1;32m-> 2496\u001b[0m \u001b[38;5;28;01mreturn\u001b[39;00m \u001b[43mgraph_function\u001b[49m\u001b[38;5;241;43m.\u001b[39;49m\u001b[43m_call_flat\u001b[49m\u001b[43m(\u001b[49m\n\u001b[0;32m   2497\u001b[0m \u001b[43m    \u001b[49m\u001b[43mfiltered_flat_args\u001b[49m\u001b[43m,\u001b[49m\u001b[43m \u001b[49m\u001b[43mcaptured_inputs\u001b[49m\u001b[38;5;241;43m=\u001b[39;49m\u001b[43mgraph_function\u001b[49m\u001b[38;5;241;43m.\u001b[39;49m\u001b[43mcaptured_inputs\u001b[49m\u001b[43m)\u001b[49m\n",
      "File \u001b[1;32m~\\anaconda3\\envs\\hls4ml-tutorial\\lib\\site-packages\\tensorflow\\python\\eager\\function.py:1862\u001b[0m, in \u001b[0;36mConcreteFunction._call_flat\u001b[1;34m(self, args, captured_inputs, cancellation_manager)\u001b[0m\n\u001b[0;32m   1858\u001b[0m possible_gradient_type \u001b[38;5;241m=\u001b[39m gradients_util\u001b[38;5;241m.\u001b[39mPossibleTapeGradientTypes(args)\n\u001b[0;32m   1859\u001b[0m \u001b[38;5;28;01mif\u001b[39;00m (possible_gradient_type \u001b[38;5;241m==\u001b[39m gradients_util\u001b[38;5;241m.\u001b[39mPOSSIBLE_GRADIENT_TYPES_NONE\n\u001b[0;32m   1860\u001b[0m     \u001b[38;5;129;01mand\u001b[39;00m executing_eagerly):\n\u001b[0;32m   1861\u001b[0m   \u001b[38;5;66;03m# No tape is watching; skip to running the function.\u001b[39;00m\n\u001b[1;32m-> 1862\u001b[0m   \u001b[38;5;28;01mreturn\u001b[39;00m \u001b[38;5;28mself\u001b[39m\u001b[38;5;241m.\u001b[39m_build_call_outputs(\u001b[38;5;28;43mself\u001b[39;49m\u001b[38;5;241;43m.\u001b[39;49m\u001b[43m_inference_function\u001b[49m\u001b[38;5;241;43m.\u001b[39;49m\u001b[43mcall\u001b[49m\u001b[43m(\u001b[49m\n\u001b[0;32m   1863\u001b[0m \u001b[43m      \u001b[49m\u001b[43mctx\u001b[49m\u001b[43m,\u001b[49m\u001b[43m \u001b[49m\u001b[43margs\u001b[49m\u001b[43m,\u001b[49m\u001b[43m \u001b[49m\u001b[43mcancellation_manager\u001b[49m\u001b[38;5;241;43m=\u001b[39;49m\u001b[43mcancellation_manager\u001b[49m\u001b[43m)\u001b[49m)\n\u001b[0;32m   1864\u001b[0m forward_backward \u001b[38;5;241m=\u001b[39m \u001b[38;5;28mself\u001b[39m\u001b[38;5;241m.\u001b[39m_select_forward_and_backward_functions(\n\u001b[0;32m   1865\u001b[0m     args,\n\u001b[0;32m   1866\u001b[0m     possible_gradient_type,\n\u001b[0;32m   1867\u001b[0m     executing_eagerly)\n\u001b[0;32m   1868\u001b[0m forward_function, args_with_tangents \u001b[38;5;241m=\u001b[39m forward_backward\u001b[38;5;241m.\u001b[39mforward()\n",
      "File \u001b[1;32m~\\anaconda3\\envs\\hls4ml-tutorial\\lib\\site-packages\\tensorflow\\python\\eager\\function.py:499\u001b[0m, in \u001b[0;36m_EagerDefinedFunction.call\u001b[1;34m(self, ctx, args, cancellation_manager)\u001b[0m\n\u001b[0;32m    497\u001b[0m \u001b[38;5;28;01mwith\u001b[39;00m _InterpolateFunctionError(\u001b[38;5;28mself\u001b[39m):\n\u001b[0;32m    498\u001b[0m   \u001b[38;5;28;01mif\u001b[39;00m cancellation_manager \u001b[38;5;129;01mis\u001b[39;00m \u001b[38;5;28;01mNone\u001b[39;00m:\n\u001b[1;32m--> 499\u001b[0m     outputs \u001b[38;5;241m=\u001b[39m \u001b[43mexecute\u001b[49m\u001b[38;5;241;43m.\u001b[39;49m\u001b[43mexecute\u001b[49m\u001b[43m(\u001b[49m\n\u001b[0;32m    500\u001b[0m \u001b[43m        \u001b[49m\u001b[38;5;28;43mstr\u001b[39;49m\u001b[43m(\u001b[49m\u001b[38;5;28;43mself\u001b[39;49m\u001b[38;5;241;43m.\u001b[39;49m\u001b[43msignature\u001b[49m\u001b[38;5;241;43m.\u001b[39;49m\u001b[43mname\u001b[49m\u001b[43m)\u001b[49m\u001b[43m,\u001b[49m\n\u001b[0;32m    501\u001b[0m \u001b[43m        \u001b[49m\u001b[43mnum_outputs\u001b[49m\u001b[38;5;241;43m=\u001b[39;49m\u001b[38;5;28;43mself\u001b[39;49m\u001b[38;5;241;43m.\u001b[39;49m\u001b[43m_num_outputs\u001b[49m\u001b[43m,\u001b[49m\n\u001b[0;32m    502\u001b[0m \u001b[43m        \u001b[49m\u001b[43minputs\u001b[49m\u001b[38;5;241;43m=\u001b[39;49m\u001b[43margs\u001b[49m\u001b[43m,\u001b[49m\n\u001b[0;32m    503\u001b[0m \u001b[43m        \u001b[49m\u001b[43mattrs\u001b[49m\u001b[38;5;241;43m=\u001b[39;49m\u001b[43mattrs\u001b[49m\u001b[43m,\u001b[49m\n\u001b[0;32m    504\u001b[0m \u001b[43m        \u001b[49m\u001b[43mctx\u001b[49m\u001b[38;5;241;43m=\u001b[39;49m\u001b[43mctx\u001b[49m\u001b[43m)\u001b[49m\n\u001b[0;32m    505\u001b[0m   \u001b[38;5;28;01melse\u001b[39;00m:\n\u001b[0;32m    506\u001b[0m     outputs \u001b[38;5;241m=\u001b[39m execute\u001b[38;5;241m.\u001b[39mexecute_with_cancellation(\n\u001b[0;32m    507\u001b[0m         \u001b[38;5;28mstr\u001b[39m(\u001b[38;5;28mself\u001b[39m\u001b[38;5;241m.\u001b[39msignature\u001b[38;5;241m.\u001b[39mname),\n\u001b[0;32m    508\u001b[0m         num_outputs\u001b[38;5;241m=\u001b[39m\u001b[38;5;28mself\u001b[39m\u001b[38;5;241m.\u001b[39m_num_outputs,\n\u001b[1;32m   (...)\u001b[0m\n\u001b[0;32m    511\u001b[0m         ctx\u001b[38;5;241m=\u001b[39mctx,\n\u001b[0;32m    512\u001b[0m         cancellation_manager\u001b[38;5;241m=\u001b[39mcancellation_manager)\n",
      "File \u001b[1;32m~\\anaconda3\\envs\\hls4ml-tutorial\\lib\\site-packages\\tensorflow\\python\\eager\\execute.py:54\u001b[0m, in \u001b[0;36mquick_execute\u001b[1;34m(op_name, num_outputs, inputs, attrs, ctx, name)\u001b[0m\n\u001b[0;32m     52\u001b[0m \u001b[38;5;28;01mtry\u001b[39;00m:\n\u001b[0;32m     53\u001b[0m   ctx\u001b[38;5;241m.\u001b[39mensure_initialized()\n\u001b[1;32m---> 54\u001b[0m   tensors \u001b[38;5;241m=\u001b[39m \u001b[43mpywrap_tfe\u001b[49m\u001b[38;5;241;43m.\u001b[39;49m\u001b[43mTFE_Py_Execute\u001b[49m\u001b[43m(\u001b[49m\u001b[43mctx\u001b[49m\u001b[38;5;241;43m.\u001b[39;49m\u001b[43m_handle\u001b[49m\u001b[43m,\u001b[49m\u001b[43m \u001b[49m\u001b[43mdevice_name\u001b[49m\u001b[43m,\u001b[49m\u001b[43m \u001b[49m\u001b[43mop_name\u001b[49m\u001b[43m,\u001b[49m\n\u001b[0;32m     55\u001b[0m \u001b[43m                                      \u001b[49m\u001b[43minputs\u001b[49m\u001b[43m,\u001b[49m\u001b[43m \u001b[49m\u001b[43mattrs\u001b[49m\u001b[43m,\u001b[49m\u001b[43m \u001b[49m\u001b[43mnum_outputs\u001b[49m\u001b[43m)\u001b[49m\n\u001b[0;32m     56\u001b[0m \u001b[38;5;28;01mexcept\u001b[39;00m core\u001b[38;5;241m.\u001b[39m_NotOkStatusException \u001b[38;5;28;01mas\u001b[39;00m e:\n\u001b[0;32m     57\u001b[0m   \u001b[38;5;28;01mif\u001b[39;00m name \u001b[38;5;129;01mis\u001b[39;00m \u001b[38;5;129;01mnot\u001b[39;00m \u001b[38;5;28;01mNone\u001b[39;00m:\n",
      "\u001b[1;31mKeyboardInterrupt\u001b[0m: "
     ]
    }
   ],
   "source": [
    "for i in [12]:\n",
    "    for j in [19]:\n",
    "        int_bits = i\n",
    "        total_bits = i+j+1\n",
    "        config = {\n",
    "#             \"QLSTM\":{\n",
    "            \"QGRU\":{\n",
    "                \"kernel_quantizer\" : f\"quantized_bits({total_bits},{int_bits},1)\",\n",
    "                 \"bias_quantizer\" : f\"quantized_bits({total_bits},{int_bits},1)\",\n",
    "                 \"recurrent_quantizer\": f\"quantized_bits({total_bits},{int_bits},1)\",\n",
    "                 \"state_quantizer\" : f\"quantized_bits({total_bits},{int_bits},1)\"\n",
    "            },\n",
    "            \n",
    "            \"QDense\":{\n",
    "                \"kernel_quantizer\" : f\"quantized_bits({total_bits},{int_bits},1)\",\n",
    "                \"bias_quantizer\" : f\"quantized_bits({total_bits},{int_bits},1)\"\n",
    "            },\n",
    "            \"QConv1D\":{\n",
    "                \"kernel_quantizer\" : f\"quantized_bits({total_bits},{int_bits},1)\",\n",
    "                \"bias_quantizer\" : f\"quantized_bits({total_bits},{int_bits},1)\"\n",
    "            },\n",
    "            \"relu_0\" : f\"quantized_relu({total_bits},{int_bits},1)\",\n",
    "            \"relu_1\" : f\"quantized_relu({total_bits},{int_bits},1)\"\n",
    "        }\n",
    "        qmodel = model_quantize(model, config, total_bits, transfer_weights=True)\n",
    "        qmodel.summary()     \n",
    "        \n",
    "        adam = Adam(lr = 0.001)\n",
    "        qmodel.compile(optimizer='adam', loss='categorical_crossentropy', metrics=['accuracy'])\n",
    "        history = qmodel.fit(array1_shuffled, array2_shuffled, batch_size = 256, epochs = 50, \n",
    "                            validation_split = 0.2, shuffle = True, callbacks = None,\n",
    "                            use_multiprocessing=True, workers=4)\n",
    "# labels = ['ant', 'bee', 'butterfly', 'mosquito', 'snail']\n",
    "# y_pred = makeRoc(X_testzero, y_tlabhot, labels, model, outputSuffix='two-layer')\n",
    "        y_keras = qmodel.predict(X_testzero, batch_size=512)\n",
    "        auc_score = roc_auc_score(y_tlabhot, y_keras)\n",
    "        print(auc_score)\n",
    "        model.save(f'./qgru_{i}int/lstm_{j}.h5')"
   ]
  },
  {
   "cell_type": "code",
   "execution_count": null,
   "metadata": {},
   "outputs": [],
   "source": [
    "PTQ2int = []\n",
    "PTQ4int = []\n",
    "from qkeras.utils import model_quantize\n",
    "from qkeras.utils import model_save_quantized_weights\n",
    "for i in [2, 4]:\n",
    "    for j in [2, 4, 6, 8, 10, 12, 14]:\n",
    "        int_bits = i\n",
    "        total_bits = i+j+1\n",
    "        config = {\n",
    "            \"QLSTM\":{\n",
    "                \"kernel_quantizer\" : f\"quantized_bits({total_bits},{int_bits},1)\",\n",
    "                 \"bias_quantizer\" : f\"quantized_bits({total_bits},{int_bits},1)\",\n",
    "                 \"recurrent_quantizer\": f\"quantized_bits({total_bits},{int_bits},1)\",\n",
    "                 \"state_quantizer\" : f\"quantized_bits({total_bits},{int_bits},1)\"\n",
    "            },\n",
    "            \"QDense\":{\n",
    "                \"kernel_quantizer\" : f\"quantized_bits({total_bits},{int_bits},1)\",\n",
    "                \"bias_quantizer\" : f\"quantized_bits({total_bits},{int_bits},1)\"\n",
    "            },\n",
    "            \"relu_0\" : f\"quantized_relu({total_bits},{int_bits},1)\",\n",
    "            \"relu_1\" : f\"quantized_relu({total_bits},{int_bits},1)\",\n",
    "        }\n",
    "        qmodel = model_quantize(lstm, config, total_bits, transfer_weights=True)\n",
    "\n",
    "#         qmodel.summary()\n",
    "\n",
    "        for layer in qmodel.layers:\n",
    "            if hasattr(layer, \"recurrent_quantizer\"):\n",
    "                print(layer.name, \"kernel:\", str(layer.kernel_quantizer_internal), \"bias:\", str(layer.bias_quantizer_internal), \n",
    "                     \"recurrent:\", str(layer.recurrent_quantizer_internal), \"state:\", str(layer.state_quantizer_internal))\n",
    "            elif hasattr(layer, \"kernel_quantizer\"):\n",
    "                print(layer.name, \"kernel:\", str(layer.kernel_quantizer_internal), \"bias:\", str(layer.bias_quantizer_internal))\n",
    "            elif hasattr(layer, \"quantized_relu\"):\n",
    "                print(layer.name, \"quantized_relu:\", str(layer.quantizer))\n",
    "            else:\n",
    "                print(layer.name)\n",
    "                \n",
    "#         model_save_quantized_weights(qmodel, f\"ptq{i}int{j}fra_weight\")\n",
    "        y_keras = qmodel.predict(x_test, batch_size=2**10)\n",
    "        auc_score = roc_auc_score(y_test, y_keras)\n",
    "        print(\"AUC score:\", auc_score)\n",
    "        if i == 2:\n",
    "            PTQ2int.append(auc_score)\n",
    "        else:\n",
    "            PTQ4int.append(auc_score)"
   ]
  }
 ],
 "metadata": {
  "accelerator": "GPU",
  "colab": {
   "name": "Quickdraw.ipynb",
   "provenance": []
  },
  "kernelspec": {
   "display_name": "Python 3 (ipykernel)",
   "language": "python",
   "name": "python3"
  },
  "language_info": {
   "codemirror_mode": {
    "name": "ipython",
    "version": 3
   },
   "file_extension": ".py",
   "mimetype": "text/x-python",
   "name": "python",
   "nbconvert_exporter": "python",
   "pygments_lexer": "ipython3",
   "version": "3.8.13"
  }
 },
 "nbformat": 4,
 "nbformat_minor": 1
}
