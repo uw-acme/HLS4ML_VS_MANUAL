{
 "cells": [
  {
   "cell_type": "code",
   "execution_count": 2,
   "id": "c7c6a163",
   "metadata": {},
   "outputs": [
    {
     "name": "stderr",
     "output_type": "stream",
     "text": [
      "2022-09-09 22:07:09.068979: I tensorflow/core/util/util.cc:169] oneDNN custom operations are on. You may see slightly different numerical results due to floating-point round-off errors from different computation orders. To turn them off, set the environment variable `TF_ENABLE_ONEDNN_OPTS=0`.\n",
      "2022-09-09 22:07:09.299864: W tensorflow/stream_executor/platform/default/dso_loader.cc:64] Could not load dynamic library 'libcudart.so.11.0'; dlerror: libcudart.so.11.0: cannot open shared object file: No such file or directory\n",
      "2022-09-09 22:07:09.299963: I tensorflow/stream_executor/cuda/cudart_stub.cc:29] Ignore above cudart dlerror if you do not have a GPU set up on your machine.\n"
     ]
    }
   ],
   "source": [
    "import pandas as pd\n",
    "import numpy as np\n",
    "import time\n",
    "import h5py\n",
    "import tensorflow as tf\n",
    "from tensorflow.keras.layers import Input, Dense, Dropout, LSTM, Flatten, GRU,TimeDistributed, Conv1D\n",
    "from tensorflow.keras.models import Model, Sequential\n",
    "from tensorflow.keras.optimizers import Adam, SGD\n",
    "from tensorflow.keras.callbacks import ModelCheckpoint,EarlyStopping\n",
    "from sklearn.model_selection import train_test_split\n",
    "import os\n",
    "import matplotlib.pyplot as plt\n",
    "from tensorflow.keras import regularizers\n",
    "from tensorflow.keras.regularizers import l1\n",
    "import ast\n",
    "from sklearn.model_selection import RandomizedSearchCV, RepeatedStratifiedKFold\n",
    "from scipy.stats import uniform, truncnorm, randint\n",
    "from sklearn.metrics import make_scorer, accuracy_score, precision_score, recall_score\n",
    "from scipy.stats import loguniform\n",
    "# from pandas import read_csv\n",
    "from tensorflow.keras.wrappers.scikit_learn import KerasClassifier\n",
    "from datetime import datetime\n",
    "from qkeras import *\n",
    "today = datetime.date(datetime.now())"
   ]
  },
  {
   "cell_type": "code",
   "execution_count": 3,
   "id": "a752777f",
   "metadata": {},
   "outputs": [
    {
     "name": "stdout",
     "output_type": "stream",
     "text": [
      "Num GPUs Available:  0\n"
     ]
    },
    {
     "name": "stderr",
     "output_type": "stream",
     "text": [
      "2022-09-09 22:07:20.248312: W tensorflow/stream_executor/platform/default/dso_loader.cc:64] Could not load dynamic library 'libcuda.so.1'; dlerror: libcuda.so.1: cannot open shared object file: No such file or directory\n",
      "2022-09-09 22:07:20.248451: W tensorflow/stream_executor/cuda/cuda_driver.cc:269] failed call to cuInit: UNKNOWN ERROR (303)\n",
      "2022-09-09 22:07:20.248500: I tensorflow/stream_executor/cuda/cuda_diagnostics.cc:156] kernel driver does not appear to be running on this host (DESKTOP-CHSBCRQ): /proc/driver/nvidia/version does not exist\n"
     ]
    }
   ],
   "source": [
    "print(\"Num GPUs Available: \", len(tf.config.list_physical_devices('GPU')))"
   ]
  },
  {
   "cell_type": "code",
   "execution_count": 4,
   "id": "8ee52113",
   "metadata": {},
   "outputs": [
    {
     "name": "stdout",
     "output_type": "stream",
     "text": [
      "x-train-shape:  (379052, 20, 6)\n",
      "y-train-shape:  (379052, 1)\n"
     ]
    },
    {
     "data": {
      "image/png": "[encoded data removed]",
      "text/plain": [
       "<Figure size 432x288 with 1 Axes>"
      ]
     },
     "metadata": {
      "needs_background": "light"
     },
     "output_type": "display_data"
    }
   ],
   "source": [
    "x_train = np.load('./x_train.npy')\n",
    "y_train = np.load('./y_train.npy')\n",
    "\n",
    "y_train = y_train[:,4:5]\n",
    "plt.hist(y_train)\n",
    "\n",
    "print(\"x-train-shape: \", x_train.shape)\n",
    "print(\"y-train-shape: \", y_train.shape)"
   ]
  },
  {
   "cell_type": "markdown",
   "id": "38c83d7f",
   "metadata": {},
   "source": [
    "## Small GRU"
   ]
  },
  {
   "cell_type": "code",
   "execution_count": 5,
   "id": "0dd24ba5",
   "metadata": {},
   "outputs": [
    {
     "name": "stderr",
     "output_type": "stream",
     "text": [
      "2022-09-09 22:07:24.524915: I tensorflow/core/platform/cpu_feature_guard.cc:193] This TensorFlow binary is optimized with oneAPI Deep Neural Network Library (oneDNN) to use the following CPU instructions in performance-critical operations:  AVX2 AVX512F AVX512_VNNI FMA\n",
      "To enable them in other operations, rebuild TensorFlow with the appropriate compiler flags.\n"
     ]
    },
    {
     "name": "stdout",
     "output_type": "stream",
     "text": [
      "Model: \"sequential\"\n",
      "_________________________________________________________________\n",
      " Layer (type)                Output Shape              Param #   \n",
      "=================================================================\n",
      " layer1 (GRU)                (None, 5)                 195       \n",
      "                                                                 \n",
      " layer2 (Dense)              (None, 5)                 30        \n",
      "                                                                 \n",
      " output_sigmoid (Dense)      (None, 1)                 6         \n",
      "                                                                 \n",
      "=================================================================\n",
      "Total params: 231\n",
      "Trainable params: 231\n",
      "Non-trainable params: 0\n",
      "_________________________________________________________________\n"
     ]
    }
   ],
   "source": [
    "model = Sequential()\n",
    "model.add(GRU(5, kernel_initializer = 'VarianceScaling', kernel_regularizer = regularizers.l1_l2(l1= 0.00001, l2 = 0.0001),\n",
    "              name = 'layer1', input_shape = (20,6)))\n",
    "model.add(Dense(5, activation='relu', kernel_initializer='glorot_normal', name='layer2'))\n",
    "model.add(Dense(1, activation='sigmoid', name = 'output_sigmoid'))\n",
    "\n",
    "\n",
    "model.summary()"
   ]
  },
  {
   "cell_type": "markdown",
   "id": "75a6cac6",
   "metadata": {},
   "source": [
    "## GRU"
   ]
  },
  {
   "cell_type": "code",
   "execution_count": 6,
   "id": "08e2104a",
   "metadata": {},
   "outputs": [
    {
     "name": "stdout",
     "output_type": "stream",
     "text": [
      "Model: \"sequential_1\"\n",
      "_________________________________________________________________\n",
      " Layer (type)                Output Shape              Param #   \n",
      "=================================================================\n",
      " layer1 (GRU)                (None, 20)                1680      \n",
      "                                                                 \n",
      " layer3 (Dense)              (None, 64)                1344      \n",
      "                                                                 \n",
      " output_sigmoid (Dense)      (None, 1)                 65        \n",
      "                                                                 \n",
      "=================================================================\n",
      "Total params: 3,089\n",
      "Trainable params: 3,089\n",
      "Non-trainable params: 0\n",
      "_________________________________________________________________\n"
     ]
    }
   ],
   "source": [
    "model = Sequential()\n",
    "model.add(GRU(20, kernel_initializer = 'VarianceScaling', kernel_regularizer = regularizers.l1_l2(l1= 0.00001, l2 = 0.0001), \n",
    "              name = 'layer1', input_shape = (20,6)))\n",
    "model.add(Dense(64, activation='relu', kernel_initializer='glorot_normal', name='layer3')) \n",
    "model.add(Dense(1, activation='sigmoid', name = 'output_sigmoid'))\n",
    "\n",
    "\n",
    "model.summary()"
   ]
  },
  {
   "cell_type": "markdown",
   "id": "08136534",
   "metadata": {},
   "source": [
    "## LSTM"
   ]
  },
  {
   "cell_type": "code",
   "execution_count": 7,
   "id": "1d2a5b20",
   "metadata": {},
   "outputs": [
    {
     "name": "stdout",
     "output_type": "stream",
     "text": [
      "Model: \"sequential_2\"\n",
      "_________________________________________________________________\n",
      " Layer (type)                Output Shape              Param #   \n",
      "=================================================================\n",
      " layer1 (LSTM)               (None, 20)                2160      \n",
      "                                                                 \n",
      " layer3 (Dense)              (None, 64)                1344      \n",
      "                                                                 \n",
      " output_sigmoid (Dense)      (None, 1)                 65        \n",
      "                                                                 \n",
      "=================================================================\n",
      "Total params: 3,569\n",
      "Trainable params: 3,569\n",
      "Non-trainable params: 0\n",
      "_________________________________________________________________\n"
     ]
    }
   ],
   "source": [
    "model = Sequential()\n",
    "model.add(LSTM(20, kernel_initializer = 'VarianceScaling', kernel_regularizer = regularizers.l1_l2(l1= 0.00001, l2 = 0.0001),\n",
    "               name = 'layer1', input_shape = (20,6)))\n",
    "model.add(Dense(64, activation='relu', kernel_initializer='glorot_normal', name='layer3'))\n",
    "model.add(Dense(1, activation='sigmoid', name = 'output_sigmoid'))\n",
    "\n",
    "model.summary()"
   ]
  },
  {
   "cell_type": "markdown",
   "id": "2bda24be",
   "metadata": {},
   "source": [
    "## Training"
   ]
  },
  {
   "cell_type": "code",
   "execution_count": null,
   "id": "8c0079ba",
   "metadata": {},
   "outputs": [
    {
     "name": "stderr",
     "output_type": "stream",
     "text": [
      "/home/yihuic/miniconda3/envs/hls4ml-tutorial/lib/python3.7/site-packages/keras/optimizers/optimizer_v2/adam.py:110: UserWarning: The `lr` argument is deprecated, use `learning_rate` instead.\n",
      "  super(Adam, self).__init__(name, **kwargs)\n"
     ]
    },
    {
     "name": "stdout",
     "output_type": "stream",
     "text": [
      "Epoch 1/150\n",
      "1185/1185 [==============================] - ETA: 0s - loss: 0.4222 - accuracy: 0.8179\n",
      "Epoch 1: val_loss improved from inf to 0.39921, saving model to lstm/model_toptag_lstm.h5\n",
      "1185/1185 [==============================] - 27s 20ms/step - loss: 0.4222 - accuracy: 0.8179 - val_loss: 0.3992 - val_accuracy: 0.8372\n",
      "Epoch 2/150\n",
      "1182/1185 [============================>.] - ETA: 0s - loss: 0.3764 - accuracy: 0.8450\n",
      "Epoch 2: val_loss improved from 0.39921 to 0.38278, saving model to lstm/model_toptag_lstm.h5\n",
      "1185/1185 [==============================] - 22s 19ms/step - loss: 0.3764 - accuracy: 0.8450 - val_loss: 0.3828 - val_accuracy: 0.8416\n",
      "Epoch 3/150\n",
      "1184/1185 [============================>.] - ETA: 0s - loss: 0.3672 - accuracy: 0.8484\n",
      "Epoch 3: val_loss improved from 0.38278 to 0.35878, saving model to lstm/model_toptag_lstm.h5\n",
      "1185/1185 [==============================] - 23s 19ms/step - loss: 0.3672 - accuracy: 0.8484 - val_loss: 0.3588 - val_accuracy: 0.8517\n",
      "Epoch 4/150\n",
      "1183/1185 [============================>.] - ETA: 0s - loss: 0.3631 - accuracy: 0.8500\n",
      "Epoch 4: val_loss improved from 0.35878 to 0.35862, saving model to lstm/model_toptag_lstm.h5\n",
      "1185/1185 [==============================] - 23s 19ms/step - loss: 0.3629 - accuracy: 0.8500 - val_loss: 0.3586 - val_accuracy: 0.8526\n",
      "Epoch 5/150\n",
      "1184/1185 [============================>.] - ETA: 0s - loss: 0.3611 - accuracy: 0.8505\n",
      "Epoch 5: val_loss improved from 0.35862 to 0.35414, saving model to lstm/model_toptag_lstm.h5\n",
      "1185/1185 [==============================] - 23s 20ms/step - loss: 0.3611 - accuracy: 0.8505 - val_loss: 0.3541 - val_accuracy: 0.8539\n",
      "Epoch 6/150\n",
      "  30/1185 [..............................] - ETA: 19s - loss: 0.3523 - accuracy: 0.8509"
     ]
    }
   ],
   "source": [
    "es = EarlyStopping(monitor='val_loss',min_delta = 1e-4, mode='min', verbose=1, patience=10)\n",
    "adam = Adam(lr = 0.0002)\n",
    "    \n",
    "model.compile(optimizer='adam', loss='binary_crossentropy', metrics=['accuracy'])\n",
    "history = model.fit(x_train.astype('float32'), y_train.astype('float32'), \n",
    "                    batch_size = 256,\n",
    "                    epochs = 150, \n",
    "                    validation_split = 0.2, \n",
    "                    shuffle = True,\n",
    "                    callbacks = [ModelCheckpoint(f'lstm/model_toptag_lstm.h5', verbose=1, save_best_only=True), es],\n",
    "                    use_multiprocessing=True, workers=4)"
   ]
  },
  {
   "cell_type": "code",
   "execution_count": null,
   "id": "dcc41af8",
   "metadata": {},
   "outputs": [],
   "source": [
    "print(history.history.keys())\n",
    "\n",
    "# summarize history for loss\n",
    "plt.plot(history.history['loss'])\n",
    "plt.plot(history.history['val_loss'])\n",
    "plt.title('model loss')\n",
    "plt.ylabel('loss')\n",
    "plt.xlabel('epoch')\n",
    "plt.legend(['train', 'test'], loc='upper left')\n",
    "plt.savefig('training_plot_loss.png')\n",
    "plt.show()\n",
    "\n",
    "\n",
    "# summarize history for accuracy\n",
    "plt.plot(history.history['accuracy'])\n",
    "plt.plot(history.history['val_accuracy'])\n",
    "plt.title('model accuracy')\n",
    "plt.ylabel('accuracy')\n",
    "plt.xlabel('epoch')\n",
    "plt.legend(['train', 'test'], loc='upper left')\n",
    "plt.savefig('training_plot_accuracy.png')\n",
    "plt.show()"
   ]
  },
  {
   "cell_type": "markdown",
   "id": "d2a0189c",
   "metadata": {},
   "source": [
    "## Check Performance"
   ]
  },
  {
   "cell_type": "code",
   "execution_count": 8,
   "id": "b2b18363",
   "metadata": {},
   "outputs": [
    {
     "data": {
      "text/plain": [
       "(array([10044.,     0.,     0.,     0.,     0.,     0.,     0.,     0.,\n",
       "            0.,  9907.]),\n",
       " array([0. , 0.1, 0.2, 0.3, 0.4, 0.5, 0.6, 0.7, 0.8, 0.9, 1. ]),\n",
       " <BarContainer object of 10 artists>)"
      ]
     },
     "execution_count": 8,
     "metadata": {},
     "output_type": "execute_result"
    },
    {
     "data": {
      "image/png": "[encoded data removed]",
      "text/plain": [
       "<Figure size 432x288 with 1 Axes>"
      ]
     },
     "metadata": {
      "needs_background": "light"
     },
     "output_type": "display_data"
    }
   ],
   "source": [
    "x_test = np.load('./x_test.npy')\n",
    "y_test = np.load('./y_test.npy')\n",
    "\n",
    "plt.hist(y_test)"
   ]
  },
  {
   "cell_type": "code",
   "execution_count": null,
   "id": "72b1ac45",
   "metadata": {},
   "outputs": [],
   "source": [
    "from sklearn.metrics import roc_auc_score\n",
    "\n",
    "labels = ['j_t']\n",
    "y_keras = qgru_model.predict(x_test)\n",
    "auc_score = roc_auc_score(y_test, y_keras)\n",
    "print(\"AUC score:\", auc_score)"
   ]
  }
 ],
 "metadata": {
  "kernelspec": {
   "display_name": "Python 3",
   "language": "python",
   "name": "python3"
  },
  "language_info": {
   "codemirror_mode": {
    "name": "ipython",
    "version": 3
   },
   "file_extension": ".py",
   "mimetype": "text/x-python",
   "name": "python",
   "nbconvert_exporter": "python",
   "pygments_lexer": "ipython3",
   "version": "3.7.12"
  }
 },
 "nbformat": 4,
 "nbformat_minor": 5
}
