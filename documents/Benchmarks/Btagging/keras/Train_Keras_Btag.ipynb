{
 "cells": [
  {
   "cell_type": "code",
   "execution_count": 1,
   "id": "a370fc40",
   "metadata": {},
   "outputs": [
    {
     "name": "stderr",
     "output_type": "stream",
     "text": [
      "2022-09-11 22:10:01.191689: I tensorflow/core/util/util.cc:169] oneDNN custom operations are on. You may see slightly different numerical results due to floating-point round-off errors from different computation orders. To turn them off, set the environment variable `TF_ENABLE_ONEDNN_OPTS=0`.\n",
      "2022-09-11 22:10:01.283013: W tensorflow/stream_executor/platform/default/dso_loader.cc:64] Could not load dynamic library 'libcudart.so.11.0'; dlerror: libcudart.so.11.0: cannot open shared object file: No such file or directory\n",
      "2022-09-11 22:10:01.283182: I tensorflow/stream_executor/cuda/cudart_stub.cc:29] Ignore above cudart dlerror if you do not have a GPU set up on your machine.\n"
     ]
    }
   ],
   "source": [
    "import numpy as np\n",
    "import matplotlib.pyplot as plt\n",
    "import h5py\n",
    "from tensorflow.keras.utils import to_categorical\n",
    "from sklearn.preprocessing import LabelEncoder\n",
    "from tensorflow.keras.callbacks import EarlyStopping, ModelCheckpoint\n",
    "from sklearn.metrics import roc_auc_score\n",
    "from tensorflow.keras.layers import Dense, Activation, BatchNormalization, LSTM, Masking, Input, GRU, Flatten\n",
    "from tensorflow.keras.models import Model\n",
    "from tensorflow.keras.optimizers import Adam\n",
    "from tensorflow.keras.regularizers import l1\n",
    "from tensorflow.keras import regularizers\n",
    "from sklearn.utils import shuffle"
   ]
  },
  {
   "cell_type": "code",
   "execution_count": 2,
   "id": "cbccb480",
   "metadata": {},
   "outputs": [],
   "source": [
    "file_path = \"./Jan06_FlavFix_smear_1_std_xtd_zst.h5\"\n",
    "f5 = h5py.File(file_path, 'r')"
   ]
  },
  {
   "cell_type": "code",
   "execution_count": 3,
   "id": "234ac886",
   "metadata": {},
   "outputs": [],
   "source": [
    "x_train = np.array( f5['x_train'] )\n",
    "y_train = to_categorical ( np.array( f5['y_train'] ) )\n",
    "w_train = np.array( f5['w_train'] )"
   ]
  },
  {
   "cell_type": "code",
   "execution_count": 4,
   "id": "bb426cb4",
   "metadata": {},
   "outputs": [
    {
     "data": {
      "text/plain": [
       "(array([[400610.,      0.,      0.,      0.,      0.,      0.,      0.,\n",
       "              0.,      0., 300906.],\n",
       "        [601755.,      0.,      0.,      0.,      0.,      0.,      0.,\n",
       "              0.,      0.,  99761.],\n",
       "        [400667.,      0.,      0.,      0.,      0.,      0.,      0.,\n",
       "              0.,      0., 300849.]]),\n",
       " array([0. , 0.1, 0.2, 0.3, 0.4, 0.5, 0.6, 0.7, 0.8, 0.9, 1. ],\n",
       "       dtype=float32),\n",
       " <a list of 3 BarContainer objects>)"
      ]
     },
     "execution_count": 4,
     "metadata": {},
     "output_type": "execute_result"
    },
    {
     "data": {
      "image/png": "[encoded data removed]",
      "text/plain": [
       "<Figure size 432x288 with 1 Axes>"
      ]
     },
     "metadata": {
      "needs_background": "light"
     },
     "output_type": "display_data"
    }
   ],
   "source": [
    "plt.hist(y_train[:])"
   ]
  },
  {
   "cell_type": "markdown",
   "id": "6a7d05d3",
   "metadata": {},
   "source": [
    "### Shuffle training data"
   ]
  },
  {
   "cell_type": "code",
   "execution_count": 5,
   "id": "4e5f43e7",
   "metadata": {},
   "outputs": [],
   "source": [
    "x_train, y_train, w_train = shuffle(x_train, y_train, w_train)"
   ]
  },
  {
   "cell_type": "code",
   "execution_count": 6,
   "id": "863690c4",
   "metadata": {},
   "outputs": [
    {
     "name": "stdout",
     "output_type": "stream",
     "text": [
      "x-shape:  (701516, 15, 6)\n",
      "y-shape:  (701516, 3)\n",
      "w-shape:  (701516,)\n"
     ]
    }
   ],
   "source": [
    "print(\"x-shape: \", x_train.shape)\n",
    "print(\"y-shape: \", y_train.shape)\n",
    "print(\"w-shape: \", w_train.shape)"
   ]
  },
  {
   "cell_type": "markdown",
   "id": "309eb712",
   "metadata": {},
   "source": [
    "### GRU"
   ]
  },
  {
   "cell_type": "code",
   "execution_count": null,
   "id": "d9030833",
   "metadata": {},
   "outputs": [],
   "source": [
    "def grumodel(max_len, n_var, rec_units, ndense=[10], l1_reg=0,\n",
    "              l2_reg=0, rec_act='sigmoid', extra_lab='none', rec_kernel_init='VarianceScaling',\n",
    "             dense_kernel_init='lecun_uniform', domask=False):\n",
    "    \n",
    "    rec_layer = 'GRU'\n",
    "    \n",
    "    track_inputs = Input(shape=(max_len, n_var,))\n",
    "    \n",
    "    if domask:\n",
    "        hidden = Masking( mask_value=0, name=\"masking_1\")(track_inputs)\n",
    "    else:\n",
    "        hidden = track_inputs\n",
    "    \n",
    "\n",
    "    if l1_reg > 1e-6 and l2_reg > 1e-6:\n",
    "        hidden = GRU(units=rec_units,\n",
    "                  kernel_initializer = rec_kernel_init, \n",
    "                  kernel_regularizer = regularizers.l1_l2(l1 = l1_reg, l2 = l2_reg),\n",
    "                  name = 'gru_l1l2')(hidden)\n",
    "    elif l1_reg > 1e-6:\n",
    "        hidden = GRU(units=rec_units,\n",
    "                  recurrent_activation = rec_act,\n",
    "                  kernel_initializer = rec_kernel_init, \n",
    "                  kernel_regularizer = regularizers.l1(l1 = l1_reg),\n",
    "                  name = 'gru_l1')(hidden)\n",
    "    elif l2_reg > 1e-6:\n",
    "        hidden = GRU(units=rec_units,\n",
    "                  recurrent_activation = rec_act,\n",
    "                  kernel_initializer = rec_kernel_init, \n",
    "                  kernel_regularizer = regularizers.l2(l2 = l2_reg),\n",
    "                  name = 'gru_l2')(hidden)\n",
    "    else:\n",
    "        hidden = GRU(units=rec_units,\n",
    "                  recurrent_activation = rec_act,\n",
    "                  kernel_initializer = rec_kernel_init, \n",
    "                  name = 'gru')(hidden)\n",
    "            \n",
    "\n",
    "    for ind,nd in enumerate(ndense):\n",
    "        hidden = Dense(nd, activation='relu', kernel_initializer=dense_kernel_init, name=f'dense_{ind}' )(hidden)\n",
    "    \n",
    "    output = Dense(3, activation='softmax', kernel_initializer=dense_kernel_init, name = 'output_softmax')(hidden)\n",
    "    \n",
    "    model = Model(inputs=track_inputs, outputs=output)\n",
    "    \n",
    "    d_layers = ''.join([ str(dl) for dl in ndense ])\n",
    "        \n",
    "    if domask:\n",
    "        mname  = f'MASKED_rnn_{rec_layer}.{rec_units}_Dense.{d_layers}_'\n",
    "    else:\n",
    "        mname  = f'rnn_{rec_layer}.{rec_units}_Dense.{d_layers}_'\n",
    "    mname += f'LSTMKernelInit.{rec_kernel_init}_DenseKernelInit.{dense_kernel_init}'\n",
    "    mname += f'KRl1.{l1_reg}_KRl2.{l2_reg}_recAct.{rec_act}' #LSTM kernel regularizer\n",
    "    \n",
    "    if 'none' not in extra_lab:\n",
    "        mname += f'_{extra_lab}'\n",
    "    \n",
    "    return model, mname\n",
    "\n",
    "#     mask = Masking( mask_value=0, name=\"masking_1\")(track_inputs)\n",
    "##########################################\n",
    "#                   use_bias=False,\n",
    "#                   activation='relu',\n",
    "#                   recurrent_activation='relu',\n",
    "#                   kernel_regularizer = regularizers.l1_l2(l1= 0.001, l2 = 0.0001), \n",
    "#                   bias_regularizer = regularizers.l1_l2(l1= 1, l2 = 1), \n",
    "#                   activity_regularizer=regularizers.l1_l2(l1= 0.001, l2 = 0.0001),\n",
    "##########################################"
   ]
  },
  {
   "cell_type": "markdown",
   "id": "0e80c9e1",
   "metadata": {},
   "source": [
    "### LSTM"
   ]
  },
  {
   "cell_type": "code",
   "execution_count": null,
   "id": "8deeac9f",
   "metadata": {},
   "outputs": [],
   "source": [
    "def lstmmodel(max_len, n_var, rec_units, ndense=[10], l1_reg=0,\n",
    "              l2_reg=0, rec_act='sigmoid', extra_lab='none', rec_kernel_init='VarianceScaling',\n",
    "             dense_kernel_init='lecun_uniform', domask=False):\n",
    "    \n",
    "    rec_layer = 'LSTM'\n",
    "    \n",
    "    track_inputs = Input(shape=(max_len, n_var,))\n",
    "    \n",
    "    if domask:\n",
    "        hidden = Masking( mask_value=0, name=\"masking_1\")(track_inputs)\n",
    "    else:\n",
    "        hidden = track_inputs\n",
    "    \n",
    "    if l1_reg > 1e-6 and l2_reg > 1e-6:\n",
    "        hidden = LSTM(units=rec_units,\n",
    "                  recurrent_activation = rec_act,\n",
    "                  kernel_initializer = rec_kernel_init, \n",
    "                  kernel_regularizer = regularizers.l1_l2(l1 = l1_reg, l2 = l2_reg),\n",
    "                  name = 'lstm1_l1l2')(hidden)\n",
    "    elif l1_reg > 1e-6:\n",
    "        hidden = LSTM(units=rec_units,\n",
    "                  recurrent_activation = rec_act,\n",
    "                  kernel_initializer = rec_kernel_init, \n",
    "                  kernel_regularizer = regularizers.l1(l1 = l1_reg),\n",
    "                  name = 'lstm1_l1')(hidden)\n",
    "    elif l2_reg > 1e-6:\n",
    "        hidden = LSTM(units=rec_units,\n",
    "                  recurrent_activation = rec_act,\n",
    "                  kernel_initializer = rec_kernel_init, \n",
    "                  kernel_regularizer = regularizers.l2(l2 = l2_reg),\n",
    "                  name = 'lstm1_l2')(hidden)\n",
    "    else:\n",
    "        hidden = LSTM(units=rec_units,\n",
    "                  recurrent_activation = rec_act,\n",
    "                  kernel_initializer = rec_kernel_init, \n",
    "                  name = 'lstm1')(hidden)\n",
    "\n",
    "    for ind,nd in enumerate(ndense):\n",
    "        hidden = Dense(nd, activation='relu', kernel_initializer=dense_kernel_init, name=f'dense_{ind}' )(hidden)\n",
    "    \n",
    "    output = Dense(3, activation='softmax', kernel_initializer=dense_kernel_init, name = 'output_softmax')(hidden)\n",
    "    \n",
    "    model = Model(inputs=track_inputs, outputs=output)\n",
    "    \n",
    "    d_layers = ''.join([ str(dl) for dl in ndense ])\n",
    "        \n",
    "    if domask:\n",
    "        mname  = f'MASKED_rnn_{rec_layer}.{rec_units}_Dense.{d_layers}_'\n",
    "    else:\n",
    "        mname  = f'rnn_{rec_layer}.{rec_units}_Dense.{d_layers}_'\n",
    "    mname += f'LSTMKernelInit.{rec_kernel_init}_DenseKernelInit.{dense_kernel_init}'\n",
    "    mname += f'KRl1.{l1_reg}_KRl2.{l2_reg}_recAct.{rec_act}' #LSTM kernel regularizer\n",
    "    \n",
    "    if 'none' not in extra_lab:\n",
    "        mname += f'_{extra_lab}'\n",
    "    \n",
    "    return model, mname\n",
    "\n",
    "#     mask = Masking( mask_value=0, name=\"masking_1\")(track_inputs)\n",
    "##########################################\n",
    "#                   use_bias=False,\n",
    "#                   activation='relu',\n",
    "#                   recurrent_activation='relu',\n",
    "#                   kernel_regularizer = regularizers.l1_l2(l1= 0.001, l2 = 0.0001), \n",
    "#                   bias_regularizer = regularizers.l1_l2(l1= 1, l2 = 1), \n",
    "#                   activity_regularizer=regularizers.l1_l2(l1= 0.001, l2 = 0.0001),\n",
    "##########################################"
   ]
  },
  {
   "cell_type": "markdown",
   "id": "d4a67ab2",
   "metadata": {},
   "source": [
    "### Train Model"
   ]
  },
  {
   "cell_type": "code",
   "execution_count": null,
   "id": "4772dd30",
   "metadata": {},
   "outputs": [],
   "source": [
    "l1_reg = 0\n",
    "l2_reg = 0\n",
    "\n",
    "## GRU Model\n",
    "model, model_name = grumodel(15, 6, 120, [50, 10],l1_reg=l1_reg, l2_reg=l2_reg)\n",
    "\n",
    "## LSTM Model\n",
    "#model, model_name = lstmmodel(15, 6, 120, [50, 10],l1_reg=l1_reg, l2_reg=l2_reg)\n",
    "\n",
    "model.summary()"
   ]
  },
  {
   "cell_type": "code",
   "execution_count": null,
   "id": "f0ba9c8b",
   "metadata": {},
   "outputs": [],
   "source": [
    "adam = Adam(learning_rate=0.01)\n",
    "model.compile(optimizer=adam, loss=['categorical_crossentropy'], metrics=['accuracy'], weighted_metrics=[])\n",
    "model_output = f'small_gru/model_gru_weights.h5'\n",
    "train = True\n",
    "if train:\n",
    "    history = model.fit(new_x_train , new_y_train,\n",
    "                batch_size=2**14,\n",
    "                epochs=150,\n",
    "                validation_split=0.1,\n",
    "                shuffle = True,\n",
    "                sample_weight= w_train,\n",
    "                callbacks = [\n",
    "                    EarlyStopping(verbose=True, patience=10, monitor='val_accuracy'),\n",
    "                    ModelCheckpoint(model_output, monitor='val_accuracy', verbose=True, save_best_only=True)\n",
    "                    ],\n",
    "                verbose=True\n",
    "                )\n",
    "        \n",
    "print(history.history.keys())\n",
    "# summarize history for loss\n",
    "plt.plot(history.history['loss'])\n",
    "plt.plot(history.history['val_loss'])\n",
    "plt.title('model loss')\n",
    "plt.ylabel('loss')\n",
    "plt.xlabel('epoch')\n",
    "plt.legend(['train', 'test'], loc='upper left')\n",
    "plt.show()\n",
    "\n",
    "# summarize history for accuracy\n",
    "plt.plot(history.history['accuracy'])\n",
    "plt.plot(history.history['val_accuracy'])\n",
    "plt.title('model accuracy')\n",
    "plt.ylabel('accuracy')\n",
    "plt.xlabel('epoch')\n",
    "plt.legend(['train', 'test'], loc='upper left')\n",
    "plt.show()"
   ]
  },
  {
   "cell_type": "markdown",
   "id": "04a03ac3",
   "metadata": {},
   "source": [
    "### Check Performance"
   ]
  },
  {
   "cell_type": "code",
   "execution_count": null,
   "id": "2fad16be",
   "metadata": {},
   "outputs": [],
   "source": [
    "x_test = np.array( f5['x_test'] )\n",
    "y_test = to_categorical ( np.array( f5['y_test'] ) )"
   ]
  },
  {
   "cell_type": "code",
   "execution_count": null,
   "id": "48306490",
   "metadata": {},
   "outputs": [],
   "source": [
    "print(\"x-shape: \", x_test.shape)\n",
    "print(\"y-shape: \", y_test.shape)\n",
    "\n",
    "plt.hist(y_test[:])"
   ]
  },
  {
   "cell_type": "code",
   "execution_count": null,
   "id": "00e03d2b",
   "metadata": {},
   "outputs": [],
   "source": [
    "y_keras = model.predict(x_test, batch_size=2**10)\n",
    "auc_score = roc_auc_score(y_test, y_keras)\n",
    "print(\"AUC score:\", auc_score)"
   ]
  }
 ],
 "metadata": {
  "kernelspec": {
   "display_name": "Python 3",
   "language": "python",
   "name": "python3"
  },
  "language_info": {
   "codemirror_mode": {
    "name": "ipython",
    "version": 3
   },
   "file_extension": ".py",
   "mimetype": "text/x-python",
   "name": "python",
   "nbconvert_exporter": "python",
   "pygments_lexer": "ipython3",
   "version": "3.7.12"
  }
 },
 "nbformat": 4,
 "nbformat_minor": 5
}
