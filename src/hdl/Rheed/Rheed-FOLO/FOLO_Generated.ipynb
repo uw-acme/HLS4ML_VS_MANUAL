{
 "cells": [
  {
   "cell_type": "code",
   "execution_count": 1,
   "metadata": {},
   "outputs": [
    {
     "name": "stderr",
     "output_type": "stream",
     "text": [
      "/Users/pujan/VirtualEnvironments/hls4ml-Env/lib/python3.9/site-packages/urllib3/__init__.py:35: NotOpenSSLWarning: urllib3 v2 only supports OpenSSL 1.1.1+, currently the 'ssl' module is compiled with 'LibreSSL 2.8.3'. See: https://github.com/urllib3/urllib3/issues/3020\n",
      "  warnings.warn(\n"
     ]
    }
   ],
   "source": [
    "# IMPORTS #\n",
    "import numpy as np\n",
    "import matplotlib.pyplot as plt\n",
    "import cv2\n",
    "from tqdm import tqdm\n",
    "from concurrent.futures import ThreadPoolExecutor, ProcessPoolExecutor, as_completed\n",
    "import tensorflow as tf\n",
    "from tensorflow.keras.layers import Input, Conv2D, ReLU, MaxPool2D, BatchNormalization, Concatenate\n",
    "from tensorflow.keras.models import Model\n"
   ]
  },
  {
   "cell_type": "code",
   "execution_count": 2,
   "metadata": {},
   "outputs": [],
   "source": [
    "# CONSTANTS #\n",
    "\n",
    "IMAGE_X = 300\n",
    "IMAGE_Y = 300\n",
    "\n",
    "GAUSSIAN_X = 48\n",
    "GAUSSIAN_Y = 48\n",
    "\n",
    "SCALE_FACTOR = 8\n",
    "\n",
    "LABEL_X = IMAGE_X // SCALE_FACTOR\n",
    "LABEL_Y = IMAGE_Y // SCALE_FACTOR\n",
    "\n",
    "# Range for Random Gen\n",
    "MIN_NUM_GAUSSIANS = 2\n",
    "MAX_NUM_GAUSSIANS = 5\n",
    "\n",
    "MIN_STD_X = 5\n",
    "MAX_STD_X = 15\n",
    "\n",
    "MIN_STD_Y = 5\n",
    "MAX_STD_Y = 15\n",
    "\n",
    "MIN_THETA = 0\n",
    "MAX_THETA = np.pi\n",
    "\n",
    "MIN_INTENSITY = 0.05\n",
    "MAX_INTENSITY = 0.7\n",
    "\n",
    "THRESHOLD = 0.5\n"
   ]
  },
  {
   "cell_type": "code",
   "execution_count": 3,
   "metadata": {},
   "outputs": [],
   "source": [
    "# Generate Gaussian Functions\n",
    "def img_gen(VERBOSE: bool = False) -> tuple:\n",
    "\n",
    "    img = np.zeros(shape=(IMAGE_Y, IMAGE_X, 1))\n",
    "    label = np.zeros(shape=(LABEL_Y, LABEL_X, 1))\n",
    "    params = []\n",
    "\n",
    "    num_gaussians = np.random.randint(low=MIN_NUM_GAUSSIANS, high=MAX_NUM_GAUSSIANS)\n",
    "    for gaussian in range(num_gaussians):\n",
    "\n",
    "        # Randomize params\n",
    "        center_x = np.random.randint(low=0 + GAUSSIAN_X // 2, high=IMAGE_X - GAUSSIAN_X // 2)\n",
    "        center_y = np.random.randint(low=0 + GAUSSIAN_Y // 2, high=IMAGE_Y - GAUSSIAN_Y // 2)\n",
    "\n",
    "        std_x = np.random.randint(low=MIN_STD_X, high=MAX_STD_X)\n",
    "        std_y = np.random.randint(low=MIN_STD_Y, high=MAX_STD_Y)\n",
    "        theta = np.random.randint(low=MIN_THETA, high=MAX_THETA)\n",
    "        \n",
    "        intensity = np.random.uniform(low=MIN_INTENSITY, high=MAX_INTENSITY)\n",
    "        \n",
    "        # Generate Gaussian\n",
    "        params.append((center_x, center_y, std_x, std_y, theta, intensity))\n",
    "        gaussian = gaussian_gen(center_x, center_y, std_x, std_y, theta)\n",
    "\n",
    "        # Add Gaussian to img\n",
    "        img += intensity * gaussian\n",
    "        # img += gaussian\n",
    "        \n",
    "        label_x = center_x // SCALE_FACTOR\n",
    "        label_y = center_y // SCALE_FACTOR\n",
    "\n",
    "        label[label_y, label_x] = 1\n",
    "\n",
    "    # Convert to 8 bit int\n",
    "    img = (img * 255).astype(np.uint8)\n",
    "\n",
    "    # DEBUG\n",
    "    if VERBOSE:\n",
    "        # print(f\"[Image Shape]: {str(img.shape)}\")\n",
    "        # print(f\"[Label Shape]: {str(label.shape)}\")\n",
    "        print(f\"[Target Gaussians #]: {str(num_gaussians)}\")\n",
    "        for param in params:\n",
    "            print(\n",
    "            f\"[(c_x, c_y)]: ({param[0]:<3}, {param[1]:<3}) \"\n",
    "            f\"[(s_x, s_y)]: ({param[2]:<3}, {param[3]:<3}) \"\n",
    "            f\"[Theta]: {param[4]:.2f} \"\n",
    "            f\"[I]: {param[5]:.2f} \"\n",
    "            )\n",
    "\n",
    "    return (img, label, params)\n",
    "\n",
    "def gaussian_gen(center_x: int, center_y: int, std_x: int, std_y: int, theta: float) -> np.ndarray:\n",
    "    X = np.arange(0, IMAGE_X, 1)\n",
    "    Y = np.arange(0, IMAGE_Y, 1)\n",
    "    X, Y = np.meshgrid(X, Y)\n",
    "\n",
    "    cos_theta_sqrd = np.pow(np.cos(theta),2)\n",
    "    sin_theta_sqrd = np.pow(np.sin(theta),2)\n",
    "    sin_cos_theta = np.sin(theta) * np.cos(theta)\n",
    "\n",
    "    std_x_sqrd = np.pow(std_x, 2)\n",
    "    std_y_sqrd = np.pow(std_y, 2)\n",
    "\n",
    "    a = (cos_theta_sqrd) / (2 * std_x_sqrd) + (sin_theta_sqrd) / (2 * std_y_sqrd)\n",
    "    b = -1 * (sin_cos_theta) / (2 * std_x_sqrd) + (sin_cos_theta) / (2 * std_y_sqrd)\n",
    "    c = (sin_theta_sqrd) / (2 * std_x_sqrd) + (cos_theta_sqrd) / (2 * std_y_sqrd)\n",
    "\n",
    "    gaussian = np.exp(-(a * (X - center_x)**2 + 2*b * (X - center_x) * (Y - center_y) + c * (Y - center_y)**2))\n",
    "\n",
    "    return np.expand_dims(gaussian, -1)\n",
    "\n",
    "def img_visualization_one(img: np.ndarray, label: np.ndarray, params: list = None, threshold: int = THRESHOLD) -> None:\n",
    "    rgb_image = cv2.cvtColor(img, cv2.COLOR_GRAY2BGR)\n",
    "\n",
    "    # Coords of Gaussians:\n",
    "    for x in range(LABEL_X):\n",
    "        for y in range(LABEL_Y):\n",
    "            if label[y, x,] >= threshold:\n",
    "                \n",
    "                top_left = (x * SCALE_FACTOR - GAUSSIAN_X // 2, y * SCALE_FACTOR - GAUSSIAN_Y // 2)\n",
    "                bottom_right = (x * SCALE_FACTOR + GAUSSIAN_X // 2, y * SCALE_FACTOR + GAUSSIAN_Y // 2)\n",
    "                color = (0, 200, 200)\n",
    "                thickness = 2\n",
    "                \n",
    "                cv2.rectangle(rgb_image, top_left, bottom_right, color, thickness)\n",
    "\n",
    "    if params != None:\n",
    "        for param in params:\n",
    "            print(\n",
    "            f\"[(c_x, c_y)]: ({param[0]:<3}, {param[1]:<3}) \"\n",
    "            f\"[(s_x, s_y)]: ({param[2]:<3}, {param[3]:<3}) \"\n",
    "            f\"[Theta]: {param[4]:.2f} \"\n",
    "            f\"[I]: {param[5]:.2f} \"\n",
    "            )\n",
    "    \n",
    "    plt.imshow(rgb_image)\n",
    "\n",
    "def img_visualization_two(img: np.ndarray, label: np.ndarray, params: list = None) -> None:\n",
    "    \n",
    "    if params != None:\n",
    "        for param in params:\n",
    "            print(\n",
    "            f\"[(c_x, c_y)]: ({param[0]:<3}, {param[1]:<3}) \"\n",
    "            f\"[(s_x, s_y)]: ({param[2]:<3}, {param[3]:<3}) \"\n",
    "            f\"[Theta]: {param[4]:.2f} \"\n",
    "            f\"[I]: {param[5]:.2f} \"\n",
    "            )\n",
    "\n",
    "    plt.subplot(1, 2, 1)\n",
    "    plt.imshow(img, cmap='gray')\n",
    "    \n",
    "    plt.subplot(1, 2, 2)\n",
    "    plt.imshow(label, cmap='gray')\n"
   ]
  },
  {
   "cell_type": "code",
   "execution_count": 6,
   "metadata": {},
   "outputs": [
    {
     "name": "stdout",
     "output_type": "stream",
     "text": [
      "[(c_x, c_y)]: (267, 34 ) [(s_x, s_y)]: (6  , 10 ) [Theta]: 2.00 [I]: 0.36 \n",
      "[(c_x, c_y)]: (251, 171) [(s_x, s_y)]: (11 , 14 ) [Theta]: 1.00 [I]: 0.46 \n",
      "[(c_x, c_y)]: (32 , 202) [(s_x, s_y)]: (7  , 13 ) [Theta]: 2.00 [I]: 0.56 \n"
     ]
    },
    {
     "data": {
      "image/png": "[encoded data removed]",
      "text/plain": [
       "<Figure size 640x480 with 2 Axes>"
      ]
     },
     "metadata": {},
     "output_type": "display_data"
    }
   ],
   "source": [
    "# Test Functions: \n",
    "img, label, params = img_gen()\n",
    "img_visualization_two(img, label, params)\n",
    "# img_visualization_two(img, label, params)"
   ]
  },
  {
   "cell_type": "code",
   "execution_count": 7,
   "metadata": {},
   "outputs": [
    {
     "name": "stderr",
     "output_type": "stream",
     "text": [
      "100%|██████████| 10000/10000 [00:13<00:00, 760.95it/s]\n"
     ]
    },
    {
     "name": "stdout",
     "output_type": "stream",
     "text": [
      "[Images Shape]: (10000, 300, 300, 1)\n",
      "[Labels Shape]: (10000, 37, 37, 1)\n"
     ]
    }
   ],
   "source": [
    "# Generate Training Data\n",
    "SAMPLE_COUNT = 10000\n",
    "img_arr = []\n",
    "label_arr = []\n",
    "\n",
    "def process_image():\n",
    "    img, label, _ = img_gen()\n",
    "    return img, label\n",
    "\n",
    "img_arr = []\n",
    "label_arr = []\n",
    "with ThreadPoolExecutor() as executor:\n",
    "    futures = [executor.submit(process_image) for _ in range(SAMPLE_COUNT)]\n",
    "    for future in tqdm(as_completed(futures), total=SAMPLE_COUNT):\n",
    "        img, label = future.result()\n",
    "        img_arr.append(np.round(img.astype(np.float32) / (np.max(img.astype(np.float32)) + 1) * 256) / 256) # Normalize values to [0, 1)\n",
    "        label_arr.append(label)\n",
    "\n",
    "img_arr = np.array(img_arr).astype(np.float32)\n",
    "label_arr = np.array(label_arr).astype(np.float32)\n",
    "\n",
    "print(f'[Images Shape]: {img_arr.shape}')\n",
    "print(f'[Labels Shape]: {label_arr.shape}')"
   ]
  },
  {
   "cell_type": "code",
   "execution_count": 11,
   "metadata": {},
   "outputs": [],
   "source": [
    "# Convert Data to tf DataSet \n",
    "BATCH_SIZE = 32\n",
    "\n",
    "dataset = tf.data.Dataset.from_tensor_slices((img_arr, label_arr))\n",
    "dataset = dataset.shuffle(SAMPLE_COUNT, reshuffle_each_iteration=True)\n",
    "dataset = dataset.batch(BATCH_SIZE)"
   ]
  },
  {
   "cell_type": "code",
   "execution_count": 12,
   "metadata": {},
   "outputs": [],
   "source": [
    "# Model Architecture (INCREASE FILTER SIZE? 16, 32, 64)\n",
    "input_layer = Input(shape=(IMAGE_X, IMAGE_Y, 1), name='InputLayer')\n",
    "\n",
    "x = Conv2D(filters=16, kernel_size=3, strides=1, padding='same', kernel_initializer='lecun_uniform')(input_layer)\n",
    "x = BatchNormalization(axis=-1, momentum=0.1, epsilon=1e-05)(x)\n",
    "x = ReLU()(x)\n",
    "x = MaxPool2D(pool_size=2)(x)\n",
    "\n",
    "x = Conv2D(filters=16, kernel_size=3, strides=1, padding='same', kernel_initializer='lecun_uniform')(x)\n",
    "x = BatchNormalization(axis=-1, momentum=0.1, epsilon=1e-05)(x)\n",
    "x = ReLU()(x)\n",
    "x = MaxPool2D(pool_size=2)(x)\n",
    "\n",
    "x = Conv2D(filters=16, kernel_size=3, strides=1, padding='same', kernel_initializer='lecun_uniform')(x)\n",
    "x = BatchNormalization(axis=-1, momentum=0.1, epsilon=1e-05)(x)\n",
    "x = ReLU()(x)\n",
    "x = MaxPool2D(pool_size=2)(x)\n",
    "\n",
    "x_prob = Conv2D(1, kernel_size=3, padding='same', name='x_prob', activation='sigmoid', kernel_initializer='lecun_uniform')(x)\n",
    "\n",
    "baby_yolo = Model(inputs=input_layer, outputs=x_prob, name='baby_yolo')"
   ]
  },
  {
   "cell_type": "code",
   "execution_count": 13,
   "metadata": {},
   "outputs": [],
   "source": [
    "# Tensorflow Functions\n",
    "bce = tf.keras.losses.BinaryCrossentropy()\n",
    "\n",
    "# def masked_loss(y_true, y_pred):\n",
    "#     \"\"\"\n",
    "#     Compute loss only at locations where y_true == 1.\n",
    "    \n",
    "#     Args:\n",
    "#         y_true: Ground truth labels, shape (batch_size, ...).\n",
    "#         y_pred: Predicted probabilities, shape (batch_size, ...).\n",
    "    \n",
    "#     Returns:\n",
    "#         Tensor representing the masked loss.\n",
    "#     \"\"\"\n",
    "#     # Clip predictions to avoid log(0) errors\n",
    "#     y_pred = tf.clip_by_value(y_pred, 1e-7, 1.0 - 1e-7)\n",
    "    \n",
    "#     # Create a mask for locations where y_true == 1\n",
    "#     mask = tf.cast(tf.equal(y_true, 1), tf.float32)\n",
    "    \n",
    "#     # Compute binary cross-entropy loss\n",
    "#     bce = - (y_true * tf.math.log(y_pred) + (1 - y_true) * tf.math.log(1 - y_pred))\n",
    "    \n",
    "#     # Apply the mask to focus only on locations where y_true == 1\n",
    "#     masked_loss = mask * bce\n",
    "    \n",
    "#     # Compute the mean loss over the masked locations\n",
    "#     return tf.reduce_sum(masked_loss) / tf.reduce_sum(mask)\n",
    "\n",
    "def loss_p(y_true, y_pred):\n",
    "    loss = tf.losses.binary_crossentropy(y_true, y_pred)\n",
    "    return tf.reduce_sum(loss)\n",
    "    "
   ]
  },
  {
   "cell_type": "code",
   "execution_count": 14,
   "metadata": {},
   "outputs": [
    {
     "name": "stderr",
     "output_type": "stream",
     "text": [
      "100%|██████████| 313/313 [01:52<00:00,  3.08it/s]2025-10-23 01:50:51.165344: I tensorflow/core/framework/local_rendezvous.cc:407] Local rendezvous is aborting with status: OUT_OF_RANGE: End of sequence\n",
      "100%|██████████| 313/313 [01:52<00:00,  2.78it/s]\n"
     ]
    },
    {
     "name": "stdout",
     "output_type": "stream",
     "text": [
      "Epoch [1/20], Loss: 2489.365234375\n"
     ]
    },
    {
     "name": "stderr",
     "output_type": "stream",
     "text": [
      "100%|██████████| 313/313 [01:48<00:00,  3.02it/s]2025-10-23 01:52:39.919689: I tensorflow/core/framework/local_rendezvous.cc:407] Local rendezvous is aborting with status: OUT_OF_RANGE: End of sequence\n",
      "100%|██████████| 313/313 [01:48<00:00,  2.88it/s]\n"
     ]
    },
    {
     "name": "stdout",
     "output_type": "stream",
     "text": [
      "Epoch [2/20], Loss: 238.32260131835938\n"
     ]
    },
    {
     "name": "stderr",
     "output_type": "stream",
     "text": [
      "100%|██████████| 313/313 [01:47<00:00,  2.91it/s]\n"
     ]
    },
    {
     "name": "stdout",
     "output_type": "stream",
     "text": [
      "Epoch [3/20], Loss: 123.76689910888672\n"
     ]
    },
    {
     "name": "stderr",
     "output_type": "stream",
     "text": [
      "100%|██████████| 313/313 [01:49<00:00,  2.90it/s]2025-10-23 01:56:16.800059: I tensorflow/core/framework/local_rendezvous.cc:407] Local rendezvous is aborting with status: OUT_OF_RANGE: End of sequence\n",
      "100%|██████████| 313/313 [01:49<00:00,  2.86it/s]\n"
     ]
    },
    {
     "name": "stdout",
     "output_type": "stream",
     "text": [
      "Epoch [4/20], Loss: 116.6925048828125\n"
     ]
    },
    {
     "name": "stderr",
     "output_type": "stream",
     "text": [
      "100%|██████████| 313/313 [01:47<00:00,  2.91it/s]\n"
     ]
    },
    {
     "name": "stdout",
     "output_type": "stream",
     "text": [
      "Epoch [5/20], Loss: 111.8963394165039\n"
     ]
    },
    {
     "name": "stderr",
     "output_type": "stream",
     "text": [
      "100%|██████████| 313/313 [01:48<00:00,  2.89it/s]\n"
     ]
    },
    {
     "name": "stdout",
     "output_type": "stream",
     "text": [
      "Epoch [6/20], Loss: 107.94733428955078\n"
     ]
    },
    {
     "name": "stderr",
     "output_type": "stream",
     "text": [
      "100%|██████████| 313/313 [01:48<00:00,  2.88it/s]\n"
     ]
    },
    {
     "name": "stdout",
     "output_type": "stream",
     "text": [
      "Epoch [7/20], Loss: 104.8538818359375\n"
     ]
    },
    {
     "name": "stderr",
     "output_type": "stream",
     "text": [
      "100%|██████████| 313/313 [01:50<00:00,  2.75it/s]2025-10-23 02:03:31.691578: I tensorflow/core/framework/local_rendezvous.cc:407] Local rendezvous is aborting with status: OUT_OF_RANGE: End of sequence\n",
      "100%|██████████| 313/313 [01:50<00:00,  2.83it/s]\n"
     ]
    },
    {
     "name": "stdout",
     "output_type": "stream",
     "text": [
      "Epoch [8/20], Loss: 102.11518096923828\n"
     ]
    },
    {
     "name": "stderr",
     "output_type": "stream",
     "text": [
      "100%|██████████| 313/313 [01:48<00:00,  2.89it/s]\n"
     ]
    },
    {
     "name": "stdout",
     "output_type": "stream",
     "text": [
      "Epoch [9/20], Loss: 99.43621826171875\n"
     ]
    },
    {
     "name": "stderr",
     "output_type": "stream",
     "text": [
      "100%|██████████| 313/313 [01:47<00:00,  2.91it/s]\n"
     ]
    },
    {
     "name": "stdout",
     "output_type": "stream",
     "text": [
      "Epoch [10/20], Loss: 96.59195709228516\n"
     ]
    },
    {
     "name": "stderr",
     "output_type": "stream",
     "text": [
      "100%|██████████| 313/313 [01:46<00:00,  2.93it/s]\n"
     ]
    },
    {
     "name": "stdout",
     "output_type": "stream",
     "text": [
      "Epoch [11/20], Loss: 94.7150650024414\n"
     ]
    },
    {
     "name": "stderr",
     "output_type": "stream",
     "text": [
      "100%|██████████| 313/313 [01:44<00:00,  3.00it/s]\n"
     ]
    },
    {
     "name": "stdout",
     "output_type": "stream",
     "text": [
      "Epoch [12/20], Loss: 92.09185028076172\n"
     ]
    },
    {
     "name": "stderr",
     "output_type": "stream",
     "text": [
      "100%|██████████| 313/313 [01:45<00:00,  2.98it/s]\n"
     ]
    },
    {
     "name": "stdout",
     "output_type": "stream",
     "text": [
      "Epoch [13/20], Loss: 89.64215087890625\n"
     ]
    },
    {
     "name": "stderr",
     "output_type": "stream",
     "text": [
      "100%|██████████| 313/313 [01:44<00:00,  3.00it/s]\n"
     ]
    },
    {
     "name": "stdout",
     "output_type": "stream",
     "text": [
      "Epoch [14/20], Loss: 87.81671905517578\n"
     ]
    },
    {
     "name": "stderr",
     "output_type": "stream",
     "text": [
      "100%|██████████| 313/313 [01:45<00:00,  2.97it/s]\n"
     ]
    },
    {
     "name": "stdout",
     "output_type": "stream",
     "text": [
      "Epoch [15/20], Loss: 86.11604309082031\n"
     ]
    },
    {
     "name": "stderr",
     "output_type": "stream",
     "text": [
      "100%|██████████| 313/313 [01:47<00:00,  2.83it/s]2025-10-23 02:17:40.598067: I tensorflow/core/framework/local_rendezvous.cc:407] Local rendezvous is aborting with status: OUT_OF_RANGE: End of sequence\n",
      "100%|██████████| 313/313 [01:47<00:00,  2.92it/s]\n"
     ]
    },
    {
     "name": "stdout",
     "output_type": "stream",
     "text": [
      "Epoch [16/20], Loss: 83.76197052001953\n"
     ]
    },
    {
     "name": "stderr",
     "output_type": "stream",
     "text": [
      "100%|██████████| 313/313 [01:46<00:00,  2.94it/s]\n"
     ]
    },
    {
     "name": "stdout",
     "output_type": "stream",
     "text": [
      "Epoch [17/20], Loss: 81.24954223632812\n"
     ]
    },
    {
     "name": "stderr",
     "output_type": "stream",
     "text": [
      "100%|██████████| 313/313 [01:47<00:00,  2.92it/s]\n"
     ]
    },
    {
     "name": "stdout",
     "output_type": "stream",
     "text": [
      "Epoch [18/20], Loss: 79.82430267333984\n"
     ]
    },
    {
     "name": "stderr",
     "output_type": "stream",
     "text": [
      "100%|██████████| 313/313 [01:43<00:00,  3.02it/s]\n"
     ]
    },
    {
     "name": "stdout",
     "output_type": "stream",
     "text": [
      "Epoch [19/20], Loss: 77.49896240234375\n"
     ]
    },
    {
     "name": "stderr",
     "output_type": "stream",
     "text": [
      "100%|██████████| 313/313 [01:44<00:00,  3.00it/s]"
     ]
    },
    {
     "name": "stdout",
     "output_type": "stream",
     "text": [
      "Epoch [20/20], Loss: 76.34455871582031\n"
     ]
    },
    {
     "name": "stderr",
     "output_type": "stream",
     "text": [
      "\n"
     ]
    }
   ],
   "source": [
    "# Training Loop\n",
    "num_epochs = 20\n",
    "\n",
    "# lr_schedule = tf.keras.optimizers.schedules.ExponentialDecay(\n",
    "#     initial_learning_rate=0.01,\n",
    "#     decay_steps=num_epochs,\n",
    "#     decay_rate=0.9)\n",
    "\n",
    "lr_schedule = 0.001\n",
    "adam_optimizer = tf.keras.optimizers.Adam(learning_rate=lr_schedule)\n",
    "baby_yolo.compile(optimizer=adam_optimizer, loss=loss_p, run_eagerly=True)\n",
    "\n",
    "for epoch in range(num_epochs):\n",
    "    running_loss = 0.0\n",
    "    \n",
    "    for batch in tqdm(dataset):\n",
    "        with tf.GradientTape() as tape:\n",
    "            prediction = baby_yolo(batch[0])\n",
    "            loss = loss_p(batch[1], prediction)  # Compute the loss\n",
    "        grads = tape.gradient(loss, baby_yolo.trainable_variables)\n",
    "        adam_optimizer.apply_gradients(zip(grads, baby_yolo.trainable_variables))\n",
    "        running_loss += loss.numpy()\n",
    "        \n",
    "    average_loss = running_loss / len(dataset)\n",
    "    print(f\"Epoch [{epoch+1}/{num_epochs}], Loss: {average_loss}\")\n"
   ]
  },
  {
   "cell_type": "code",
   "execution_count": 15,
   "metadata": {},
   "outputs": [
    {
     "name": "stderr",
     "output_type": "stream",
     "text": [
      "100%|██████████| 100/100 [00:00<00:00, 930.54it/s]\n"
     ]
    },
    {
     "name": "stdout",
     "output_type": "stream",
     "text": [
      "(50, 37, 37, 1)\n"
     ]
    }
   ],
   "source": [
    "VAL_COUNT = 100\n",
    "img_arr_val = []\n",
    "label_arr_val = []\n",
    "\n",
    "def process_image():\n",
    "    img, label, _ = img_gen()\n",
    "    return img, label\n",
    "\n",
    "with ThreadPoolExecutor() as executor:\n",
    "    futures = [executor.submit(process_image) for _ in range(VAL_COUNT)]\n",
    "    for future in tqdm(as_completed(futures), total=VAL_COUNT):\n",
    "        img, label = future.result()\n",
    "        # img_arr.append(img / (np.max(img) + 1)) # Normalize values to [0, 1)\n",
    "        img_arr_val.append(img / np.max(img)) # Normalize values to [0, 1]\n",
    "        label_arr_val.append(label)\n",
    "\n",
    "img_arr_val = np.array(img_arr).astype(np.float32)\n",
    "label_arr_val = np.array(label_arr).astype(np.float32)\n",
    "\n",
    "predictions = baby_yolo(img_arr_val[:50])\n",
    "print(predictions.shape)"
   ]
  },
  {
   "cell_type": "code",
   "execution_count": 17,
   "metadata": {},
   "outputs": [
    {
     "name": "stderr",
     "output_type": "stream",
     "text": [
      "Clipping input data to the valid range for imshow with RGB data ([0..1] for floats or [0..255] for integers). Got range [0.0..200.0].\n"
     ]
    },
    {
     "name": "stdout",
     "output_type": "stream",
     "text": [
      "0.8752149\n"
     ]
    },
    {
     "data": {
      "image/png": "[encoded data removed]",
      "text/plain": [
       "<Figure size 640x480 with 1 Axes>"
      ]
     },
     "metadata": {},
     "output_type": "display_data"
    }
   ],
   "source": [
    "index = np.random.randint(low=0, high=50)\n",
    "print(np.max(predictions[index]))\n",
    "img_visualization_one(img_arr_val[index], predictions[index])"
   ]
  },
  {
   "cell_type": "code",
   "execution_count": 18,
   "metadata": {},
   "outputs": [],
   "source": [
    "# SAVE MODEL #\n",
    "baby_yolo.save(\"FOLO.keras\")"
   ]
  },
  {
   "cell_type": "code",
   "execution_count": 20,
   "metadata": {},
   "outputs": [],
   "source": [
    "# SAVE WEIGHTS #\n",
    "baby_yolo.save_weights(\"FOLO_Gen.weights.h5\")"
   ]
  }
 ],
 "metadata": {
  "kernelspec": {
   "display_name": "hls4ml-Env",
   "language": "python",
   "name": "python3"
  },
  "language_info": {
   "codemirror_mode": {
    "name": "ipython",
    "version": 3
   },
   "file_extension": ".py",
   "mimetype": "text/x-python",
   "name": "python",
   "nbconvert_exporter": "python",
   "pygments_lexer": "ipython3",
   "version": "3.9.6"
  }
 },
 "nbformat": 4,
 "nbformat_minor": 2
}
