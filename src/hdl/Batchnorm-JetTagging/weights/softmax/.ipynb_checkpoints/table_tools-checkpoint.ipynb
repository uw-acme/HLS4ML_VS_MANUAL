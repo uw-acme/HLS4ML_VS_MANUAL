{
 "cells": [
  {
   "cell_type": "code",
   "execution_count": null,
   "id": "23149ff6",
   "metadata": {},
   "outputs": [],
   "source": [
    "import os\n",
    "import numpy as np\n",
    "os.chdir(r\"src\\hdl\\Batchnorm-JetTagging\\weights\\softmax\")\n",
    "def char_to_int(char) -> int:\n",
    "    try:\n",
    "        return int(char)\n",
    "    except:\n",
    "        lookup = \"ABCDEF\"\n",
    "        return 10+lookup.find(char.upper())\n",
    "def hex_to_dec(number) -> int:\n",
    "    output = 0\n",
    "    current_n = len(number) - 1\n",
    "    for char in number:\n",
    "        output+= (char_to_int(char))*(16**current_n)\n",
    "        current_n-=1\n",
    "    return output\n",
    "def dec_to_hex(number: int) -> str:\n",
    "    string = \"\"\n",
    "    while (number!=0):\n",
    "        res = number%16\n",
    "        if (res>=10):\n",
    "            res=\"ABCDEF\"[res-10]\n",
    "        string=f\"{res}{string}\"\n",
    "        number=int(number/16)\n",
    "    return string\n"
   ]
  },
  {
   "cell_type": "code",
   "execution_count": null,
   "id": "e82723fc",
   "metadata": {},
   "outputs": [],
   "source": []
  }
 ],
 "metadata": {
  "kernelspec": {
   "display_name": "Python 3",
   "language": "python",
   "name": "python3"
  },
  "language_info": {
   "name": "python",
   "version": "3.11.9"
  }
 },
 "nbformat": 4,
 "nbformat_minor": 5
}
