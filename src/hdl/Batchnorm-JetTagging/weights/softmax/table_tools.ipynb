{
 "cells": [
  {
   "cell_type": "code",
   "execution_count": null,
   "id": "23149ff6",
   "metadata": {},
   "outputs": [],
   "source": [
    "import os\n",
    "import numpy as np\n",
    "def char_to_int(char) -> int:\n",
    "    try:\n",
    "        return int(char)\n",
    "    except:\n",
    "        lookup = \"ABCDEF\"\n",
    "        return 10+lookup.find(char.upper())\n",
    "def hex_to_dec(number) -> int:\n",
    "    output = 0\n",
    "    current_n = len(number) - 1\n",
    "    for char in number:\n",
    "        output+= (char_to_int(char))*(16**current_n)\n",
    "        current_n-=1\n",
    "    return output\n",
    "def hex_to_dec_signed(number) -> int:\n",
    "    output = 0\n",
    "    neg = char[0]==\"1\"\n",
    "    current_n = len(number) - 2\n",
    "    for char in number[1:]:\n",
    "        output+= (char_to_int(char))*(16**current_n)\n",
    "        current_n-=1\n",
    "    return -1*output if neg else 1\n",
    "def dec_to_hex(number: int, bits: int) -> str:\n",
    "    string = \"\"\n",
    "    while (number!=0):\n",
    "        res = number%16\n",
    "        if (res>=10):\n",
    "            res=\"ABCDEF\"[res-10]\n",
    "        string=f\"{res}{string}\"\n",
    "        number=int(number/16)\n",
    "    return string\n",
    "def dec_to_bin(number: int, bits=-1):\n",
    "    neg=False\n",
    "    out=\"\"\n",
    "    if (number<0):\n",
    "        number*=-1\n",
    "        number-=1\n",
    "        neg=True\n",
    "    while (number>0):\n",
    "        res = number%2\n",
    "        if (neg):\n",
    "            res= 0 if (res==1) else 1\n",
    "        out=f\"{res}{out}\"\n",
    "        if (len(out)==(bits-1)):\n",
    "            break\n",
    "        number=int(number/2)\n",
    "        \n",
    "    if (neg):\n",
    "        out=f\"{1}{out}\"\n",
    "    else: out=f\"{0}{out}\"\n",
    "    if (len(out)==0):\n",
    "        out=\"0\"\n",
    "    while (len(out)<bits):\n",
    "        out=f\"{out[0]}{out}\"\n",
    "    return out\n",
    "\n",
    "def dec_to_base(number: int, base: int) -> str:\n",
    "    string = \"\"\n",
    "    while (number!=0):\n",
    "        res = number%base\n",
    "        if (res>=10):\n",
    "            res=\"ABCDEFGHIJKLMNOPQRSTUVWXYZ\"[res-10]\n",
    "        string=f\"{res}{string}\"\n",
    "        number=int(number/base)\n",
    "    return string\n"
   ]
  },
  {
   "cell_type": "code",
   "execution_count": 35,
   "id": "f5f27a95",
   "metadata": {},
   "outputs": [],
   "source": [
    "with open(r\"softmax_exp_18_10_10_4.dat\") as f:\n",
    "    content = f.read()\n",
    "    data = content.split(\"\\n\")\n",
    "numbers = []\n",
    "for line in data:\n",
    "    res = hex_to_dec(line)\n",
    "    numbers.append(res)\n",
    "numbers=np.array(numbers)\n"
   ]
  },
  {
   "cell_type": "code",
   "execution_count": 36,
   "id": "0fc5f0df",
   "metadata": {},
   "outputs": [
    {
     "data": {
      "image/png": "[encoded data removed]",
      "text/plain": [
       "<Figure size 640x480 with 1 Axes>"
      ]
     },
     "metadata": {},
     "output_type": "display_data"
    }
   ],
   "source": [
    "import matplotlib.pyplot as plt\n",
    "plt.plot(numbers)\n",
    "plt.show()"
   ]
  },
  {
   "cell_type": "code",
   "execution_count": 60,
   "id": "4cd0397b",
   "metadata": {},
   "outputs": [
    {
     "name": "stdout",
     "output_type": "stream",
     "text": [
      "7.984375\n",
      "-8\n",
      "0.015625\n",
      "1024\n"
     ]
    }
   ],
   "source": [
    "# Custom range\n",
    "width_lookup=10\n",
    "nfrac_lookup=6\n",
    "width = 18\n",
    "nfrac = 10\n",
    "min_val = 2**(-1*nfrac)\n",
    "MIN=-2**(width_lookup-1-nfrac_lookup)\n",
    "MAX=2**(width_lookup-1-nfrac_lookup)-2**(-nfrac_lookup)\n",
    "length = 2**width_lookup\n",
    "interval = 1/(2**nfrac_lookup)\n",
    "print(MAX)\n",
    "print(MIN)\n",
    "print(interval)\n",
    "print(length)"
   ]
  },
  {
   "cell_type": "code",
   "execution_count": 61,
   "id": "e4ee3aa0",
   "metadata": {},
   "outputs": [
    {
     "name": "stdout",
     "output_type": "stream",
     "text": [
      "0.015625\n",
      "0.015625\n"
     ]
    }
   ],
   "source": [
    "ind=np.linspace(MIN, MAX, length)\n",
    "print(ind[1]-ind[0])\n",
    "print(interval)"
   ]
  },
  {
   "cell_type": "code",
   "execution_count": 102,
   "id": "c41d7933",
   "metadata": {},
   "outputs": [],
   "source": [
    "def index_of(arr, item):\n",
    "    for i, ent in enumerate(arr):\n",
    "        if (ent==item):\n",
    "            return i\n",
    "    return -1"
   ]
  },
  {
   "cell_type": "code",
   "execution_count": 107,
   "id": "3169b1ae",
   "metadata": {},
   "outputs": [
    {
     "name": "stdout",
     "output_type": "stream",
     "text": [
      "<function linspace at 0x000002198985DA80>\n"
     ]
    }
   ],
   "source": [
    "print(np.linspace)"
   ]
  },
  {
   "cell_type": "code",
   "execution_count": null,
   "id": "5f1c4604",
   "metadata": {},
   "outputs": [],
   "source": [
    "def table_gen(eq, width_lookup, nfrac_lookup, width, nfrac, signed, name):\n",
    "    MIN=-2**(width_lookup-1-nfrac_lookup)\n",
    "    MAX=2**(width_lookup-1-nfrac_lookup)-2**(-nfrac_lookup)\n",
    "    ind=np.linspace(MIN, MAX, length)\n",
    "    arr = eq(ind)\n",
    "    split = index_of(arr, 1)\n",
    "    arr=np.concatenate((arr[split:],arr[0:split]))\n",
    "    sig_int = 1 if signed else 0\n",
    "    max_val=(2**(width-sig_int)-1)/(2**nfrac)\n",
    "    with open(f\"{name}_table_{width}_{nfrac}_{width_lookup}_{nfrac_lookup}.dat\", \"w\") as f:\n",
    "        for elem in arr:\n",
    "            elem = min(elem, max_val)\n",
    "            item = dec_to_bin(int(elem*(2**nfrac)), width+1-sig_int)\n",
    "            f.write(item[1-sig_int:])\n",
    "            f.write(\"\\n\")"
   ]
  },
  {
   "cell_type": "code",
   "execution_count": 110,
   "id": "58072be2",
   "metadata": {},
   "outputs": [],
   "source": [
    "table_gen(np.exp, width_lookup, nfrac_lookup, width, nfrac, False, \"exp\")"
   ]
  },
  {
   "cell_type": "code",
   "execution_count": 42,
   "id": "252edd75",
   "metadata": {},
   "outputs": [
    {
     "name": "stdout",
     "output_type": "stream",
     "text": [
      "7.984375\n",
      "-8\n",
      "0.015625\n",
      "1024\n"
     ]
    }
   ],
   "source": [
    "# Range of data should be +-(2**(width_lookup-1-nfrac_lookup)-2**(-nfrac_lookup))\n",
    "width_lookup=10\n",
    "nfrac_lookup=6\n",
    "width = 18\n",
    "nfrac = 10\n",
    "MIN=-2**(width_lookup-1-nfrac_lookup)\n",
    "MAX=2**(width_lookup-1-nfrac_lookup)-2**(-nfrac_lookup)\n",
    "length = 2**width_lookup\n",
    "interval = 1/(2**nfrac_lookup)\n",
    "print(MAX)\n",
    "print(MIN)\n",
    "print(interval)\n",
    "print(length)"
   ]
  },
  {
   "cell_type": "code",
   "execution_count": 106,
   "id": "7ba21e64",
   "metadata": {},
   "outputs": [
    {
     "name": "stdout",
     "output_type": "stream",
     "text": [
      "[1.         1.01574771 1.03174341 ... 0.95420667 0.96923323 0.98449644]\n"
     ]
    }
   ],
   "source": [
    "ind=np.linspace(MIN, MAX, length)\n",
    "arr = np.exp(ind)\n",
    "split = index_of(arr, 1)\n",
    "arr=np.concatenate((arr[split:],arr[0:split]))\n",
    "print(arr)\n",
    "max_val=(2**width-1)/(2**nfrac)\n",
    "with open(f\"exp_table_{width}_{nfrac}_{width_lookup}_{nfrac_lookup}\", \"w\") as f:\n",
    "    for elem in arr:\n",
    "        elem = min(elem, max_val)\n",
    "        item = dec_to_bin(int(elem*(2**nfrac)), width+1)\n",
    "        f.write(item)\n",
    "        f.write(\"\\n\")"
   ]
  },
  {
   "cell_type": "code",
   "execution_count": 62,
   "id": "afccd4b7",
   "metadata": {},
   "outputs": [
    {
     "data": {
      "image/png": "[encoded data removed]",
      "text/plain": [
       "<Figure size 640x480 with 1 Axes>"
      ]
     },
     "metadata": {},
     "output_type": "display_data"
    },
    {
     "data": {
      "image/png": "[encoded data removed]",
      "text/plain": [
       "<Figure size 640x480 with 1 Axes>"
      ]
     },
     "metadata": {},
     "output_type": "display_data"
    }
   ],
   "source": [
    "import matplotlib.pyplot as plt\n",
    "max_val = (2**(width-nfrac))-1/(2**nfrac)\n",
    "arr = np.exp(ind)\n",
    "max = np.ones(length)*max_val\n",
    "plt.plot(ind, arr)\n",
    "plt.plot(ind, max)\n",
    "\n",
    "plt.show()\n",
    "\n",
    "arr = np.round((arr/min_val))*min_val\n",
    "plt.plot(ind, arr)\n",
    "plt.show()\n"
   ]
  },
  {
   "cell_type": "code",
   "execution_count": null,
   "id": "e82723fc",
   "metadata": {},
   "outputs": [
    {
     "name": "stdout",
     "output_type": "stream",
     "text": [
      "[1197, 1, 1198]\n"
     ]
    },
    {
     "name": "stderr",
     "output_type": "stream",
     "text": [
      "C:\\Users\\caleb\\AppData\\Local\\Temp\\ipykernel_17896\\3294398034.py:21: OptimizeWarning: Covariance of the parameters could not be estimated\n",
      "  param, cov = opt.curve_fit(fit_eq, test_ind, test_arr)\n"
     ]
    },
    {
     "data": {
      "image/png": "[encoded data removed]",
      "text/plain": [
       "<Figure size 640x480 with 1 Axes>"
      ]
     },
     "metadata": {},
     "output_type": "display_data"
    }
   ],
   "source": [
    "with open(r\"softmax_stable_ap_fixed_ap_fixed_16_10_5_3_0_softmax_config16_s_exp_table1_rom.dat\") as f:\n",
    "    content = f.read()\n",
    "    data = content.split(\"\\n\")\n",
    "numbers = []\n",
    "for line in data:\n",
    "    res = hex_to_dec(line)\n",
    "    numbers.append(res)\n",
    "nfrac_lookup=10\n",
    "numbers=np.array(numbers)\n",
    "import matplotlib.pyplot as plt\n",
    "ind = np.linspace(-32,32, 1024)\n",
    "\n",
    "fixed = np.concatenate((numbers[512:],numbers[:512]))\n",
    "#fixed=fixed/2**nfrac_lookup\n",
    "plt.plot(fixed[500:517])\n",
    "import scipy.optimize as opt\n",
    "def fit_eq(x, a, b, c):\n",
    "    y = a*np.exp(b*x-c)\n",
    "    return y\n",
    "test_arr = fixed[500:517]\n",
    "test_ind = np.linspace(0,17,len(test_arr))\n",
    "param, cov = opt.curve_fit(fit_eq, test_ind, test_arr)\n",
    "print([int(np.round(x)) for x in param])\n",
    "#plt.plot(np.exp(ind))\n",
    "plt.show()"
   ]
  },
  {
   "cell_type": "code",
   "execution_count": null,
   "id": "22c42f55",
   "metadata": {},
   "outputs": [],
   "source": []
  }
 ],
 "metadata": {
  "kernelspec": {
   "display_name": "Python 3",
   "language": "python",
   "name": "python3"
  },
  "language_info": {
   "codemirror_mode": {
    "name": "ipython",
    "version": 3
   },
   "file_extension": ".py",
   "mimetype": "text/x-python",
   "name": "python",
   "nbconvert_exporter": "python",
   "pygments_lexer": "ipython3",
   "version": "3.11.9"
  }
 },
 "nbformat": 4,
 "nbformat_minor": 5
}
